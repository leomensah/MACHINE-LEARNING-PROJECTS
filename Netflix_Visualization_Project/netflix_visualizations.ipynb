{
  "nbformat": 4,
  "nbformat_minor": 0,
  "metadata": {
    "kernelspec": {
      "display_name": "Python 3",
      "language": "python",
      "name": "python3"
    },
    "language_info": {
      "codemirror_mode": {
        "name": "ipython",
        "version": 3
      },
      "file_extension": ".py",
      "mimetype": "text/x-python",
      "name": "python",
      "nbconvert_exporter": "python",
      "pygments_lexer": "ipython3",
      "version": "3.6.4"
    },
    "colab": {
      "name": "netflix_visualizations.ipynb",
      "provenance": [],
      "collapsed_sections": [],
      "include_colab_link": true
    }
  },
  "cells": [
    {
      "cell_type": "markdown",
      "metadata": {
        "id": "view-in-github",
        "colab_type": "text"
      },
      "source": [
        "<a href=\"https://colab.research.google.com/github/Leonard-Boante-Mensah/Netflix_Visualization_Project/blob/main/netflix_visualizations.ipynb\" target=\"_parent\"><img src=\"https://colab.research.google.com/assets/colab-badge.svg\" alt=\"Open In Colab\"/></a>"
      ]
    },
    {
      "cell_type": "markdown",
      "metadata": {
        "id": "GHGmp3VFF42p"
      },
      "source": [
        "# Introduction\n",
        "\n",
        "In this project, you will act as a data visualization developer at Yahoo Finance! You will be helping the \"Netflix Stock Profile\" team visualize the Netflix stock data. In finance, a _stock profile_ is a series of studies, visualizations, and analyses that dive into different aspects a publicly traded company's data. \n",
        "\n",
        "For the purposes of the project, you will only visualize data for the year of 2017. Specifically, you will be in charge of creating the following visualizations:\n",
        "+ The distribution of the stock prices for the past year\n",
        "+ Netflix's earnings and revenue in the last four quarters\n",
        "+ The actual vs. estimated earnings per share for the four quarters in 2017\n",
        "+ A comparison of the Netflix Stock price vs the Dow Jones Industrial Average price in 2017 \n",
        "\n",
        "Note: We are using the Dow Jones Industrial Average to compare the Netflix stock to the larter stock market. Learn more about why the Dow Jones Industrial Average is a general reflection of the larger stock market [here](https://www.investopedia.com/terms/d/djia.asp).\n",
        "\n",
        "During this project, you will analyze, prepare, and plot data. Your visualizations will help the financial analysts asses the risk of the Netflix stock.\n",
        "\n",
        "After you complete your visualizations, you'll be creating a presentation to share the images with the rest of the Netflix Stock Profile team. Your slides should include:\n",
        "\n",
        "- A title slide\n",
        "- A list of your visualizations and your role in their creation for the \"Stock Profile\" team\n",
        "- A visualization of the distribution of the stock prices for Netflix in 2017\n",
        "- A visualization and a summary of Netflix stock and revenue for the past four quarters and a summary\n",
        "- A visualization and a brief summary of their earned versus actual earnings per share\n",
        "- A visualization of Netflix stock against the Dow Jones stock (to get a sense of the market) in 2017\n",
        "\n",
        "Financial Data Source: [Yahoo Finance](https://finance.yahoo.com/quote/DATA/)\n"
      ]
    },
    {
      "cell_type": "code",
      "metadata": {
        "colab": {
          "base_uri": "https://localhost:8080/"
        },
        "id": "sOixiYkRGD2D",
        "outputId": "cec9e3d6-5d35-44fd-f178-e358ab32fe0e"
      },
      "source": [
        "from google.colab import drive\n",
        "drive.mount('/content/drive')"
      ],
      "execution_count": 1,
      "outputs": [
        {
          "output_type": "stream",
          "text": [
            "Mounted at /content/drive\n"
          ],
          "name": "stdout"
        }
      ]
    },
    {
      "cell_type": "markdown",
      "metadata": {
        "id": "teCKyMUTF42s"
      },
      "source": [
        "## Step 1\n",
        "\n",
        "Let's get our notebook ready for visualizing! Import the modules that you'll be using in this project:\n",
        "- `from matplotlib import pyplot as plt`\n",
        "- `import pandas as pd`\n",
        "- `import seaborn as sns`"
      ]
    },
    {
      "cell_type": "code",
      "metadata": {
        "id": "aVBWDcoXF42t"
      },
      "source": [
        "from matplotlib import pyplot as plt\n",
        "import pandas as pd\n",
        "import seaborn as sns"
      ],
      "execution_count": 2,
      "outputs": []
    },
    {
      "cell_type": "markdown",
      "metadata": {
        "id": "Csp4TDK1F42t"
      },
      "source": [
        "## Step 2"
      ]
    },
    {
      "cell_type": "markdown",
      "metadata": {
        "id": "HaztGosVF42u"
      },
      "source": [
        "Let's load the datasets and inspect them."
      ]
    },
    {
      "cell_type": "markdown",
      "metadata": {
        "id": "3-YT_ttGF42u"
      },
      "source": [
        "Load **NFLX.csv** into a DataFrame called `netflix_stocks`. Then, quickly inspect the DataFrame using `print()`.\n",
        "\n",
        "Hint: Use the `pd.read_csv()`function).\n",
        "\n",
        "Note: In the Yahoo Data, `Adj Close` represents the adjusted close price adjusted for both dividends and splits. This means this is the true closing stock price for a given business day."
      ]
    },
    {
      "cell_type": "code",
      "metadata": {
        "colab": {
          "base_uri": "https://localhost:8080/",
          "height": 359
        },
        "id": "Dh5HtmI6F42v",
        "outputId": "8f432b14-e517-49da-93c8-614e04a0cf15"
      },
      "source": [
        "netflix_stocks = pd.read_csv('/content/drive/MyDrive/MY PROJECT DATASETS/Netflix Stocks Capstone/Netflix Stocks Capstone/NFLX.csv')\n",
        "netflix_stocks.head(10)"
      ],
      "execution_count": 6,
      "outputs": [
        {
          "output_type": "execute_result",
          "data": {
            "text/html": [
              "<div>\n",
              "<style scoped>\n",
              "    .dataframe tbody tr th:only-of-type {\n",
              "        vertical-align: middle;\n",
              "    }\n",
              "\n",
              "    .dataframe tbody tr th {\n",
              "        vertical-align: top;\n",
              "    }\n",
              "\n",
              "    .dataframe thead th {\n",
              "        text-align: right;\n",
              "    }\n",
              "</style>\n",
              "<table border=\"1\" class=\"dataframe\">\n",
              "  <thead>\n",
              "    <tr style=\"text-align: right;\">\n",
              "      <th></th>\n",
              "      <th>Date</th>\n",
              "      <th>Open</th>\n",
              "      <th>High</th>\n",
              "      <th>Low</th>\n",
              "      <th>Close</th>\n",
              "      <th>Adj Close</th>\n",
              "      <th>Volume</th>\n",
              "    </tr>\n",
              "  </thead>\n",
              "  <tbody>\n",
              "    <tr>\n",
              "      <th>0</th>\n",
              "      <td>2017-01-01</td>\n",
              "      <td>124.959999</td>\n",
              "      <td>143.460007</td>\n",
              "      <td>124.309998</td>\n",
              "      <td>140.710007</td>\n",
              "      <td>140.710007</td>\n",
              "      <td>181772200</td>\n",
              "    </tr>\n",
              "    <tr>\n",
              "      <th>1</th>\n",
              "      <td>2017-02-01</td>\n",
              "      <td>141.199997</td>\n",
              "      <td>145.949997</td>\n",
              "      <td>139.050003</td>\n",
              "      <td>142.130005</td>\n",
              "      <td>142.130005</td>\n",
              "      <td>91432000</td>\n",
              "    </tr>\n",
              "    <tr>\n",
              "      <th>2</th>\n",
              "      <td>2017-03-01</td>\n",
              "      <td>142.839996</td>\n",
              "      <td>148.289993</td>\n",
              "      <td>138.259995</td>\n",
              "      <td>147.809998</td>\n",
              "      <td>147.809998</td>\n",
              "      <td>110692700</td>\n",
              "    </tr>\n",
              "    <tr>\n",
              "      <th>3</th>\n",
              "      <td>2017-04-01</td>\n",
              "      <td>146.699997</td>\n",
              "      <td>153.520004</td>\n",
              "      <td>138.660004</td>\n",
              "      <td>152.199997</td>\n",
              "      <td>152.199997</td>\n",
              "      <td>149769200</td>\n",
              "    </tr>\n",
              "    <tr>\n",
              "      <th>4</th>\n",
              "      <td>2017-05-01</td>\n",
              "      <td>151.910004</td>\n",
              "      <td>164.750000</td>\n",
              "      <td>151.610001</td>\n",
              "      <td>163.070007</td>\n",
              "      <td>163.070007</td>\n",
              "      <td>116795800</td>\n",
              "    </tr>\n",
              "    <tr>\n",
              "      <th>5</th>\n",
              "      <td>2017-06-01</td>\n",
              "      <td>163.520004</td>\n",
              "      <td>166.869995</td>\n",
              "      <td>147.300003</td>\n",
              "      <td>149.410004</td>\n",
              "      <td>149.410004</td>\n",
              "      <td>135675800</td>\n",
              "    </tr>\n",
              "    <tr>\n",
              "      <th>6</th>\n",
              "      <td>2017-07-01</td>\n",
              "      <td>149.800003</td>\n",
              "      <td>191.500000</td>\n",
              "      <td>144.250000</td>\n",
              "      <td>181.660004</td>\n",
              "      <td>181.660004</td>\n",
              "      <td>185144700</td>\n",
              "    </tr>\n",
              "    <tr>\n",
              "      <th>7</th>\n",
              "      <td>2017-08-01</td>\n",
              "      <td>182.490005</td>\n",
              "      <td>184.619995</td>\n",
              "      <td>164.229996</td>\n",
              "      <td>174.710007</td>\n",
              "      <td>174.710007</td>\n",
              "      <td>136523100</td>\n",
              "    </tr>\n",
              "    <tr>\n",
              "      <th>8</th>\n",
              "      <td>2017-09-01</td>\n",
              "      <td>175.550003</td>\n",
              "      <td>189.949997</td>\n",
              "      <td>172.440002</td>\n",
              "      <td>181.350006</td>\n",
              "      <td>181.350006</td>\n",
              "      <td>111427900</td>\n",
              "    </tr>\n",
              "    <tr>\n",
              "      <th>9</th>\n",
              "      <td>2017-10-01</td>\n",
              "      <td>182.110001</td>\n",
              "      <td>204.380005</td>\n",
              "      <td>176.580002</td>\n",
              "      <td>196.429993</td>\n",
              "      <td>196.429993</td>\n",
              "      <td>208657800</td>\n",
              "    </tr>\n",
              "  </tbody>\n",
              "</table>\n",
              "</div>"
            ],
            "text/plain": [
              "         Date        Open        High  ...       Close   Adj Close     Volume\n",
              "0  2017-01-01  124.959999  143.460007  ...  140.710007  140.710007  181772200\n",
              "1  2017-02-01  141.199997  145.949997  ...  142.130005  142.130005   91432000\n",
              "2  2017-03-01  142.839996  148.289993  ...  147.809998  147.809998  110692700\n",
              "3  2017-04-01  146.699997  153.520004  ...  152.199997  152.199997  149769200\n",
              "4  2017-05-01  151.910004  164.750000  ...  163.070007  163.070007  116795800\n",
              "5  2017-06-01  163.520004  166.869995  ...  149.410004  149.410004  135675800\n",
              "6  2017-07-01  149.800003  191.500000  ...  181.660004  181.660004  185144700\n",
              "7  2017-08-01  182.490005  184.619995  ...  174.710007  174.710007  136523100\n",
              "8  2017-09-01  175.550003  189.949997  ...  181.350006  181.350006  111427900\n",
              "9  2017-10-01  182.110001  204.380005  ...  196.429993  196.429993  208657800\n",
              "\n",
              "[10 rows x 7 columns]"
            ]
          },
          "metadata": {
            "tags": []
          },
          "execution_count": 6
        }
      ]
    },
    {
      "cell_type": "markdown",
      "metadata": {
        "id": "l1gnp4BAF42v"
      },
      "source": [
        "Load **DJI.csv** into a DataFrame called `dowjones_stocks`. Then, quickly inspect the DataFrame using `print()`.\n",
        "\n",
        "Note: You can learn more about why the Dow Jones Industrial Average is a industry reflection of the larger stock market [here](https://www.investopedia.com/terms/d/djia.asp). \n"
      ]
    },
    {
      "cell_type": "code",
      "metadata": {
        "colab": {
          "base_uri": "https://localhost:8080/",
          "height": 359
        },
        "id": "zsfbB6J7F42w",
        "outputId": "e9b0f080-dde5-42ab-9ccb-8c52d4e9a20b"
      },
      "source": [
        "dowjones_stocks = pd.read_csv('/content/drive/MyDrive/MY PROJECT DATASETS/Netflix Stocks Capstone/Netflix Stocks Capstone/DJI.csv')\n",
        "\n",
        "dowjones_stocks.head(10)"
      ],
      "execution_count": 7,
      "outputs": [
        {
          "output_type": "execute_result",
          "data": {
            "text/html": [
              "<div>\n",
              "<style scoped>\n",
              "    .dataframe tbody tr th:only-of-type {\n",
              "        vertical-align: middle;\n",
              "    }\n",
              "\n",
              "    .dataframe tbody tr th {\n",
              "        vertical-align: top;\n",
              "    }\n",
              "\n",
              "    .dataframe thead th {\n",
              "        text-align: right;\n",
              "    }\n",
              "</style>\n",
              "<table border=\"1\" class=\"dataframe\">\n",
              "  <thead>\n",
              "    <tr style=\"text-align: right;\">\n",
              "      <th></th>\n",
              "      <th>Date</th>\n",
              "      <th>Open</th>\n",
              "      <th>High</th>\n",
              "      <th>Low</th>\n",
              "      <th>Close</th>\n",
              "      <th>Adj Close</th>\n",
              "      <th>Volume</th>\n",
              "    </tr>\n",
              "  </thead>\n",
              "  <tbody>\n",
              "    <tr>\n",
              "      <th>0</th>\n",
              "      <td>2017-01-01</td>\n",
              "      <td>19872.859375</td>\n",
              "      <td>20125.580078</td>\n",
              "      <td>19677.939453</td>\n",
              "      <td>19864.089844</td>\n",
              "      <td>19864.089844</td>\n",
              "      <td>6482450000</td>\n",
              "    </tr>\n",
              "    <tr>\n",
              "      <th>1</th>\n",
              "      <td>2017-02-01</td>\n",
              "      <td>19923.810547</td>\n",
              "      <td>20851.330078</td>\n",
              "      <td>19831.089844</td>\n",
              "      <td>20812.240234</td>\n",
              "      <td>20812.240234</td>\n",
              "      <td>6185580000</td>\n",
              "    </tr>\n",
              "    <tr>\n",
              "      <th>2</th>\n",
              "      <td>2017-03-01</td>\n",
              "      <td>20957.289063</td>\n",
              "      <td>21169.109375</td>\n",
              "      <td>20412.800781</td>\n",
              "      <td>20663.220703</td>\n",
              "      <td>20663.220703</td>\n",
              "      <td>6941970000</td>\n",
              "    </tr>\n",
              "    <tr>\n",
              "      <th>3</th>\n",
              "      <td>2017-04-01</td>\n",
              "      <td>20665.169922</td>\n",
              "      <td>21070.900391</td>\n",
              "      <td>20379.550781</td>\n",
              "      <td>20940.509766</td>\n",
              "      <td>20940.509766</td>\n",
              "      <td>5392630000</td>\n",
              "    </tr>\n",
              "    <tr>\n",
              "      <th>4</th>\n",
              "      <td>2017-05-01</td>\n",
              "      <td>20962.730469</td>\n",
              "      <td>21112.320313</td>\n",
              "      <td>20553.449219</td>\n",
              "      <td>21008.650391</td>\n",
              "      <td>21008.650391</td>\n",
              "      <td>6613570000</td>\n",
              "    </tr>\n",
              "    <tr>\n",
              "      <th>5</th>\n",
              "      <td>2017-06-01</td>\n",
              "      <td>21030.550781</td>\n",
              "      <td>21535.029297</td>\n",
              "      <td>20994.220703</td>\n",
              "      <td>21349.630859</td>\n",
              "      <td>21349.630859</td>\n",
              "      <td>7214590000</td>\n",
              "    </tr>\n",
              "    <tr>\n",
              "      <th>6</th>\n",
              "      <td>2017-07-01</td>\n",
              "      <td>21392.300781</td>\n",
              "      <td>21929.800781</td>\n",
              "      <td>21279.300781</td>\n",
              "      <td>21891.119141</td>\n",
              "      <td>21891.119141</td>\n",
              "      <td>5569720000</td>\n",
              "    </tr>\n",
              "    <tr>\n",
              "      <th>7</th>\n",
              "      <td>2017-08-01</td>\n",
              "      <td>21961.419922</td>\n",
              "      <td>22179.109375</td>\n",
              "      <td>21600.339844</td>\n",
              "      <td>21948.099609</td>\n",
              "      <td>21948.099609</td>\n",
              "      <td>6150060000</td>\n",
              "    </tr>\n",
              "    <tr>\n",
              "      <th>8</th>\n",
              "      <td>2017-09-01</td>\n",
              "      <td>21981.769531</td>\n",
              "      <td>22419.509766</td>\n",
              "      <td>21709.630859</td>\n",
              "      <td>22405.089844</td>\n",
              "      <td>22405.089844</td>\n",
              "      <td>6342130000</td>\n",
              "    </tr>\n",
              "    <tr>\n",
              "      <th>9</th>\n",
              "      <td>2017-10-01</td>\n",
              "      <td>22423.470703</td>\n",
              "      <td>23485.250000</td>\n",
              "      <td>22416.000000</td>\n",
              "      <td>23377.240234</td>\n",
              "      <td>23377.240234</td>\n",
              "      <td>7302910000</td>\n",
              "    </tr>\n",
              "  </tbody>\n",
              "</table>\n",
              "</div>"
            ],
            "text/plain": [
              "         Date          Open  ...     Adj Close      Volume\n",
              "0  2017-01-01  19872.859375  ...  19864.089844  6482450000\n",
              "1  2017-02-01  19923.810547  ...  20812.240234  6185580000\n",
              "2  2017-03-01  20957.289063  ...  20663.220703  6941970000\n",
              "3  2017-04-01  20665.169922  ...  20940.509766  5392630000\n",
              "4  2017-05-01  20962.730469  ...  21008.650391  6613570000\n",
              "5  2017-06-01  21030.550781  ...  21349.630859  7214590000\n",
              "6  2017-07-01  21392.300781  ...  21891.119141  5569720000\n",
              "7  2017-08-01  21961.419922  ...  21948.099609  6150060000\n",
              "8  2017-09-01  21981.769531  ...  22405.089844  6342130000\n",
              "9  2017-10-01  22423.470703  ...  23377.240234  7302910000\n",
              "\n",
              "[10 rows x 7 columns]"
            ]
          },
          "metadata": {
            "tags": []
          },
          "execution_count": 7
        }
      ]
    },
    {
      "cell_type": "markdown",
      "metadata": {
        "id": "-_MKidNeF42w"
      },
      "source": [
        "Load **NFLX_daily_by_quarter.csv** into a DataFrame called `netflix_stocks_quarterly`. Then, quickly inspect the DataFrame using `print()`.\n"
      ]
    },
    {
      "cell_type": "code",
      "metadata": {
        "colab": {
          "base_uri": "https://localhost:8080/",
          "height": 359
        },
        "id": "B-3O5SNYF42x",
        "outputId": "ba9f5f55-5e49-40ef-e454-6f329095c4dd"
      },
      "source": [
        "netflix_stocks_quarterly = pd.read_csv('/content/drive/MyDrive/MY PROJECT DATASETS/Netflix Stocks Capstone/Netflix Stocks Capstone/NFLX_daily_by_quarter.csv')\n",
        "\n",
        "netflix_stocks_quarterly.sample(10)"
      ],
      "execution_count": 9,
      "outputs": [
        {
          "output_type": "execute_result",
          "data": {
            "text/html": [
              "<div>\n",
              "<style scoped>\n",
              "    .dataframe tbody tr th:only-of-type {\n",
              "        vertical-align: middle;\n",
              "    }\n",
              "\n",
              "    .dataframe tbody tr th {\n",
              "        vertical-align: top;\n",
              "    }\n",
              "\n",
              "    .dataframe thead th {\n",
              "        text-align: right;\n",
              "    }\n",
              "</style>\n",
              "<table border=\"1\" class=\"dataframe\">\n",
              "  <thead>\n",
              "    <tr style=\"text-align: right;\">\n",
              "      <th></th>\n",
              "      <th>Date</th>\n",
              "      <th>Open</th>\n",
              "      <th>High</th>\n",
              "      <th>Low</th>\n",
              "      <th>Close</th>\n",
              "      <th>Adj Close</th>\n",
              "      <th>Volume</th>\n",
              "      <th>Quarter</th>\n",
              "    </tr>\n",
              "  </thead>\n",
              "  <tbody>\n",
              "    <tr>\n",
              "      <th>86</th>\n",
              "      <td>2017-05-08</td>\n",
              "      <td>156.550003</td>\n",
              "      <td>157.639999</td>\n",
              "      <td>155.300003</td>\n",
              "      <td>156.380005</td>\n",
              "      <td>156.380005</td>\n",
              "      <td>4818800</td>\n",
              "      <td>Q2</td>\n",
              "    </tr>\n",
              "    <tr>\n",
              "      <th>29</th>\n",
              "      <td>2017-02-14</td>\n",
              "      <td>143.199997</td>\n",
              "      <td>144.110001</td>\n",
              "      <td>140.050003</td>\n",
              "      <td>140.820007</td>\n",
              "      <td>140.820007</td>\n",
              "      <td>8355000</td>\n",
              "      <td>Q1</td>\n",
              "    </tr>\n",
              "    <tr>\n",
              "      <th>132</th>\n",
              "      <td>2017-07-13</td>\n",
              "      <td>158.509995</td>\n",
              "      <td>160.130005</td>\n",
              "      <td>156.979996</td>\n",
              "      <td>158.210007</td>\n",
              "      <td>158.210007</td>\n",
              "      <td>6700100</td>\n",
              "      <td>Q3</td>\n",
              "    </tr>\n",
              "    <tr>\n",
              "      <th>108</th>\n",
              "      <td>2017-06-08</td>\n",
              "      <td>166.119995</td>\n",
              "      <td>166.869995</td>\n",
              "      <td>164.839996</td>\n",
              "      <td>165.880005</td>\n",
              "      <td>165.880005</td>\n",
              "      <td>3695200</td>\n",
              "      <td>Q2</td>\n",
              "    </tr>\n",
              "    <tr>\n",
              "      <th>26</th>\n",
              "      <td>2017-02-09</td>\n",
              "      <td>144.979996</td>\n",
              "      <td>145.089996</td>\n",
              "      <td>143.580002</td>\n",
              "      <td>144.139999</td>\n",
              "      <td>144.139999</td>\n",
              "      <td>4555100</td>\n",
              "      <td>Q1</td>\n",
              "    </tr>\n",
              "    <tr>\n",
              "      <th>10</th>\n",
              "      <td>2017-01-18</td>\n",
              "      <td>133.210007</td>\n",
              "      <td>133.649994</td>\n",
              "      <td>131.059998</td>\n",
              "      <td>133.259995</td>\n",
              "      <td>133.259995</td>\n",
              "      <td>16168600</td>\n",
              "      <td>Q1</td>\n",
              "    </tr>\n",
              "    <tr>\n",
              "      <th>184</th>\n",
              "      <td>2017-09-26</td>\n",
              "      <td>180.699997</td>\n",
              "      <td>180.949997</td>\n",
              "      <td>176.550003</td>\n",
              "      <td>179.380005</td>\n",
              "      <td>179.380005</td>\n",
              "      <td>5602500</td>\n",
              "      <td>Q3</td>\n",
              "    </tr>\n",
              "    <tr>\n",
              "      <th>199</th>\n",
              "      <td>2017-10-17</td>\n",
              "      <td>200.110001</td>\n",
              "      <td>204.380005</td>\n",
              "      <td>197.770004</td>\n",
              "      <td>199.479996</td>\n",
              "      <td>199.479996</td>\n",
              "      <td>23900100</td>\n",
              "      <td>Q4</td>\n",
              "    </tr>\n",
              "    <tr>\n",
              "      <th>123</th>\n",
              "      <td>2017-06-29</td>\n",
              "      <td>152.820007</td>\n",
              "      <td>152.820007</td>\n",
              "      <td>148.000000</td>\n",
              "      <td>150.089996</td>\n",
              "      <td>150.089996</td>\n",
              "      <td>7142500</td>\n",
              "      <td>Q2</td>\n",
              "    </tr>\n",
              "    <tr>\n",
              "      <th>164</th>\n",
              "      <td>2017-08-28</td>\n",
              "      <td>166.429993</td>\n",
              "      <td>168.669998</td>\n",
              "      <td>165.600006</td>\n",
              "      <td>167.119995</td>\n",
              "      <td>167.119995</td>\n",
              "      <td>3657300</td>\n",
              "      <td>Q3</td>\n",
              "    </tr>\n",
              "  </tbody>\n",
              "</table>\n",
              "</div>"
            ],
            "text/plain": [
              "           Date        Open        High  ...   Adj Close    Volume  Quarter\n",
              "86   2017-05-08  156.550003  157.639999  ...  156.380005   4818800       Q2\n",
              "29   2017-02-14  143.199997  144.110001  ...  140.820007   8355000       Q1\n",
              "132  2017-07-13  158.509995  160.130005  ...  158.210007   6700100       Q3\n",
              "108  2017-06-08  166.119995  166.869995  ...  165.880005   3695200       Q2\n",
              "26   2017-02-09  144.979996  145.089996  ...  144.139999   4555100       Q1\n",
              "10   2017-01-18  133.210007  133.649994  ...  133.259995  16168600       Q1\n",
              "184  2017-09-26  180.699997  180.949997  ...  179.380005   5602500       Q3\n",
              "199  2017-10-17  200.110001  204.380005  ...  199.479996  23900100       Q4\n",
              "123  2017-06-29  152.820007  152.820007  ...  150.089996   7142500       Q2\n",
              "164  2017-08-28  166.429993  168.669998  ...  167.119995   3657300       Q3\n",
              "\n",
              "[10 rows x 8 columns]"
            ]
          },
          "metadata": {
            "tags": []
          },
          "execution_count": 9
        }
      ]
    },
    {
      "cell_type": "markdown",
      "metadata": {
        "id": "NMEvpLBRF42x"
      },
      "source": [
        "## Step 3"
      ]
    },
    {
      "cell_type": "markdown",
      "metadata": {
        "id": "RmqKzTWZF42y"
      },
      "source": [
        "Let's learn more about our data. The datasets are large and it may be easier to view the entire dataset locally on your computer. Open the CSV files directly from the folder you downloaded for this project.\n",
        " - `NFLX` is the stock ticker symbol for Netflix and `^DJI` is the stock ticker symbol for the Dow Jones industrial Average, which is why the CSV files are named accordingly\n",
        " - In the Yahoo Data, `Adj Close` is documented as adjusted close price adjusted for both dividends and splits.\n",
        " - You can learn more about why the Dow Jones Industrial Average is a industry reflection of the larger stock market [here](https://www.investopedia.com/terms/d/djia.asp). \n",
        " \n",
        "Answer the following questions by inspecting the data in the **NFLX.csv**,**DJI.csv**, and **NFLX_daily_by_quarter.csv** in your computer."
      ]
    },
    {
      "cell_type": "markdown",
      "metadata": {
        "id": "R_RRvYNSF42y"
      },
      "source": [
        "What year is represented in the data? Look out for the latest and earliest date."
      ]
    },
    {
      "cell_type": "code",
      "metadata": {
        "id": "GDhLALWVF42z"
      },
      "source": [
        "# 2017"
      ],
      "execution_count": null,
      "outputs": []
    },
    {
      "cell_type": "markdown",
      "metadata": {
        "id": "cjJ58B3nF42z"
      },
      "source": [
        "+ Is the data represented by days, weeks, or months? \n",
        "+ In which ways are the files different? \n",
        "+ What's different about the columns for `netflix_stocks` versus `netflix_stocks_quarterly`?"
      ]
    },
    {
      "cell_type": "code",
      "metadata": {
        "id": "4uvGu-_BF42z"
      },
      "source": [
        "'''\n",
        "The data is represented in months\n",
        "The netflix_stocks_quarterly dataset is represented daily with\n",
        "and has been grouped in 4 quarters \n",
        "\n",
        "'''\n"
      ],
      "execution_count": null,
      "outputs": []
    },
    {
      "cell_type": "markdown",
      "metadata": {
        "id": "rbZqEdNgF42z"
      },
      "source": [
        "## Step 4\n",
        "\n",
        "Great! Now that we have spent sometime looking at the data, let's look at the column names of the DataFrame `netflix_stocks` using `.head()`. "
      ]
    },
    {
      "cell_type": "code",
      "metadata": {
        "colab": {
          "base_uri": "https://localhost:8080/",
          "height": 204
        },
        "id": "eiS1ZyJWF42z",
        "outputId": "66a7fe6a-1b53-4213-f79a-14d38b9119b0"
      },
      "source": [
        "netflix_stocks.head()"
      ],
      "execution_count": 10,
      "outputs": [
        {
          "output_type": "execute_result",
          "data": {
            "text/html": [
              "<div>\n",
              "<style scoped>\n",
              "    .dataframe tbody tr th:only-of-type {\n",
              "        vertical-align: middle;\n",
              "    }\n",
              "\n",
              "    .dataframe tbody tr th {\n",
              "        vertical-align: top;\n",
              "    }\n",
              "\n",
              "    .dataframe thead th {\n",
              "        text-align: right;\n",
              "    }\n",
              "</style>\n",
              "<table border=\"1\" class=\"dataframe\">\n",
              "  <thead>\n",
              "    <tr style=\"text-align: right;\">\n",
              "      <th></th>\n",
              "      <th>Date</th>\n",
              "      <th>Open</th>\n",
              "      <th>High</th>\n",
              "      <th>Low</th>\n",
              "      <th>Close</th>\n",
              "      <th>Adj Close</th>\n",
              "      <th>Volume</th>\n",
              "    </tr>\n",
              "  </thead>\n",
              "  <tbody>\n",
              "    <tr>\n",
              "      <th>0</th>\n",
              "      <td>2017-01-01</td>\n",
              "      <td>124.959999</td>\n",
              "      <td>143.460007</td>\n",
              "      <td>124.309998</td>\n",
              "      <td>140.710007</td>\n",
              "      <td>140.710007</td>\n",
              "      <td>181772200</td>\n",
              "    </tr>\n",
              "    <tr>\n",
              "      <th>1</th>\n",
              "      <td>2017-02-01</td>\n",
              "      <td>141.199997</td>\n",
              "      <td>145.949997</td>\n",
              "      <td>139.050003</td>\n",
              "      <td>142.130005</td>\n",
              "      <td>142.130005</td>\n",
              "      <td>91432000</td>\n",
              "    </tr>\n",
              "    <tr>\n",
              "      <th>2</th>\n",
              "      <td>2017-03-01</td>\n",
              "      <td>142.839996</td>\n",
              "      <td>148.289993</td>\n",
              "      <td>138.259995</td>\n",
              "      <td>147.809998</td>\n",
              "      <td>147.809998</td>\n",
              "      <td>110692700</td>\n",
              "    </tr>\n",
              "    <tr>\n",
              "      <th>3</th>\n",
              "      <td>2017-04-01</td>\n",
              "      <td>146.699997</td>\n",
              "      <td>153.520004</td>\n",
              "      <td>138.660004</td>\n",
              "      <td>152.199997</td>\n",
              "      <td>152.199997</td>\n",
              "      <td>149769200</td>\n",
              "    </tr>\n",
              "    <tr>\n",
              "      <th>4</th>\n",
              "      <td>2017-05-01</td>\n",
              "      <td>151.910004</td>\n",
              "      <td>164.750000</td>\n",
              "      <td>151.610001</td>\n",
              "      <td>163.070007</td>\n",
              "      <td>163.070007</td>\n",
              "      <td>116795800</td>\n",
              "    </tr>\n",
              "  </tbody>\n",
              "</table>\n",
              "</div>"
            ],
            "text/plain": [
              "         Date        Open        High  ...       Close   Adj Close     Volume\n",
              "0  2017-01-01  124.959999  143.460007  ...  140.710007  140.710007  181772200\n",
              "1  2017-02-01  141.199997  145.949997  ...  142.130005  142.130005   91432000\n",
              "2  2017-03-01  142.839996  148.289993  ...  147.809998  147.809998  110692700\n",
              "3  2017-04-01  146.699997  153.520004  ...  152.199997  152.199997  149769200\n",
              "4  2017-05-01  151.910004  164.750000  ...  163.070007  163.070007  116795800\n",
              "\n",
              "[5 rows x 7 columns]"
            ]
          },
          "metadata": {
            "tags": []
          },
          "execution_count": 10
        }
      ]
    },
    {
      "cell_type": "markdown",
      "metadata": {
        "id": "2wUFEejCF420"
      },
      "source": [
        "What do you notice? The first two column names are one word each, and the only one that is not is `Adj Close`! \n",
        "\n",
        "The term `Adj Close` is a confusing term if you don't read the Yahoo Documentation. In Yahoo, `Adj Close` is documented as adjusted close price adjusted for both dividends and splits.\n",
        "\n",
        "This means this is the column with the true closing price, so these data are very important.\n",
        "\n",
        "Use Pandas to change the name of of the column to `Adj Close` to `Price` so that it is easier to work with the data. Remember to use `inplace=True`.\n",
        "\n",
        "Do this for the Dow Jones and Netflix Quarterly pandas dataframes as well.\n",
        "Hint: Use [`.rename()`](https://pandas.pydata.org/pandas-docs/stable/generated/pandas.DataFrame.rename.html)).\n"
      ]
    },
    {
      "cell_type": "code",
      "metadata": {
        "id": "UYVfqXU1F420"
      },
      "source": [
        "netflix_stocks.rename(columns={'Adj Close': 'Price'} ,inplace=True)\n",
        "dowjones_stocks.rename(columns={'Adj Close': 'Price'}, inplace=True)\n",
        "netflix_stocks_quarterly.rename(columns={'Adj Close': 'Price'}, inplace=True)"
      ],
      "execution_count": 19,
      "outputs": []
    },
    {
      "cell_type": "markdown",
      "metadata": {
        "id": "aw9ZM1I7F420"
      },
      "source": [
        "Run `netflix_stocks.head()` again to check your column name has changed."
      ]
    },
    {
      "cell_type": "code",
      "metadata": {
        "colab": {
          "base_uri": "https://localhost:8080/",
          "height": 204
        },
        "id": "CgrTS7DxF422",
        "outputId": "2a6140fe-e913-420d-b16a-b4f24180a6b2"
      },
      "source": [
        "netflix_stocks.head()"
      ],
      "execution_count": 15,
      "outputs": [
        {
          "output_type": "execute_result",
          "data": {
            "text/html": [
              "<div>\n",
              "<style scoped>\n",
              "    .dataframe tbody tr th:only-of-type {\n",
              "        vertical-align: middle;\n",
              "    }\n",
              "\n",
              "    .dataframe tbody tr th {\n",
              "        vertical-align: top;\n",
              "    }\n",
              "\n",
              "    .dataframe thead th {\n",
              "        text-align: right;\n",
              "    }\n",
              "</style>\n",
              "<table border=\"1\" class=\"dataframe\">\n",
              "  <thead>\n",
              "    <tr style=\"text-align: right;\">\n",
              "      <th></th>\n",
              "      <th>Date</th>\n",
              "      <th>Open</th>\n",
              "      <th>High</th>\n",
              "      <th>Low</th>\n",
              "      <th>Close</th>\n",
              "      <th>Price</th>\n",
              "      <th>Volume</th>\n",
              "    </tr>\n",
              "  </thead>\n",
              "  <tbody>\n",
              "    <tr>\n",
              "      <th>0</th>\n",
              "      <td>2017-01-01</td>\n",
              "      <td>124.959999</td>\n",
              "      <td>143.460007</td>\n",
              "      <td>124.309998</td>\n",
              "      <td>140.710007</td>\n",
              "      <td>140.710007</td>\n",
              "      <td>181772200</td>\n",
              "    </tr>\n",
              "    <tr>\n",
              "      <th>1</th>\n",
              "      <td>2017-02-01</td>\n",
              "      <td>141.199997</td>\n",
              "      <td>145.949997</td>\n",
              "      <td>139.050003</td>\n",
              "      <td>142.130005</td>\n",
              "      <td>142.130005</td>\n",
              "      <td>91432000</td>\n",
              "    </tr>\n",
              "    <tr>\n",
              "      <th>2</th>\n",
              "      <td>2017-03-01</td>\n",
              "      <td>142.839996</td>\n",
              "      <td>148.289993</td>\n",
              "      <td>138.259995</td>\n",
              "      <td>147.809998</td>\n",
              "      <td>147.809998</td>\n",
              "      <td>110692700</td>\n",
              "    </tr>\n",
              "    <tr>\n",
              "      <th>3</th>\n",
              "      <td>2017-04-01</td>\n",
              "      <td>146.699997</td>\n",
              "      <td>153.520004</td>\n",
              "      <td>138.660004</td>\n",
              "      <td>152.199997</td>\n",
              "      <td>152.199997</td>\n",
              "      <td>149769200</td>\n",
              "    </tr>\n",
              "    <tr>\n",
              "      <th>4</th>\n",
              "      <td>2017-05-01</td>\n",
              "      <td>151.910004</td>\n",
              "      <td>164.750000</td>\n",
              "      <td>151.610001</td>\n",
              "      <td>163.070007</td>\n",
              "      <td>163.070007</td>\n",
              "      <td>116795800</td>\n",
              "    </tr>\n",
              "  </tbody>\n",
              "</table>\n",
              "</div>"
            ],
            "text/plain": [
              "         Date        Open        High  ...       Close       Price     Volume\n",
              "0  2017-01-01  124.959999  143.460007  ...  140.710007  140.710007  181772200\n",
              "1  2017-02-01  141.199997  145.949997  ...  142.130005  142.130005   91432000\n",
              "2  2017-03-01  142.839996  148.289993  ...  147.809998  147.809998  110692700\n",
              "3  2017-04-01  146.699997  153.520004  ...  152.199997  152.199997  149769200\n",
              "4  2017-05-01  151.910004  164.750000  ...  163.070007  163.070007  116795800\n",
              "\n",
              "[5 rows x 7 columns]"
            ]
          },
          "metadata": {
            "tags": []
          },
          "execution_count": 15
        }
      ]
    },
    {
      "cell_type": "markdown",
      "metadata": {
        "id": "Q038WX12F422"
      },
      "source": [
        "Call `.head()` on the DataFrame `dowjones_stocks` and `netflix_stocks_quarterly`."
      ]
    },
    {
      "cell_type": "code",
      "metadata": {
        "colab": {
          "base_uri": "https://localhost:8080/",
          "height": 204
        },
        "id": "RN8UA30bF422",
        "outputId": "5a119ef4-2b44-46fc-86be-154f027cbc2c"
      },
      "source": [
        "dowjones_stocks.head()"
      ],
      "execution_count": 16,
      "outputs": [
        {
          "output_type": "execute_result",
          "data": {
            "text/html": [
              "<div>\n",
              "<style scoped>\n",
              "    .dataframe tbody tr th:only-of-type {\n",
              "        vertical-align: middle;\n",
              "    }\n",
              "\n",
              "    .dataframe tbody tr th {\n",
              "        vertical-align: top;\n",
              "    }\n",
              "\n",
              "    .dataframe thead th {\n",
              "        text-align: right;\n",
              "    }\n",
              "</style>\n",
              "<table border=\"1\" class=\"dataframe\">\n",
              "  <thead>\n",
              "    <tr style=\"text-align: right;\">\n",
              "      <th></th>\n",
              "      <th>Date</th>\n",
              "      <th>Open</th>\n",
              "      <th>High</th>\n",
              "      <th>Low</th>\n",
              "      <th>Close</th>\n",
              "      <th>Price</th>\n",
              "      <th>Volume</th>\n",
              "    </tr>\n",
              "  </thead>\n",
              "  <tbody>\n",
              "    <tr>\n",
              "      <th>0</th>\n",
              "      <td>2017-01-01</td>\n",
              "      <td>19872.859375</td>\n",
              "      <td>20125.580078</td>\n",
              "      <td>19677.939453</td>\n",
              "      <td>19864.089844</td>\n",
              "      <td>19864.089844</td>\n",
              "      <td>6482450000</td>\n",
              "    </tr>\n",
              "    <tr>\n",
              "      <th>1</th>\n",
              "      <td>2017-02-01</td>\n",
              "      <td>19923.810547</td>\n",
              "      <td>20851.330078</td>\n",
              "      <td>19831.089844</td>\n",
              "      <td>20812.240234</td>\n",
              "      <td>20812.240234</td>\n",
              "      <td>6185580000</td>\n",
              "    </tr>\n",
              "    <tr>\n",
              "      <th>2</th>\n",
              "      <td>2017-03-01</td>\n",
              "      <td>20957.289063</td>\n",
              "      <td>21169.109375</td>\n",
              "      <td>20412.800781</td>\n",
              "      <td>20663.220703</td>\n",
              "      <td>20663.220703</td>\n",
              "      <td>6941970000</td>\n",
              "    </tr>\n",
              "    <tr>\n",
              "      <th>3</th>\n",
              "      <td>2017-04-01</td>\n",
              "      <td>20665.169922</td>\n",
              "      <td>21070.900391</td>\n",
              "      <td>20379.550781</td>\n",
              "      <td>20940.509766</td>\n",
              "      <td>20940.509766</td>\n",
              "      <td>5392630000</td>\n",
              "    </tr>\n",
              "    <tr>\n",
              "      <th>4</th>\n",
              "      <td>2017-05-01</td>\n",
              "      <td>20962.730469</td>\n",
              "      <td>21112.320313</td>\n",
              "      <td>20553.449219</td>\n",
              "      <td>21008.650391</td>\n",
              "      <td>21008.650391</td>\n",
              "      <td>6613570000</td>\n",
              "    </tr>\n",
              "  </tbody>\n",
              "</table>\n",
              "</div>"
            ],
            "text/plain": [
              "         Date          Open  ...         Price      Volume\n",
              "0  2017-01-01  19872.859375  ...  19864.089844  6482450000\n",
              "1  2017-02-01  19923.810547  ...  20812.240234  6185580000\n",
              "2  2017-03-01  20957.289063  ...  20663.220703  6941970000\n",
              "3  2017-04-01  20665.169922  ...  20940.509766  5392630000\n",
              "4  2017-05-01  20962.730469  ...  21008.650391  6613570000\n",
              "\n",
              "[5 rows x 7 columns]"
            ]
          },
          "metadata": {
            "tags": []
          },
          "execution_count": 16
        }
      ]
    },
    {
      "cell_type": "code",
      "metadata": {
        "colab": {
          "base_uri": "https://localhost:8080/",
          "height": 204
        },
        "id": "yXgFu1WLOjAO",
        "outputId": "778118d3-95cb-426c-b53e-98036bcef092"
      },
      "source": [
        "netflix_stocks_quarterly.head()"
      ],
      "execution_count": 20,
      "outputs": [
        {
          "output_type": "execute_result",
          "data": {
            "text/html": [
              "<div>\n",
              "<style scoped>\n",
              "    .dataframe tbody tr th:only-of-type {\n",
              "        vertical-align: middle;\n",
              "    }\n",
              "\n",
              "    .dataframe tbody tr th {\n",
              "        vertical-align: top;\n",
              "    }\n",
              "\n",
              "    .dataframe thead th {\n",
              "        text-align: right;\n",
              "    }\n",
              "</style>\n",
              "<table border=\"1\" class=\"dataframe\">\n",
              "  <thead>\n",
              "    <tr style=\"text-align: right;\">\n",
              "      <th></th>\n",
              "      <th>Date</th>\n",
              "      <th>Open</th>\n",
              "      <th>High</th>\n",
              "      <th>Low</th>\n",
              "      <th>Close</th>\n",
              "      <th>Price</th>\n",
              "      <th>Volume</th>\n",
              "      <th>Quarter</th>\n",
              "    </tr>\n",
              "  </thead>\n",
              "  <tbody>\n",
              "    <tr>\n",
              "      <th>0</th>\n",
              "      <td>2017-01-03</td>\n",
              "      <td>124.959999</td>\n",
              "      <td>128.190002</td>\n",
              "      <td>124.309998</td>\n",
              "      <td>127.489998</td>\n",
              "      <td>127.489998</td>\n",
              "      <td>9437900</td>\n",
              "      <td>Q1</td>\n",
              "    </tr>\n",
              "    <tr>\n",
              "      <th>1</th>\n",
              "      <td>2017-01-04</td>\n",
              "      <td>127.489998</td>\n",
              "      <td>130.169998</td>\n",
              "      <td>126.550003</td>\n",
              "      <td>129.410004</td>\n",
              "      <td>129.410004</td>\n",
              "      <td>7843600</td>\n",
              "      <td>Q1</td>\n",
              "    </tr>\n",
              "    <tr>\n",
              "      <th>2</th>\n",
              "      <td>2017-01-05</td>\n",
              "      <td>129.220001</td>\n",
              "      <td>132.750000</td>\n",
              "      <td>128.899994</td>\n",
              "      <td>131.809998</td>\n",
              "      <td>131.809998</td>\n",
              "      <td>10185500</td>\n",
              "      <td>Q1</td>\n",
              "    </tr>\n",
              "    <tr>\n",
              "      <th>3</th>\n",
              "      <td>2017-01-06</td>\n",
              "      <td>132.080002</td>\n",
              "      <td>133.880005</td>\n",
              "      <td>129.809998</td>\n",
              "      <td>131.070007</td>\n",
              "      <td>131.070007</td>\n",
              "      <td>10657900</td>\n",
              "      <td>Q1</td>\n",
              "    </tr>\n",
              "    <tr>\n",
              "      <th>4</th>\n",
              "      <td>2017-01-09</td>\n",
              "      <td>131.479996</td>\n",
              "      <td>131.990005</td>\n",
              "      <td>129.889999</td>\n",
              "      <td>130.949997</td>\n",
              "      <td>130.949997</td>\n",
              "      <td>5766900</td>\n",
              "      <td>Q1</td>\n",
              "    </tr>\n",
              "  </tbody>\n",
              "</table>\n",
              "</div>"
            ],
            "text/plain": [
              "         Date        Open        High  ...       Price    Volume  Quarter\n",
              "0  2017-01-03  124.959999  128.190002  ...  127.489998   9437900       Q1\n",
              "1  2017-01-04  127.489998  130.169998  ...  129.410004   7843600       Q1\n",
              "2  2017-01-05  129.220001  132.750000  ...  131.809998  10185500       Q1\n",
              "3  2017-01-06  132.080002  133.880005  ...  131.070007  10657900       Q1\n",
              "4  2017-01-09  131.479996  131.990005  ...  130.949997   5766900       Q1\n",
              "\n",
              "[5 rows x 8 columns]"
            ]
          },
          "metadata": {
            "tags": []
          },
          "execution_count": 20
        }
      ]
    },
    {
      "cell_type": "code",
      "metadata": {
        "id": "NIKaTeN0PKc6"
      },
      "source": [
        ""
      ],
      "execution_count": null,
      "outputs": []
    },
    {
      "cell_type": "markdown",
      "metadata": {
        "id": "ueamkuccF422"
      },
      "source": [
        "## Step 5\n",
        "\n",
        "In this step, we will be visualizing the Netflix quarterly data! \n",
        "\n",
        "We want to get an understanding of the distribution of the Netflix quarterly stock prices for 2017. Specifically, we want to see in which quarter stock prices flucutated the most. We can accomplish this using a violin plot with four violins, one for each business quarter!\n",
        "\n",
        "\n",
        "1. Start by creating a variable `ax` and setting it equal to `sns.violinplot()`. This will instantiate a figure and give us access to the axes through the variable name `ax`.\n",
        "2. Use `sns.violinplot()` and pass in the following arguments:\n",
        "+ The `Quarter` column as the `x` values\n",
        "+ The `Price` column as your `y` values\n",
        "+ The `netflix_stocks_quarterly` dataframe as your `data`\n",
        "3. Improve the readability of the chart by adding a title of the plot. Add `\"Distribution of 2017 Netflix Stock Prices by Quarter\"` by using `ax.set_title()`\n",
        "4. Change your `ylabel` to \"Closing Stock Price\"\n",
        "5. Change your `xlabel` to \"Business Quarters in 2017\"\n",
        "6. Be sure to show your plot!\n"
      ]
    },
    {
      "cell_type": "code",
      "metadata": {
        "scrolled": true,
        "colab": {
          "base_uri": "https://localhost:8080/",
          "height": 638
        },
        "id": "NJojbJJJF423",
        "outputId": "6bc1a55d-9171-40a1-fdfe-73c514a37184"
      },
      "source": [
        "fig, ax = plt.subplots(figsize=(15, 10))\n",
        "sns.violinplot(data=netflix_stocks_quarterly, x=netflix_stocks_quarterly.Quarter, y=netflix_stocks_quarterly.Price, palette='Set1')\n",
        "ax.set_title('Distribution of 2017 Netflix Stock Prices by Quarter')\n",
        "ax.set_ylabel('Closing Stock Price')\n",
        "ax.set_xlabel('Business Quarters in 2017')"
      ],
      "execution_count": 27,
      "outputs": [
        {
          "output_type": "execute_result",
          "data": {
            "text/plain": [
              "Text(0.5, 0, 'Business Quarters in 2017')"
            ]
          },
          "metadata": {
            "tags": []
          },
          "execution_count": 27
        },
        {
          "output_type": "display_data",
          "data": {
            "image/png": "[encoded data removed]",
            "text/plain": [
              "<Figure size 1080x720 with 1 Axes>"
            ]
          },
          "metadata": {
            "tags": [],
            "needs_background": "light"
          }
        }
      ]
    },
    {
      "cell_type": "markdown",
      "metadata": {
        "id": "TQS_f8xwF423"
      },
      "source": [
        "## Graph Literacy\n",
        "- What are your first impressions looking at the visualized data?\n",
        "\n",
        "- In what range(s) did most of the prices fall throughout the year?\n",
        "\n",
        "- What were the highest and lowest prices? "
      ]
    },
    {
      "cell_type": "markdown",
      "metadata": {
        "id": "oNrvB-m2F423"
      },
      "source": [
        "**According the violin plot above, it can be observed that, the stock price of Netflix kept on increasing. The ranges or distribution of the prices kept wider till it got to the last quarter of the year. The highest of the stock with the year was around 200 dollars whiles the lowest prices was around 120 dollars. it can also be observed that, the prices were within the range of 140 dollars to 180 dollars in the year 2017.**"
      ]
    },
    {
      "cell_type": "markdown",
      "metadata": {
        "id": "ifdqKJIzF424"
      },
      "source": [
        " "
      ]
    },
    {
      "cell_type": "markdown",
      "metadata": {
        "id": "rXLHN9_MF424"
      },
      "source": [
        "## Step 6\n",
        "\n",
        "Next, we will chart the performance of the earnings per share (EPS) by graphing the estimate Yahoo projected for the Quarter compared to the actual earnings for that quarters. We will accomplish this using a scatter chart. \n",
        "\n",
        "1. Plot the actual EPS by using `x_positions` and `earnings_actual` with the `plt.scatter()` function. Assign `red` as the color.\n",
        "2. Plot the actual EPS by using `x_positions` and `earnings_estimate` with the `plt.scatter()` function. Assign `blue` as the color\n",
        "\n",
        "3. Often, estimates and actual EPS are the same. To account for this, be sure to set your transparency  `alpha=0.5` to allow for visibility pf overlapping datapoint.\n",
        "4. Add a legend by using `plt.legend()` and passing in a list with two strings `[\"Actual\", \"Estimate\"]`\n",
        "\n",
        "5. Change the `x_ticks` label to reflect each quarter by using `plt.xticks(x_positions, chart_labels)`\n",
        "6. Assing \"`\"Earnings Per Share in Cents\"` as the title of your plot.\n"
      ]
    },
    {
      "cell_type": "code",
      "metadata": {
        "id": "-hJ9QF0bF424"
      },
      "source": [
        "x_positions = [1, 2, 3, 4]\n",
        "chart_labels = [\"1Q2017\",\"2Q2017\",\"3Q2017\",\"4Q2017\"]\n",
        "earnings_actual =[.4, .15,.29,.41]\n",
        "earnings_estimate = [.37,.15,.32,.41 ]\n"
      ],
      "execution_count": 28,
      "outputs": []
    },
    {
      "cell_type": "code",
      "metadata": {
        "colab": {
          "base_uri": "https://localhost:8080/",
          "height": 624
        },
        "id": "1HZqUiogU6yv",
        "outputId": "6d68f3a8-7ba4-4d92-805a-cae7bb4aae03"
      },
      "source": [
        "fig, ax = plt.subplots(figsize=(15, 10))\n",
        "plt.scatter(x_positions, earnings_actual, color='red', alpha=0.5)\n",
        "plt.scatter(x_positions, earnings_estimate, color='blue', alpha=0.5)\n",
        "plt.legend(['Actual', 'Estimate'])\n",
        "plt.xticks(x_positions, chart_labels)\n",
        "plt.title('Earnings Per Share in Cents')"
      ],
      "execution_count": 32,
      "outputs": [
        {
          "output_type": "execute_result",
          "data": {
            "text/plain": [
              "Text(0.5, 1.0, 'Earnings Per Share in Cents')"
            ]
          },
          "metadata": {
            "tags": []
          },
          "execution_count": 32
        },
        {
          "output_type": "display_data",
          "data": {
            "image/png": "[encoded data removed]",
            "text/plain": [
              "<Figure size 1080x720 with 1 Axes>"
            ]
          },
          "metadata": {
            "tags": [],
            "needs_background": "light"
          }
        }
      ]
    },
    {
      "cell_type": "markdown",
      "metadata": {
        "collapsed": true,
        "id": "H0fZiuYgF425"
      },
      "source": [
        "## Graph Literacy\n",
        "\n",
        "+ What do the purple dots tell us about the actual and estimate earnings per share in this graph? Hint: In color theory red and blue mix to make purple.\n"
      ]
    },
    {
      "cell_type": "markdown",
      "metadata": {
        "id": "FELjhvWjF425"
      },
      "source": [
        " The purple color show an equality in the actual earnings and the estimated earnings per share"
      ]
    },
    {
      "cell_type": "markdown",
      "metadata": {
        "id": "IS1PTk0GF425"
      },
      "source": [
        " "
      ]
    },
    {
      "cell_type": "markdown",
      "metadata": {
        "id": "pGrbmJoNF425"
      },
      "source": [
        "## Step 7"
      ]
    },
    {
      "cell_type": "markdown",
      "metadata": {
        "id": "IC1X-P9JF425"
      },
      "source": [
        "Next, we will visualize the earnings and revenue reported by Netflix by mapping two bars side-by-side. We have visualized a similar chart in the second Matplotlib lesson [Exercise 4](https://www.codecademy.com/courses/learn-matplotlib/lessons/matplotlib-ii/exercises/side-by-side-bars).\n",
        "\n",
        "As you may recall, plotting side-by-side bars in Matplotlib requires computing the width of each bar before hand. We have pasted the starter code for that exercise below. \n",
        "\n",
        "1. Fill in the `n`, `t`, `d`, `w` values for the revenue bars\n",
        "2. Plot the revenue bars by calling `plt.bar()` with the newly computed `x_values` and the `revenue_by_quarter` data\n",
        "3. Fill in the `n`, `t`, `d`, `w` values for the earnings bars\n",
        "4. Plot the revenue bars by calling `plt.bar()` with the newly computed `x_values` and the `earnings_by_quarter` data\n",
        "5. Create a legend for your bar chart with the `labels` provided\n",
        "6. Add a descriptive title for your chart with `plt.title()`\n",
        "7. Add labels to each quarter by assigning the position of the ticks through the code provided. Hint:  `plt.xticks(middle_x, quarter_labels)`\n",
        "8. Be sure to show your plot!\n"
      ]
    },
    {
      "cell_type": "code",
      "metadata": {
        "colab": {
          "base_uri": "https://localhost:8080/",
          "height": 743
        },
        "id": "E3vKlacrF426",
        "outputId": "329f3218-55f2-4e02-926b-eed23af7cfd6"
      },
      "source": [
        "# The metrics below are in billions of dollars\n",
        "revenue_by_quarter = [2.79, 2.98,3.29,3.7]\n",
        "earnings_by_quarter = [.0656,.12959,.18552,.29012]\n",
        "quarter_labels = [\"2Q2017\",\"3Q2017\",\"4Q2017\", \"1Q2018\"]\n",
        "\n",
        "# Revenue\n",
        "n = 1  # This is our first dataset (out of 2)\n",
        "t = 2 # Number of dataset\n",
        "d = 4 # Number of sets of bars\n",
        "w = 0.4 # Width of each bar\n",
        "bars1_x = [t*element + w*n for element\n",
        "             in range(d)]\n",
        "\n",
        "\n",
        "\n",
        "\n",
        "# Earnings\n",
        "n = 2 # This is our second dataset (out of 2)\n",
        "t = 2# Number of dataset\n",
        "d = 4 # Number of sets of bars\n",
        "w = 0.4 # Width of each bar\n",
        "bars2_x = [t*element + w*n for element\n",
        "             in range(d)]\n",
        "fig, ax = plt.subplots(figsize=(15, 10))\n",
        "plt.bar(bars1_x, revenue_by_quarter)\n",
        "plt.bar(bars2_x, earnings_by_quarter)\n",
        "\n",
        "\n",
        "middle_x = [ (a + b) / 2.0 for a, b in zip(bars1_x, bars2_x)]\n",
        "labels = [\"Revenue\", \"Earnings\"]\n",
        "plt.legend(labels)\n",
        "plt.title('BAR PLOT OF THE EARNING AND REVENUE')\n",
        "plt.xticks(middle_x, quarter_labels)\n"
      ],
      "execution_count": 44,
      "outputs": [
        {
          "output_type": "execute_result",
          "data": {
            "text/plain": [
              "([<matplotlib.axis.XTick at 0x7f51db45bf10>,\n",
              "  <matplotlib.axis.XTick at 0x7f51db4540d0>,\n",
              "  <matplotlib.axis.XTick at 0x7f51db589e10>,\n",
              "  <matplotlib.axis.XTick at 0x7f51db42e490>],\n",
              " [Text(0, 0, '2Q2017'),\n",
              "  Text(0, 0, '3Q2017'),\n",
              "  Text(0, 0, '4Q2017'),\n",
              "  Text(0, 0, '1Q2018')])"
            ]
          },
          "metadata": {
            "tags": []
          },
          "execution_count": 44
        },
        {
          "output_type": "display_data",
          "data": {
            "image/png": "[encoded data removed]",
            "text/plain": [
              "<Figure size 1080x720 with 1 Axes>"
            ]
          },
          "metadata": {
            "tags": [],
            "needs_background": "light"
          }
        }
      ]
    },
    {
      "cell_type": "markdown",
      "metadata": {
        "id": "aBGlxIvlF427"
      },
      "source": [
        "## Graph Literacy\n",
        "What are your first impressions looking at the visualized data?\n",
        "\n",
        "- Does Revenue follow a trend?\n",
        "- Do Earnings follow a trend?\n",
        "- Roughly, what percentage of the revenue constitutes earnings?"
      ]
    },
    {
      "cell_type": "code",
      "metadata": {
        "id": "kgEEXUiOF427"
      },
      "source": [
        "'''\n",
        "Both revenue and earnings follow a small increament trend.\n",
        "3.6% of revenue is what constitutes the earnings.\n",
        "'''"
      ],
      "execution_count": null,
      "outputs": []
    },
    {
      "cell_type": "markdown",
      "metadata": {
        "id": "_j9EWj8gF427"
      },
      "source": [
        "## Step 8\n",
        "\n",
        "In this last step, we will compare Netflix stock to the Dow Jones Industrial Average in 2017. We will accomplish this by plotting two line charts side by side in one figure. \n",
        "\n",
        "Since `Price` which is the most relevant data is in the Y axis, let's map our subplots to align vertically side by side.\n",
        "- We have set up the code for you on line 1 in the cell below. Complete the figure by passing the following arguments to `plt.subplots()` for the first plot, and tweaking the third argument for the second plot\n",
        "    - `1`-- the number of rows for the subplots\n",
        "    - `2` -- the number of columns for the subplots\n",
        "    - `1` -- the subplot you are modifying\n",
        "\n",
        "- Chart the Netflix Stock Prices in the left-hand subplot. Using your data frame, access the `Date` and `Price` charts as the x and y axes respectively. Hint: (`netflix_stocks['Date'], netflix_stocks['Price']`)\n",
        "- Assign \"Netflix\" as a title to this subplot. Hint: `ax1.set_title()`\n",
        "- For each subplot, `set_xlabel` to `\"Date\"` and `set_ylabel` to `\"Stock Price\"`\n",
        "- Chart the Dow Jones Stock Prices in the left-hand subplot. Using your data frame, access the `Date` and `Price` charts as the x and y axes respectively. Hint: (`dowjones_stocks['Date'], dowjones_stocks['Price']`)\n",
        "- Assign \"Dow Jones\" as a title to this subplot. Hint: `plt.set_title()`\n",
        "- There is some crowding in the Y axis labels, add some space by calling `plt.subplots_adjust(wspace=.5)`\n",
        "- Be sure to `.show()` your plots.\n"
      ]
    },
    {
      "cell_type": "code",
      "metadata": {
        "colab": {
          "base_uri": "https://localhost:8080/",
          "height": 701
        },
        "id": "HMNd78R2F428",
        "outputId": "0bf4e436-2ead-4318-d409-72cc5a55c10f"
      },
      "source": [
        "# Left plot Netflix\n",
        "fig = plt.figure(figsize=(25, 10))\n",
        "ax1 = plt.subplot(1, 2, 1)\n",
        "plt.plot(netflix_stocks['Date'], netflix_stocks['Price'])\n",
        "ax1.set_xlabel(\"Date\")\n",
        "ax1.set_title('Netflix')\n",
        "ax1.set_ylabel('Stock Price')\n",
        "plt.xticks(rotation=60)\n",
        "\n",
        "# Right plot Dow Jones\n",
        "ax2 = plt.subplot(1, 2, 2)\n",
        "plt.plot(dowjones_stocks['Date'], dowjones_stocks['Price'])\n",
        "ax2.set_title('Dow Jones')\n",
        "ax2.set_xlabel('Date')\n",
        "plt.xticks(rotation=60)\n",
        "\n",
        "#plt.subplots_adjust(wspace=0.5)\n",
        "\n",
        "\n",
        "\n"
      ],
      "execution_count": 63,
      "outputs": [
        {
          "output_type": "execute_result",
          "data": {
            "text/plain": [
              "([0, 1, 2, 3, 4, 5, 6, 7, 8, 9, 10, 11],\n",
              " <a list of 12 Text major ticklabel objects>)"
            ]
          },
          "metadata": {
            "tags": []
          },
          "execution_count": 63
        },
        {
          "output_type": "display_data",
          "data": {
            "image/png": "[encoded data removed]",
            "text/plain": [
              "<Figure size 1800x720 with 2 Axes>"
            ]
          },
          "metadata": {
            "tags": [],
            "needs_background": "light"
          }
        }
      ]
    },
    {
      "cell_type": "markdown",
      "metadata": {
        "id": "vz1O5DX4F428"
      },
      "source": [
        "- How did Netflix perform relative to Dow Jones Industrial Average in 2017?\n",
        "- Which was more volatile?\n",
        "- How do the prices of the stocks compare?"
      ]
    },
    {
      "cell_type": "markdown",
      "metadata": {
        "id": "8_mKyutSF428"
      },
      "source": [
        "The netflix stock was more volatile than the Dow Jones. \n",
        " Dow Jones has a higher price than that of the Netflix.\n",
        " "
      ]
    },
    {
      "cell_type": "markdown",
      "metadata": {
        "id": "Sgp3-Z3MF429"
      },
      "source": [
        "# Step 9\n",
        "\n",
        "It's time to make your presentation! Save each of your visualizations as a png file with `plt.savefig(\"filename.png\")`.\n",
        "\n",
        "As you prepare your slides, think about the answers to the graph literacy questions. Embed your observations in the narrative of your slideshow!\n",
        "\n",
        "Remember that your slideshow must include:\n",
        "- A title slide\n",
        "- A list of your visualizations and your role in their creation for the \"Stock Profile\" team\n",
        "- A visualization of the distribution of the stock prices for Netflix in 2017\n",
        "- A visualization and a summary of Netflix stock and revenue for the past four quarters and a summary\n",
        "- A visualization and a brief summary of their earned versus actual earnings per share\n",
        "- A visualization of Netflix stock against the Dow Jones stock (to get a sense of the market) in 2017\n"
      ]
    },
    {
      "cell_type": "code",
      "metadata": {
        "id": "bjfs_h7rF429"
      },
      "source": [
        ""
      ],
      "execution_count": null,
      "outputs": []
    }
  ]
}