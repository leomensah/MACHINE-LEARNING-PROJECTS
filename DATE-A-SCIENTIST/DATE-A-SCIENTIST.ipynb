{
 "cells": [
  {
   "cell_type": "markdown",
   "id": "40d33b7c",
   "metadata": {},
   "source": [
    "### IMPORTING IMPORTANT LIBRARIES"
   ]
  },
  {
   "cell_type": "markdown",
   "id": "558be810",
   "metadata": {},
   "source": [
    "This is the Date a Scientist Capstone project on Codecademy.\n",
    "This project went through a data exploration process by first\n",
    "exploring the individual variables. \n",
    "Preprocessing step was also implemented to remove null values from the dataset.\n",
    "\n",
    "The matplotblib and seaborn library were utilized in performing visulization on the dataset.\n",
    "\n",
    "A predictive model was built using the Logistic regression and K-Nearest classifier to predict\n",
    "whether people wants children or not. At the end of the this experiment, the logistic regression \n",
    "model performed better with an accuracy of 79%.\n",
    "\n",
    "The model was balso to classifier or predict the zodiac symbol of the indidual. Three machine learning\n",
    "algorithms were implemented, which are the Decision tree classifier, Naive Bayes Classifier and the\n",
    "K-Nearest Neighbor Classifier. At the end of the experiment, it was observed that, all the three models\n",
    "performed poorly on classifying the individual zodiac signs. Non of the models had an accuracy to be up \n",
    "to 10%."
   ]
  },
  {
   "cell_type": "code",
   "execution_count": 3,
   "id": "383bc0ec",
   "metadata": {},
   "outputs": [],
   "source": [
    "import pandas as pd\n",
    "import numpy as np\n",
    "from matplotlib import pyplot as plt\n",
    "import seaborn as sns\n",
    "import spacy\n",
    "from sklearn.model_selection import train_test_split\n",
    "from sklearn.preprocessing import StandardScaler\n",
    "from sklearn.decomposition import PCA\n",
    "from sklearn.linear_model import LogisticRegression\n",
    "from sklearn.pipeline import Pipeline\n",
    "from sklearn.model_selection import GridSearchCV, RepeatedStratifiedKFold\n",
    "from sklearn.dummy import DummyClassifier\n",
    "from sklearn.metrics import f1_score"
   ]
  },
  {
   "cell_type": "code",
   "execution_count": 4,
   "id": "f466f1df",
   "metadata": {},
   "outputs": [],
   "source": [
    "df = pd.read_csv('profiles.csv')"
   ]
  },
  {
   "cell_type": "code",
   "execution_count": 5,
   "id": "91b59b91",
   "metadata": {},
   "outputs": [
    {
     "data": {
      "text/plain": [
       "59946"
      ]
     },
     "execution_count": 5,
     "metadata": {},
     "output_type": "execute_result"
    }
   ],
   "source": [
    "len(df)"
   ]
  },
  {
   "cell_type": "code",
   "execution_count": 6,
   "id": "fb2f8d1a",
   "metadata": {},
   "outputs": [
    {
     "data": {
      "text/html": [
       "<div>\n",
       "<style scoped>\n",
       "    .dataframe tbody tr th:only-of-type {\n",
       "        vertical-align: middle;\n",
       "    }\n",
       "\n",
       "    .dataframe tbody tr th {\n",
       "        vertical-align: top;\n",
       "    }\n",
       "\n",
       "    .dataframe thead th {\n",
       "        text-align: right;\n",
       "    }\n",
       "</style>\n",
       "<table border=\"1\" class=\"dataframe\">\n",
       "  <thead>\n",
       "    <tr style=\"text-align: right;\">\n",
       "      <th></th>\n",
       "      <th>age</th>\n",
       "      <th>body_type</th>\n",
       "      <th>diet</th>\n",
       "      <th>drinks</th>\n",
       "      <th>drugs</th>\n",
       "      <th>education</th>\n",
       "      <th>essay0</th>\n",
       "      <th>essay1</th>\n",
       "      <th>essay2</th>\n",
       "      <th>essay3</th>\n",
       "      <th>...</th>\n",
       "      <th>location</th>\n",
       "      <th>offspring</th>\n",
       "      <th>orientation</th>\n",
       "      <th>pets</th>\n",
       "      <th>religion</th>\n",
       "      <th>sex</th>\n",
       "      <th>sign</th>\n",
       "      <th>smokes</th>\n",
       "      <th>speaks</th>\n",
       "      <th>status</th>\n",
       "    </tr>\n",
       "  </thead>\n",
       "  <tbody>\n",
       "    <tr>\n",
       "      <th>0</th>\n",
       "      <td>22</td>\n",
       "      <td>a little extra</td>\n",
       "      <td>strictly anything</td>\n",
       "      <td>socially</td>\n",
       "      <td>never</td>\n",
       "      <td>working on college/university</td>\n",
       "      <td>about me:&lt;br /&gt;\\n&lt;br /&gt;\\ni would love to think...</td>\n",
       "      <td>currently working as an international agent fo...</td>\n",
       "      <td>making people laugh.&lt;br /&gt;\\nranting about a go...</td>\n",
       "      <td>the way i look. i am a six foot half asian, ha...</td>\n",
       "      <td>...</td>\n",
       "      <td>south san francisco, california</td>\n",
       "      <td>doesn&amp;rsquo;t have kids, but might want them</td>\n",
       "      <td>straight</td>\n",
       "      <td>likes dogs and likes cats</td>\n",
       "      <td>agnosticism and very serious about it</td>\n",
       "      <td>m</td>\n",
       "      <td>gemini</td>\n",
       "      <td>sometimes</td>\n",
       "      <td>english</td>\n",
       "      <td>single</td>\n",
       "    </tr>\n",
       "    <tr>\n",
       "      <th>1</th>\n",
       "      <td>35</td>\n",
       "      <td>average</td>\n",
       "      <td>mostly other</td>\n",
       "      <td>often</td>\n",
       "      <td>sometimes</td>\n",
       "      <td>working on space camp</td>\n",
       "      <td>i am a chef: this is what that means.&lt;br /&gt;\\n1...</td>\n",
       "      <td>dedicating everyday to being an unbelievable b...</td>\n",
       "      <td>being silly. having ridiculous amonts of fun w...</td>\n",
       "      <td>NaN</td>\n",
       "      <td>...</td>\n",
       "      <td>oakland, california</td>\n",
       "      <td>doesn&amp;rsquo;t have kids, but might want them</td>\n",
       "      <td>straight</td>\n",
       "      <td>likes dogs and likes cats</td>\n",
       "      <td>agnosticism but not too serious about it</td>\n",
       "      <td>m</td>\n",
       "      <td>cancer</td>\n",
       "      <td>no</td>\n",
       "      <td>english (fluently), spanish (poorly), french (...</td>\n",
       "      <td>single</td>\n",
       "    </tr>\n",
       "    <tr>\n",
       "      <th>2</th>\n",
       "      <td>38</td>\n",
       "      <td>thin</td>\n",
       "      <td>anything</td>\n",
       "      <td>socially</td>\n",
       "      <td>NaN</td>\n",
       "      <td>graduated from masters program</td>\n",
       "      <td>i'm not ashamed of much, but writing public te...</td>\n",
       "      <td>i make nerdy software for musicians, artists, ...</td>\n",
       "      <td>improvising in different contexts. alternating...</td>\n",
       "      <td>my large jaw and large glasses are the physica...</td>\n",
       "      <td>...</td>\n",
       "      <td>san francisco, california</td>\n",
       "      <td>NaN</td>\n",
       "      <td>straight</td>\n",
       "      <td>has cats</td>\n",
       "      <td>NaN</td>\n",
       "      <td>m</td>\n",
       "      <td>pisces but it doesn&amp;rsquo;t matter</td>\n",
       "      <td>no</td>\n",
       "      <td>english, french, c++</td>\n",
       "      <td>available</td>\n",
       "    </tr>\n",
       "    <tr>\n",
       "      <th>3</th>\n",
       "      <td>23</td>\n",
       "      <td>thin</td>\n",
       "      <td>vegetarian</td>\n",
       "      <td>socially</td>\n",
       "      <td>NaN</td>\n",
       "      <td>working on college/university</td>\n",
       "      <td>i work in a library and go to school. . .</td>\n",
       "      <td>reading things written by old dead people</td>\n",
       "      <td>playing synthesizers and organizing books acco...</td>\n",
       "      <td>socially awkward but i do my best</td>\n",
       "      <td>...</td>\n",
       "      <td>berkeley, california</td>\n",
       "      <td>doesn&amp;rsquo;t want kids</td>\n",
       "      <td>straight</td>\n",
       "      <td>likes cats</td>\n",
       "      <td>NaN</td>\n",
       "      <td>m</td>\n",
       "      <td>pisces</td>\n",
       "      <td>no</td>\n",
       "      <td>english, german (poorly)</td>\n",
       "      <td>single</td>\n",
       "    </tr>\n",
       "    <tr>\n",
       "      <th>4</th>\n",
       "      <td>29</td>\n",
       "      <td>athletic</td>\n",
       "      <td>NaN</td>\n",
       "      <td>socially</td>\n",
       "      <td>never</td>\n",
       "      <td>graduated from college/university</td>\n",
       "      <td>hey how's it going? currently vague on the pro...</td>\n",
       "      <td>work work work work + play</td>\n",
       "      <td>creating imagery to look at:&lt;br /&gt;\\nhttp://bag...</td>\n",
       "      <td>i smile a lot and my inquisitive nature</td>\n",
       "      <td>...</td>\n",
       "      <td>san francisco, california</td>\n",
       "      <td>NaN</td>\n",
       "      <td>straight</td>\n",
       "      <td>likes dogs and likes cats</td>\n",
       "      <td>NaN</td>\n",
       "      <td>m</td>\n",
       "      <td>aquarius</td>\n",
       "      <td>no</td>\n",
       "      <td>english</td>\n",
       "      <td>single</td>\n",
       "    </tr>\n",
       "  </tbody>\n",
       "</table>\n",
       "<p>5 rows × 31 columns</p>\n",
       "</div>"
      ],
      "text/plain": [
       "   age       body_type               diet    drinks      drugs  \\\n",
       "0   22  a little extra  strictly anything  socially      never   \n",
       "1   35         average       mostly other     often  sometimes   \n",
       "2   38            thin           anything  socially        NaN   \n",
       "3   23            thin         vegetarian  socially        NaN   \n",
       "4   29        athletic                NaN  socially      never   \n",
       "\n",
       "                           education  \\\n",
       "0      working on college/university   \n",
       "1              working on space camp   \n",
       "2     graduated from masters program   \n",
       "3      working on college/university   \n",
       "4  graduated from college/university   \n",
       "\n",
       "                                              essay0  \\\n",
       "0  about me:<br />\\n<br />\\ni would love to think...   \n",
       "1  i am a chef: this is what that means.<br />\\n1...   \n",
       "2  i'm not ashamed of much, but writing public te...   \n",
       "3          i work in a library and go to school. . .   \n",
       "4  hey how's it going? currently vague on the pro...   \n",
       "\n",
       "                                              essay1  \\\n",
       "0  currently working as an international agent fo...   \n",
       "1  dedicating everyday to being an unbelievable b...   \n",
       "2  i make nerdy software for musicians, artists, ...   \n",
       "3          reading things written by old dead people   \n",
       "4                         work work work work + play   \n",
       "\n",
       "                                              essay2  \\\n",
       "0  making people laugh.<br />\\nranting about a go...   \n",
       "1  being silly. having ridiculous amonts of fun w...   \n",
       "2  improvising in different contexts. alternating...   \n",
       "3  playing synthesizers and organizing books acco...   \n",
       "4  creating imagery to look at:<br />\\nhttp://bag...   \n",
       "\n",
       "                                              essay3  ...  \\\n",
       "0  the way i look. i am a six foot half asian, ha...  ...   \n",
       "1                                                NaN  ...   \n",
       "2  my large jaw and large glasses are the physica...  ...   \n",
       "3                  socially awkward but i do my best  ...   \n",
       "4            i smile a lot and my inquisitive nature  ...   \n",
       "\n",
       "                          location  \\\n",
       "0  south san francisco, california   \n",
       "1              oakland, california   \n",
       "2        san francisco, california   \n",
       "3             berkeley, california   \n",
       "4        san francisco, california   \n",
       "\n",
       "                                      offspring orientation  \\\n",
       "0  doesn&rsquo;t have kids, but might want them    straight   \n",
       "1  doesn&rsquo;t have kids, but might want them    straight   \n",
       "2                                           NaN    straight   \n",
       "3                       doesn&rsquo;t want kids    straight   \n",
       "4                                           NaN    straight   \n",
       "\n",
       "                        pets                                  religion sex  \\\n",
       "0  likes dogs and likes cats     agnosticism and very serious about it   m   \n",
       "1  likes dogs and likes cats  agnosticism but not too serious about it   m   \n",
       "2                   has cats                                       NaN   m   \n",
       "3                 likes cats                                       NaN   m   \n",
       "4  likes dogs and likes cats                                       NaN   m   \n",
       "\n",
       "                                 sign     smokes  \\\n",
       "0                              gemini  sometimes   \n",
       "1                              cancer         no   \n",
       "2  pisces but it doesn&rsquo;t matter         no   \n",
       "3                              pisces         no   \n",
       "4                            aquarius         no   \n",
       "\n",
       "                                              speaks     status  \n",
       "0                                            english     single  \n",
       "1  english (fluently), spanish (poorly), french (...     single  \n",
       "2                               english, french, c++  available  \n",
       "3                           english, german (poorly)     single  \n",
       "4                                            english     single  \n",
       "\n",
       "[5 rows x 31 columns]"
      ]
     },
     "execution_count": 6,
     "metadata": {},
     "output_type": "execute_result"
    }
   ],
   "source": [
    "df.head()"
   ]
  },
  {
   "cell_type": "markdown",
   "id": "b317329a",
   "metadata": {},
   "source": [
    "The given data has 31 columns and 59946"
   ]
  },
  {
   "cell_type": "markdown",
   "id": "d4f874e9",
   "metadata": {},
   "source": [
    "### Explore the Data"
   ]
  },
  {
   "cell_type": "code",
   "execution_count": 7,
   "id": "88920da8",
   "metadata": {},
   "outputs": [
    {
     "name": "stdout",
     "output_type": "stream",
     "text": [
      "<class 'pandas.core.frame.DataFrame'>\n",
      "RangeIndex: 59946 entries, 0 to 59945\n",
      "Data columns (total 31 columns):\n",
      " #   Column       Non-Null Count  Dtype  \n",
      "---  ------       --------------  -----  \n",
      " 0   age          59946 non-null  int64  \n",
      " 1   body_type    54650 non-null  object \n",
      " 2   diet         35551 non-null  object \n",
      " 3   drinks       56961 non-null  object \n",
      " 4   drugs        45866 non-null  object \n",
      " 5   education    53318 non-null  object \n",
      " 6   essay0       54458 non-null  object \n",
      " 7   essay1       52374 non-null  object \n",
      " 8   essay2       50308 non-null  object \n",
      " 9   essay3       48470 non-null  object \n",
      " 10  essay4       49409 non-null  object \n",
      " 11  essay5       49096 non-null  object \n",
      " 12  essay6       46175 non-null  object \n",
      " 13  essay7       47495 non-null  object \n",
      " 14  essay8       40721 non-null  object \n",
      " 15  essay9       47343 non-null  object \n",
      " 16  ethnicity    54266 non-null  object \n",
      " 17  height       59943 non-null  float64\n",
      " 18  income       59946 non-null  int64  \n",
      " 19  job          51748 non-null  object \n",
      " 20  last_online  59946 non-null  object \n",
      " 21  location     59946 non-null  object \n",
      " 22  offspring    24385 non-null  object \n",
      " 23  orientation  59946 non-null  object \n",
      " 24  pets         40025 non-null  object \n",
      " 25  religion     39720 non-null  object \n",
      " 26  sex          59946 non-null  object \n",
      " 27  sign         48890 non-null  object \n",
      " 28  smokes       54434 non-null  object \n",
      " 29  speaks       59896 non-null  object \n",
      " 30  status       59946 non-null  object \n",
      "dtypes: float64(1), int64(2), object(28)\n",
      "memory usage: 14.2+ MB\n"
     ]
    }
   ],
   "source": [
    "df.info()"
   ]
  },
  {
   "cell_type": "markdown",
   "id": "3732b9de",
   "metadata": {},
   "source": [
    "The columns in the dataset include: \n",
    "    \n",
    "CATEGORICAL VARIABLES\n",
    "\n",
    "- **body_type:** categorical variable of body type of user\n",
    "- **diet:** categorical variable of dietary information\n",
    "- **drinks:**  categorical variable of alcohol consumption\n",
    "- **drugs:** categorical variable of drug usage\n",
    "- **education:** categorical variable of educational attainment\n",
    "- **ethnicity:** categorical variable of ethnic backgrounds\n",
    "- **job:** categorical variable of employment description\n",
    "- **offspring:** categorical variable of children status\n",
    "- **orientation:** categorical variable of sexual orientation\n",
    "- **pets:** categorical variable of pet preferences\n",
    "- **religion:** categorical variable of religious background\n",
    "- **sex:** categorical variable of gender\n",
    "- **sign:** categorical variable of astrological symbol\n",
    "- **smokes:** categorical variable of smoking consumption\n",
    "- **speaks:** categorical variable of language spoken\n",
    "- **status:** categorical variable of relationship status\n",
    "- **last_online:** date variable of last login\n",
    "- **location:** categorical variable of user locations\n",
    "    \n",
    "NUMERICAL VARIABLES\n",
    "\n",
    "- **age:** continuous variable of age of user\n",
    "- **height:** continuous variable of height of user\n",
    "- **income:** continuous variable of income of user\n",
    "\n",
    "And a set of open short-answer responses to :\n",
    "\n",
    "- **essay0:** My self summary\n",
    "- **essay1:**  What I’m doing with my life\n",
    "- **essay2:** I’m really good at\n",
    "- **essay3:** The first thing people usually notice about me\n",
    "- **essay4:** Favorite books, movies, show, music, and food\n",
    "- **essay5:** The six things I could never do without\n",
    "- **essay6:** I spend a lot of time thinking about\n",
    "- **essay7:** On a typical Friday night I am\n",
    "- **essay8:** The most private thing I am willing to admit\n",
    "- **essay9:** You should message me if…"
   ]
  },
  {
   "cell_type": "markdown",
   "id": "37016df4",
   "metadata": {},
   "source": [
    "The dataframe contains only three numerical columns \n",
    "which are the age, height, income"
   ]
  },
  {
   "cell_type": "code",
   "execution_count": 8,
   "id": "7f7f8405",
   "metadata": {},
   "outputs": [
    {
     "data": {
      "text/plain": [
       "age                0\n",
       "body_type       5296\n",
       "diet           24395\n",
       "drinks          2985\n",
       "drugs          14080\n",
       "education       6628\n",
       "essay0          5488\n",
       "essay1          7572\n",
       "essay2          9638\n",
       "essay3         11476\n",
       "essay4         10537\n",
       "essay5         10850\n",
       "essay6         13771\n",
       "essay7         12451\n",
       "essay8         19225\n",
       "essay9         12603\n",
       "ethnicity       5680\n",
       "height             3\n",
       "income             0\n",
       "job             8198\n",
       "last_online        0\n",
       "location           0\n",
       "offspring      35561\n",
       "orientation        0\n",
       "pets           19921\n",
       "religion       20226\n",
       "sex                0\n",
       "sign           11056\n",
       "smokes          5512\n",
       "speaks            50\n",
       "status             0\n",
       "dtype: int64"
      ]
     },
     "execution_count": 8,
     "metadata": {},
     "output_type": "execute_result"
    }
   ],
   "source": [
    "df.isnull().sum()"
   ]
  },
  {
   "cell_type": "code",
   "execution_count": 9,
   "id": "bbbb365b",
   "metadata": {},
   "outputs": [
    {
     "data": {
      "text/plain": [
       "273202"
      ]
     },
     "execution_count": 9,
     "metadata": {},
     "output_type": "execute_result"
    }
   ],
   "source": [
    "df.isnull().sum().sum()"
   ]
  },
  {
   "cell_type": "markdown",
   "id": "f495ab42",
   "metadata": {},
   "source": [
    "There 273,202 null values in the dataset in total"
   ]
  },
  {
   "cell_type": "markdown",
   "id": "04bc3d13",
   "metadata": {},
   "source": [
    "### EXPLORING NULL VALUES"
   ]
  },
  {
   "cell_type": "code",
   "execution_count": 212,
   "id": "5ba2281f",
   "metadata": {},
   "outputs": [
    {
     "name": "stdout",
     "output_type": "stream",
     "text": [
      "The age column has 0 null values\n",
      "The body_type column has 5296 null values\n",
      "The diet column has 24395 null values\n",
      "The drinks column has 2985 null values\n",
      "The drugs column has 14080 null values\n",
      "The education column has 6628 null values\n",
      "The essay0 column has 5488 null values\n",
      "The essay1 column has 7572 null values\n",
      "The essay2 column has 9638 null values\n",
      "The essay3 column has 11476 null values\n",
      "The essay4 column has 10537 null values\n",
      "The essay5 column has 10850 null values\n",
      "The essay6 column has 13771 null values\n",
      "The essay7 column has 12451 null values\n",
      "The essay8 column has 19225 null values\n",
      "The essay9 column has 12603 null values\n",
      "The ethnicity column has 5680 null values\n",
      "The height column has 3 null values\n",
      "The income column has 0 null values\n",
      "The job column has 8198 null values\n",
      "The last_online column has 0 null values\n",
      "The location column has 0 null values\n",
      "The offspring column has 35561 null values\n",
      "The orientation column has 0 null values\n",
      "The pets column has 19921 null values\n",
      "The religion column has 20226 null values\n",
      "The sex column has 0 null values\n",
      "The sign column has 11056 null values\n",
      "The smokes column has 5512 null values\n",
      "The speaks column has 50 null values\n",
      "The status column has 0 null values\n"
     ]
    }
   ],
   "source": [
    "null_values = list(df.isnull().sum())\n",
    "columns = list(df.columns)\n",
    "\n",
    "for null in list(zip(columns, null_values)):\n",
    "    print(f\"The {null[0]} column has {null[1]} null values\")"
   ]
  },
  {
   "cell_type": "markdown",
   "id": "3df42d0e",
   "metadata": {},
   "source": [
    "###### GRAPH OF ALL NULL VALUES IN THE DATASET "
   ]
  },
  {
   "cell_type": "code",
   "execution_count": 213,
   "id": "ade29a1a",
   "metadata": {},
   "outputs": [
    {
     "data": {
      "image/png": "[encoded data removed]",
      "text/plain": [
       "<Figure size 1080x720 with 1 Axes>"
      ]
     },
     "metadata": {},
     "output_type": "display_data"
    }
   ],
   "source": [
    "fig = plt.figure(figsize=(15, 10))\n",
    "sns.set_theme(style=\"whitegrid\")\n",
    "sns.barplot(x=columns, y=null_values)\n",
    "plt.xticks(rotation=90)\n",
    "plt.show()"
   ]
  },
  {
   "cell_type": "markdown",
   "id": "2d779366",
   "metadata": {},
   "source": [
    "It can be seen that the offspring column had a lot of null values\n",
    "My guess is because a lot of people without children decided not fill that part\n",
    "so we assume the null values can replaced with 0\n",
    "\n",
    "The next column with lots of null values is the diet column\n",
    "and this can be attributed to people who do not know their dietary information\n",
    "\n",
    "The null values for pet and religion can be attributed to people who do not have a pet\n",
    " and religion respectively.\n",
    " \n",
    "since there no null values for columns like age, income, height and location, we can assume\n",
    "that there are no rows with all null values in the dataset"
   ]
  },
  {
   "cell_type": "markdown",
   "id": "7bccfad8",
   "metadata": {},
   "source": [
    "### SINGLE VARIABLE EXPLORATION"
   ]
  },
  {
   "cell_type": "markdown",
   "id": "ebe373bb",
   "metadata": {},
   "source": [
    "#### EXPLORATION OF CATEGORICAL VARIABLES"
   ]
  },
  {
   "cell_type": "markdown",
   "id": "628b83b8",
   "metadata": {},
   "source": [
    "Since the work is based on the classification of the sign\n",
    "we first have to check the unique signs that are available in the dataset"
   ]
  },
  {
   "cell_type": "code",
   "execution_count": 214,
   "id": "b907884e",
   "metadata": {},
   "outputs": [
    {
     "data": {
      "text/plain": [
       "48"
      ]
     },
     "execution_count": 214,
     "metadata": {},
     "output_type": "execute_result"
    }
   ],
   "source": [
    "# Print the unique values in the sign column\n",
    "df['sign'].nunique()"
   ]
  },
  {
   "cell_type": "code",
   "execution_count": 215,
   "id": "041d0287",
   "metadata": {},
   "outputs": [
    {
     "data": {
      "text/plain": [
       "array(['gemini', 'cancer', 'pisces but it doesn&rsquo;t matter', 'pisces',\n",
       "       'aquarius', 'taurus', 'virgo', 'sagittarius',\n",
       "       'gemini but it doesn&rsquo;t matter',\n",
       "       'cancer but it doesn&rsquo;t matter',\n",
       "       'leo but it doesn&rsquo;t matter', nan,\n",
       "       'aquarius but it doesn&rsquo;t matter',\n",
       "       'aries and it&rsquo;s fun to think about',\n",
       "       'libra but it doesn&rsquo;t matter',\n",
       "       'pisces and it&rsquo;s fun to think about', 'libra',\n",
       "       'taurus but it doesn&rsquo;t matter',\n",
       "       'sagittarius but it doesn&rsquo;t matter',\n",
       "       'scorpio and it matters a lot',\n",
       "       'gemini and it&rsquo;s fun to think about',\n",
       "       'leo and it&rsquo;s fun to think about',\n",
       "       'cancer and it&rsquo;s fun to think about',\n",
       "       'libra and it&rsquo;s fun to think about',\n",
       "       'aquarius and it&rsquo;s fun to think about',\n",
       "       'virgo but it doesn&rsquo;t matter',\n",
       "       'scorpio and it&rsquo;s fun to think about',\n",
       "       'capricorn but it doesn&rsquo;t matter', 'scorpio',\n",
       "       'capricorn and it&rsquo;s fun to think about', 'leo',\n",
       "       'aries but it doesn&rsquo;t matter', 'aries',\n",
       "       'scorpio but it doesn&rsquo;t matter',\n",
       "       'sagittarius and it&rsquo;s fun to think about',\n",
       "       'libra and it matters a lot',\n",
       "       'taurus and it&rsquo;s fun to think about',\n",
       "       'leo and it matters a lot',\n",
       "       'virgo and it&rsquo;s fun to think about',\n",
       "       'cancer and it matters a lot', 'capricorn',\n",
       "       'pisces and it matters a lot', 'aries and it matters a lot',\n",
       "       'capricorn and it matters a lot', 'aquarius and it matters a lot',\n",
       "       'sagittarius and it matters a lot', 'gemini and it matters a lot',\n",
       "       'taurus and it matters a lot', 'virgo and it matters a lot'],\n",
       "      dtype=object)"
      ]
     },
     "execution_count": 215,
     "metadata": {},
     "output_type": "execute_result"
    }
   ],
   "source": [
    "df['sign'].unique()"
   ]
  },
  {
   "cell_type": "code",
   "execution_count": 10,
   "id": "f5f05c75",
   "metadata": {},
   "outputs": [],
   "source": [
    "def get_sign(column):\n",
    "    lookUp = ['gemini', 'aquarius', 'cancer', 'leo', 'sagittarius',\n",
    "              'taurus', 'scorpio', 'pisces', 'libra', 'virgo',\n",
    "             'capricorn', 'aries']\n",
    "    for sign in column.str.split():\n",
    "        if sign in lookUp:\n",
    "            return sign"
   ]
  },
  {
   "cell_type": "code",
   "execution_count": 11,
   "id": "8b468d5b",
   "metadata": {},
   "outputs": [],
   "source": [
    "df['improved_sign'] = df.sign.str.split().str.get(0)"
   ]
  },
  {
   "cell_type": "code",
   "execution_count": 12,
   "id": "73a132fa",
   "metadata": {},
   "outputs": [
    {
     "data": {
      "text/plain": [
       "array(['gemini', 'cancer', 'pisces', 'aquarius', 'taurus', 'virgo',\n",
       "       'sagittarius', 'leo', nan, 'aries', 'libra', 'scorpio',\n",
       "       'capricorn'], dtype=object)"
      ]
     },
     "execution_count": 12,
     "metadata": {},
     "output_type": "execute_result"
    }
   ],
   "source": [
    "df['improved_sign'].unique()"
   ]
  },
  {
   "cell_type": "code",
   "execution_count": 13,
   "id": "92520a38",
   "metadata": {},
   "outputs": [
    {
     "data": {
      "text/plain": [
       "12"
      ]
     },
     "execution_count": 13,
     "metadata": {},
     "output_type": "execute_result"
    }
   ],
   "source": [
    "df['improved_sign'].nunique()"
   ]
  },
  {
   "cell_type": "markdown",
   "id": "8ec31955",
   "metadata": {},
   "source": [
    "#### age\n",
    "\n",
    "The next plot shows the distribution of age in the group. It seems that most users are in their late 20s to early 30s."
   ]
  },
  {
   "cell_type": "code",
   "execution_count": 220,
   "id": "8f73f64e",
   "metadata": {},
   "outputs": [
    {
     "data": {
      "image/png": "[encoded data removed]",
      "text/plain": [
       "<Figure size 360x360 with 1 Axes>"
      ]
     },
     "metadata": {},
     "output_type": "display_data"
    }
   ],
   "source": [
    "sns.displot(data=df, x=\"age\", kind=\"hist\", binwidth = 5);"
   ]
  },
  {
   "cell_type": "code",
   "execution_count": 221,
   "id": "b5b38f06",
   "metadata": {},
   "outputs": [
    {
     "data": {
      "image/png": "[encoded data removed]",
      "text/plain": [
       "<Figure size 410.35x360 with 1 Axes>"
      ]
     },
     "metadata": {},
     "output_type": "display_data"
    }
   ],
   "source": [
    "sns.displot(data=df, x=\"age\", hue=\"sex\", kind=\"hist\", binwidth = 5, multiple = \"stack\");"
   ]
  },
  {
   "cell_type": "code",
   "execution_count": 222,
   "id": "a5452891",
   "metadata": {},
   "outputs": [
    {
     "data": {
      "image/png": "[encoded data removed]",
      "text/plain": [
       "<Figure size 360x360 with 1 Axes>"
      ]
     },
     "metadata": {},
     "output_type": "display_data"
    }
   ],
   "source": [
    "sns.displot(data=df, x=\"height\", kind=\"hist\", binwidth = 2);"
   ]
  },
  {
   "cell_type": "code",
   "execution_count": 223,
   "id": "e0209dee",
   "metadata": {},
   "outputs": [
    {
     "data": {
      "image/png": "[encoded data removed]",
      "text/plain": [
       "<Figure size 410.35x360 with 1 Axes>"
      ]
     },
     "metadata": {},
     "output_type": "display_data"
    }
   ],
   "source": [
    "sns.displot(data=df, x=\"height\",hue=\"sex\", kind=\"hist\", binwidth = 2, multiple = \"stack\");"
   ]
  },
  {
   "cell_type": "code",
   "execution_count": 224,
   "id": "a67fc20b",
   "metadata": {},
   "outputs": [
    {
     "data": {
      "text/plain": [
       "<seaborn.axisgrid.FacetGrid at 0x7f8ab459da90>"
      ]
     },
     "execution_count": 224,
     "metadata": {},
     "output_type": "execute_result"
    },
    {
     "data": {
      "image/png": "[encoded data removed]",
      "text/plain": [
       "<Figure size 410.35x360 with 1 Axes>"
      ]
     },
     "metadata": {},
     "output_type": "display_data"
    }
   ],
   "source": [
    "sns.displot(data=df, x=\"income\",hue=\"sex\", kind=\"hist\", binwidth = 50000, multiple = \"stack\")"
   ]
  },
  {
   "cell_type": "code",
   "execution_count": 225,
   "id": "fc33cfd7",
   "metadata": {},
   "outputs": [
    {
     "data": {
      "text/plain": [
       "<AxesSubplot:xlabel='count', ylabel='sex'>"
      ]
     },
     "execution_count": 225,
     "metadata": {},
     "output_type": "execute_result"
    },
    {
     "data": {
      "image/png": "[encoded data removed]",
      "text/plain": [
       "<Figure size 432x288 with 1 Axes>"
      ]
     },
     "metadata": {},
     "output_type": "display_data"
    }
   ],
   "source": [
    "sns.countplot(data=df, y=\"sex\")"
   ]
  },
  {
   "cell_type": "code",
   "execution_count": 226,
   "id": "e7182c1a",
   "metadata": {},
   "outputs": [
    {
     "data": {
      "text/plain": [
       "<AxesSubplot:xlabel='count', ylabel='body_type'>"
      ]
     },
     "execution_count": 226,
     "metadata": {},
     "output_type": "execute_result"
    },
    {
     "data": {
      "image/png": "[encoded data removed]",
      "text/plain": [
       "<Figure size 432x288 with 1 Axes>"
      ]
     },
     "metadata": {},
     "output_type": "display_data"
    }
   ],
   "source": [
    "sns.countplot(data=df, y=\"body_type\")"
   ]
  },
  {
   "cell_type": "code",
   "execution_count": 227,
   "id": "1177290e",
   "metadata": {},
   "outputs": [
    {
     "data": {
      "text/plain": [
       "<AxesSubplot:xlabel='count', ylabel='body_type'>"
      ]
     },
     "execution_count": 227,
     "metadata": {},
     "output_type": "execute_result"
    },
    {
     "data": {
      "image/png": "[encoded data removed]",
      "text/plain": [
       "<Figure size 432x288 with 1 Axes>"
      ]
     },
     "metadata": {},
     "output_type": "display_data"
    }
   ],
   "source": [
    "sns.countplot(data=df, y=\"body_type\", hue = \"sex\")"
   ]
  },
  {
   "cell_type": "code",
   "execution_count": 228,
   "id": "6eeb4dad",
   "metadata": {},
   "outputs": [
    {
     "data": {
      "image/png": "[encoded data removed]",
      "text/plain": [
       "<Figure size 432x288 with 1 Axes>"
      ]
     },
     "metadata": {},
     "output_type": "display_data"
    }
   ],
   "source": [
    "sns.countplot(data=df, y=\"drugs\");"
   ]
  },
  {
   "cell_type": "code",
   "execution_count": 229,
   "id": "158f36fd",
   "metadata": {},
   "outputs": [
    {
     "data": {
      "text/plain": [
       "<AxesSubplot:xlabel='count', ylabel='orientation'>"
      ]
     },
     "execution_count": 229,
     "metadata": {},
     "output_type": "execute_result"
    },
    {
     "data": {
      "image/png": "[encoded data removed]",
      "text/plain": [
       "<Figure size 432x288 with 1 Axes>"
      ]
     },
     "metadata": {},
     "output_type": "display_data"
    }
   ],
   "source": [
    "sns.countplot(data=df, y=\"orientation\")"
   ]
  },
  {
   "cell_type": "code",
   "execution_count": 230,
   "id": "37ee60bf",
   "metadata": {},
   "outputs": [
    {
     "data": {
      "text/plain": [
       "<AxesSubplot:xlabel='count', ylabel='orientation'>"
      ]
     },
     "execution_count": 230,
     "metadata": {},
     "output_type": "execute_result"
    },
    {
     "data": {
      "image/png": "[encoded data removed]",
      "text/plain": [
       "<Figure size 432x288 with 1 Axes>"
      ]
     },
     "metadata": {},
     "output_type": "display_data"
    }
   ],
   "source": [
    "sns.countplot(data=df, y=\"orientation\", hue = \"sex\")"
   ]
  },
  {
   "cell_type": "code",
   "execution_count": 14,
   "id": "60b49f0d",
   "metadata": {},
   "outputs": [
    {
     "name": "stdout",
     "output_type": "stream",
     "text": [
      "  sex  count\n",
      "0   f  24117\n",
      "1   m  35829\n"
     ]
    },
    {
     "data": {
      "image/png": "[encoded data removed]",
      "text/plain": [
       "<Figure size 720x576 with 1 Axes>"
      ]
     },
     "metadata": {},
     "output_type": "display_data"
    },
    {
     "data": {
      "image/png": "[encoded data removed]",
      "text/plain": [
       "<Figure size 720x576 with 1 Axes>"
      ]
     },
     "metadata": {
      "needs_background": "light"
     },
     "output_type": "display_data"
    },
    {
     "data": {
      "image/png": "[encoded data removed]",
      "text/plain": [
       "<Figure size 720x576 with 1 Axes>"
      ]
     },
     "metadata": {
      "needs_background": "light"
     },
     "output_type": "display_data"
    }
   ],
   "source": [
    "#Proportion of Men and Women\n",
    "\n",
    "sex_df = df.groupby('sex')['age'].count().reset_index()\n",
    "sex_df.rename(columns = {'age':'count'}, inplace = True)\n",
    "print(sex_df)\n",
    "\n",
    "plt.figure(figsize = (10,8))\n",
    "ax1 = plt.subplot(1,1,1)\n",
    "plt.pie(sex_df['count'], labels = sex_df['sex'], colors = ['pink', 'blue'], autopct = '%d%%')\n",
    "plt.axis('equal')\n",
    "plt.title('Distribution of Men vs Women')\n",
    "plt.show()\n",
    "\n",
    "#Age distributions\n",
    "age_men = df[df['sex'] == 'm']['age']\n",
    "age_women = df[df['sex'] == 'f']['age']\n",
    "\n",
    "plt.close('all')\n",
    "plt.figure(figsize = (10,8))\n",
    "ax2 = plt.subplot(1,1,1)\n",
    "plt.hist(age_men, alpha = 0.3, color = 'blue', density = True, bins = 20)\n",
    "plt.hist(age_women, alpha = 0.4, color = 'orange', density = True, bins = 20)\n",
    "plt.legend(['mens ages', 'womens ages'])\n",
    "plt.title('Age Distributions of Men and Women')\n",
    "ax2.set_xticks(range(0,110,5))\n",
    "plt.show()\n",
    "\n",
    "#Height distributions\n",
    "height_men = df[df['sex'] == 'm']['height']\n",
    "height_women = df[df['sex'] == 'f']['height']\n",
    "\n",
    "plt.close('all')\n",
    "plt.figure(figsize = (10,8))\n",
    "ax3 = plt.subplot(1,1,1)\n",
    "plt.hist(height_men, alpha = 0.3, color = 'blue', density = True, bins = 20)\n",
    "plt.hist(height_women, alpha = 0.4, color = 'orange', density = True, bins = 20)\n",
    "plt.axis([50,100, 0, 0.15])\n",
    "plt.legend(['mens heights', 'womens heights'])\n",
    "plt.title('Height Distributions of Men and Women')\n",
    "ax3.set_xticks(range(50,100,5))\n",
    "plt.show()"
   ]
  },
  {
   "cell_type": "code",
   "execution_count": 47,
   "id": "fef3a167",
   "metadata": {},
   "outputs": [
    {
     "name": "stdout",
     "output_type": "stream",
     "text": [
      "  sex orientation  counts\n",
      "0   f    bisexual    1996\n",
      "1   f         gay    1588\n",
      "2   f    straight   20533\n",
      "3   m    bisexual     771\n",
      "4   m         gay    3985\n",
      "5   m    straight   31073\n"
     ]
    },
    {
     "data": {
      "image/png": "[encoded data removed]",
      "text/plain": [
       "<Figure size 720x576 with 2 Axes>"
      ]
     },
     "metadata": {},
     "output_type": "display_data"
    }
   ],
   "source": [
    "orientation = df.groupby(['sex', 'orientation'])['age'].count().reset_index()\n",
    "orientation.rename(columns = {'age' : 'counts'}, inplace = True)\n",
    "print(orientation)\n",
    "\n",
    "explode = [0,0.1,0.1]\n",
    "\n",
    "plt.close('all')\n",
    "plt.figure(figsize = (10,8))\n",
    "ax4 = plt.subplot(1,2,1)\n",
    "plt.pie(orientation[orientation['sex'] == 'm']['counts'], labels = orientation[orientation['sex'] == 'm']['orientation'], autopct = '%d%%', explode = explode)\n",
    "plt.axis('equal')\n",
    "ax4.set_title('Orientation of Men')\n",
    "ax5 = plt.subplot(1,2,2)\n",
    "plt.pie(orientation[orientation['sex'] == 'f']['counts'], labels = orientation[orientation['sex'] == 'f']['orientation'], autopct = '%d%%', explode = explode)\n",
    "plt.axis('equal')\n",
    "ax5.set_title('Orientation of Women')\n",
    "plt.suptitle('Orientation of Men vs Women')\n",
    "plt.show()"
   ]
  },
  {
   "cell_type": "markdown",
   "id": "b2b36188",
   "metadata": {},
   "source": [
    "### CHECKING IF SOMEONE WANTS A CHILD OR NOT"
   ]
  },
  {
   "cell_type": "code",
   "execution_count": 9,
   "id": "7a0f773c",
   "metadata": {},
   "outputs": [
    {
     "name": "stdout",
     "output_type": "stream",
     "text": [
      "[\"doesn't have kids, but might want them\" nan \"doesn't want kids\"\n",
      " \"doesn't have kids, but wants them\" \"doesn't have kids\" 'wants kids'\n",
      " 'has a kid' 'has kids' \"doesn't have kids, and doesn't want any\"\n",
      " \"has kids, but doesn't want more\" \"has a kid, but doesn't want more\"\n",
      " 'has a kid, and wants more' 'has kids, and might want more'\n",
      " 'might want kids' 'has a kid, and might want more'\n",
      " 'has kids, and wants more']\n"
     ]
    }
   ],
   "source": [
    "print(df['offspring'].unique())"
   ]
  },
  {
   "cell_type": "markdown",
   "id": "a3727af7",
   "metadata": {},
   "source": [
    "We're not going to consider any qualifiers other than \"wants\" or \"doesn't want\" for these predictions. Answers which only indicate that someone \"has\" kids and not whether or not they \"want\" them will be excluded. Additionally, people who are currently uncertain will also be excluded from the test. We're primarily interested in creating a subset of people who know that they either want or don't want children.\n",
    "\n",
    "For this reason, we'll begin by creating a list of the values we want based on the above list of unique values.\n",
    "\n",
    "We also want to decide what features we'll use to make these predictions. In this case we'll go with:\n",
    "\n",
    "Education,\n",
    "Job,\n",
    "Whether the person drinks or not,\n",
    "Whether the person smokes or not,\n",
    "Whether the person uses drugs or not,\n",
    "Orientation,\n",
    "Religion,\n",
    "Age,\n",
    "Whether they want or don't want children"
   ]
  },
  {
   "cell_type": "code",
   "execution_count": 11,
   "id": "7d4f51c2",
   "metadata": {},
   "outputs": [],
   "source": [
    "df['religion_cleaned'] = df['religion'].dropna().apply(lambda x: x.split()[0])\n",
    "df['location_cleaned'] = df['location'].dropna().apply(lambda x: x.split(\", \")[1])"
   ]
  },
  {
   "cell_type": "code",
   "execution_count": 12,
   "id": "0ce76dae",
   "metadata": {},
   "outputs": [
    {
     "name": "stdout",
     "output_type": "stream",
     "text": [
      "4354\n"
     ]
    },
    {
     "data": {
      "text/html": [
       "<div>\n",
       "<style scoped>\n",
       "    .dataframe tbody tr th:only-of-type {\n",
       "        vertical-align: middle;\n",
       "    }\n",
       "\n",
       "    .dataframe tbody tr th {\n",
       "        vertical-align: top;\n",
       "    }\n",
       "\n",
       "    .dataframe thead th {\n",
       "        text-align: right;\n",
       "    }\n",
       "</style>\n",
       "<table border=\"1\" class=\"dataframe\">\n",
       "  <thead>\n",
       "    <tr style=\"text-align: right;\">\n",
       "      <th></th>\n",
       "      <th>education</th>\n",
       "      <th>job</th>\n",
       "      <th>drinks</th>\n",
       "      <th>smokes</th>\n",
       "      <th>drugs</th>\n",
       "      <th>orientation</th>\n",
       "      <th>religion_cleaned</th>\n",
       "      <th>age</th>\n",
       "      <th>wants_children</th>\n",
       "    </tr>\n",
       "  </thead>\n",
       "  <tbody>\n",
       "    <tr>\n",
       "      <th>7</th>\n",
       "      <td>graduated from college/university</td>\n",
       "      <td>artistic / musical / writer</td>\n",
       "      <td>socially</td>\n",
       "      <td>no</td>\n",
       "      <td>never</td>\n",
       "      <td>straight</td>\n",
       "      <td>christianity</td>\n",
       "      <td>0.254902</td>\n",
       "      <td>1</td>\n",
       "    </tr>\n",
       "    <tr>\n",
       "      <th>14</th>\n",
       "      <td>working on college/university</td>\n",
       "      <td>other</td>\n",
       "      <td>socially</td>\n",
       "      <td>no</td>\n",
       "      <td>never</td>\n",
       "      <td>straight</td>\n",
       "      <td>catholicism</td>\n",
       "      <td>0.215686</td>\n",
       "      <td>1</td>\n",
       "    </tr>\n",
       "    <tr>\n",
       "      <th>31</th>\n",
       "      <td>graduated from college/university</td>\n",
       "      <td>science / tech / engineering</td>\n",
       "      <td>socially</td>\n",
       "      <td>no</td>\n",
       "      <td>never</td>\n",
       "      <td>straight</td>\n",
       "      <td>atheism</td>\n",
       "      <td>0.176471</td>\n",
       "      <td>1</td>\n",
       "    </tr>\n",
       "    <tr>\n",
       "      <th>36</th>\n",
       "      <td>graduated from college/university</td>\n",
       "      <td>science / tech / engineering</td>\n",
       "      <td>socially</td>\n",
       "      <td>when drinking</td>\n",
       "      <td>never</td>\n",
       "      <td>straight</td>\n",
       "      <td>buddhism</td>\n",
       "      <td>0.274510</td>\n",
       "      <td>1</td>\n",
       "    </tr>\n",
       "    <tr>\n",
       "      <th>94</th>\n",
       "      <td>graduated from college/university</td>\n",
       "      <td>artistic / musical / writer</td>\n",
       "      <td>socially</td>\n",
       "      <td>no</td>\n",
       "      <td>sometimes</td>\n",
       "      <td>straight</td>\n",
       "      <td>agnosticism</td>\n",
       "      <td>0.215686</td>\n",
       "      <td>0</td>\n",
       "    </tr>\n",
       "  </tbody>\n",
       "</table>\n",
       "</div>"
      ],
      "text/plain": [
       "                            education                           job    drinks  \\\n",
       "7   graduated from college/university   artistic / musical / writer  socially   \n",
       "14      working on college/university                         other  socially   \n",
       "31  graduated from college/university  science / tech / engineering  socially   \n",
       "36  graduated from college/university  science / tech / engineering  socially   \n",
       "94  graduated from college/university   artistic / musical / writer  socially   \n",
       "\n",
       "           smokes      drugs orientation religion_cleaned       age  \\\n",
       "7              no      never    straight     christianity  0.254902   \n",
       "14             no      never    straight      catholicism  0.215686   \n",
       "31             no      never    straight          atheism  0.176471   \n",
       "36  when drinking      never    straight         buddhism  0.274510   \n",
       "94             no  sometimes    straight      agnosticism  0.215686   \n",
       "\n",
       "    wants_children  \n",
       "7                1  \n",
       "14               1  \n",
       "31               1  \n",
       "36               1  \n",
       "94               0  "
      ]
     },
     "execution_count": 12,
     "metadata": {},
     "output_type": "execute_result"
    }
   ],
   "source": [
    "val_to_keep = [\"doesn't want kids\", \"doesn't have kids, but wants them\", \\\n",
    "              \"wants kids\", \"doesn't have kids and doesn't want any\", \\\n",
    "              \"has kids, but doesn't want more\", \"has a kid, but doesn't want more\", \\\n",
    "              \"has a kid, and wants more\", \"has kids, and wants more\"]\n",
    "children_features = ['offspring', 'education', 'job', 'drinks', 'smokes', 'drugs', 'orientation', 'religion_cleaned', 'age', 'wants_children']\n",
    "\n",
    "children_df = df[children_features[:-1]][df['offspring'].isin(val_to_keep)].dropna()\n",
    "children_df['wants_children'] = children_df['offspring'].apply(lambda x: 0 if (\"doesn't want\" in x) \\\n",
    "                                                                else (1 if \"want\" in x else None))\n",
    "age_min = children_df['age'].min()\n",
    "age_max = children_df['age'].max()\n",
    "children_df['age'] = children_df['age'].apply(lambda x: (x-age_min) / (age_max-age_min))\n",
    "children_df['wants_children'] = children_df['wants_children'].astype(int)\n",
    "children_df = children_df.drop(columns=['offspring'])\n",
    "print(len(children_df))\n",
    "children_df.head(5)"
   ]
  },
  {
   "cell_type": "code",
   "execution_count": 13,
   "id": "e48355c7",
   "metadata": {},
   "outputs": [
    {
     "data": {
      "text/html": [
       "<div>\n",
       "<style scoped>\n",
       "    .dataframe tbody tr th:only-of-type {\n",
       "        vertical-align: middle;\n",
       "    }\n",
       "\n",
       "    .dataframe tbody tr th {\n",
       "        vertical-align: top;\n",
       "    }\n",
       "\n",
       "    .dataframe thead th {\n",
       "        text-align: right;\n",
       "    }\n",
       "</style>\n",
       "<table border=\"1\" class=\"dataframe\">\n",
       "  <thead>\n",
       "    <tr style=\"text-align: right;\">\n",
       "      <th></th>\n",
       "      <th>age</th>\n",
       "      <th>wants_children</th>\n",
       "      <th>education_college/university</th>\n",
       "      <th>education_dropped out of college/university</th>\n",
       "      <th>education_dropped out of high school</th>\n",
       "      <th>education_dropped out of law school</th>\n",
       "      <th>education_dropped out of masters program</th>\n",
       "      <th>education_dropped out of med school</th>\n",
       "      <th>education_dropped out of ph.d program</th>\n",
       "      <th>education_dropped out of space camp</th>\n",
       "      <th>...</th>\n",
       "      <th>orientation_straight</th>\n",
       "      <th>religion_cleaned_agnosticism</th>\n",
       "      <th>religion_cleaned_atheism</th>\n",
       "      <th>religion_cleaned_buddhism</th>\n",
       "      <th>religion_cleaned_catholicism</th>\n",
       "      <th>religion_cleaned_christianity</th>\n",
       "      <th>religion_cleaned_hinduism</th>\n",
       "      <th>religion_cleaned_islam</th>\n",
       "      <th>religion_cleaned_judaism</th>\n",
       "      <th>religion_cleaned_other</th>\n",
       "    </tr>\n",
       "  </thead>\n",
       "  <tbody>\n",
       "    <tr>\n",
       "      <th>7</th>\n",
       "      <td>0.254902</td>\n",
       "      <td>1</td>\n",
       "      <td>0</td>\n",
       "      <td>0</td>\n",
       "      <td>0</td>\n",
       "      <td>0</td>\n",
       "      <td>0</td>\n",
       "      <td>0</td>\n",
       "      <td>0</td>\n",
       "      <td>0</td>\n",
       "      <td>...</td>\n",
       "      <td>1</td>\n",
       "      <td>0</td>\n",
       "      <td>0</td>\n",
       "      <td>0</td>\n",
       "      <td>0</td>\n",
       "      <td>1</td>\n",
       "      <td>0</td>\n",
       "      <td>0</td>\n",
       "      <td>0</td>\n",
       "      <td>0</td>\n",
       "    </tr>\n",
       "    <tr>\n",
       "      <th>14</th>\n",
       "      <td>0.215686</td>\n",
       "      <td>1</td>\n",
       "      <td>0</td>\n",
       "      <td>0</td>\n",
       "      <td>0</td>\n",
       "      <td>0</td>\n",
       "      <td>0</td>\n",
       "      <td>0</td>\n",
       "      <td>0</td>\n",
       "      <td>0</td>\n",
       "      <td>...</td>\n",
       "      <td>1</td>\n",
       "      <td>0</td>\n",
       "      <td>0</td>\n",
       "      <td>0</td>\n",
       "      <td>1</td>\n",
       "      <td>0</td>\n",
       "      <td>0</td>\n",
       "      <td>0</td>\n",
       "      <td>0</td>\n",
       "      <td>0</td>\n",
       "    </tr>\n",
       "    <tr>\n",
       "      <th>31</th>\n",
       "      <td>0.176471</td>\n",
       "      <td>1</td>\n",
       "      <td>0</td>\n",
       "      <td>0</td>\n",
       "      <td>0</td>\n",
       "      <td>0</td>\n",
       "      <td>0</td>\n",
       "      <td>0</td>\n",
       "      <td>0</td>\n",
       "      <td>0</td>\n",
       "      <td>...</td>\n",
       "      <td>1</td>\n",
       "      <td>0</td>\n",
       "      <td>1</td>\n",
       "      <td>0</td>\n",
       "      <td>0</td>\n",
       "      <td>0</td>\n",
       "      <td>0</td>\n",
       "      <td>0</td>\n",
       "      <td>0</td>\n",
       "      <td>0</td>\n",
       "    </tr>\n",
       "    <tr>\n",
       "      <th>36</th>\n",
       "      <td>0.274510</td>\n",
       "      <td>1</td>\n",
       "      <td>0</td>\n",
       "      <td>0</td>\n",
       "      <td>0</td>\n",
       "      <td>0</td>\n",
       "      <td>0</td>\n",
       "      <td>0</td>\n",
       "      <td>0</td>\n",
       "      <td>0</td>\n",
       "      <td>...</td>\n",
       "      <td>1</td>\n",
       "      <td>0</td>\n",
       "      <td>0</td>\n",
       "      <td>1</td>\n",
       "      <td>0</td>\n",
       "      <td>0</td>\n",
       "      <td>0</td>\n",
       "      <td>0</td>\n",
       "      <td>0</td>\n",
       "      <td>0</td>\n",
       "    </tr>\n",
       "    <tr>\n",
       "      <th>94</th>\n",
       "      <td>0.215686</td>\n",
       "      <td>0</td>\n",
       "      <td>0</td>\n",
       "      <td>0</td>\n",
       "      <td>0</td>\n",
       "      <td>0</td>\n",
       "      <td>0</td>\n",
       "      <td>0</td>\n",
       "      <td>0</td>\n",
       "      <td>0</td>\n",
       "      <td>...</td>\n",
       "      <td>1</td>\n",
       "      <td>1</td>\n",
       "      <td>0</td>\n",
       "      <td>0</td>\n",
       "      <td>0</td>\n",
       "      <td>0</td>\n",
       "      <td>0</td>\n",
       "      <td>0</td>\n",
       "      <td>0</td>\n",
       "      <td>0</td>\n",
       "    </tr>\n",
       "  </tbody>\n",
       "</table>\n",
       "<p>5 rows × 81 columns</p>\n",
       "</div>"
      ],
      "text/plain": [
       "         age  wants_children  education_college/university  \\\n",
       "7   0.254902               1                             0   \n",
       "14  0.215686               1                             0   \n",
       "31  0.176471               1                             0   \n",
       "36  0.274510               1                             0   \n",
       "94  0.215686               0                             0   \n",
       "\n",
       "    education_dropped out of college/university  \\\n",
       "7                                             0   \n",
       "14                                            0   \n",
       "31                                            0   \n",
       "36                                            0   \n",
       "94                                            0   \n",
       "\n",
       "    education_dropped out of high school  education_dropped out of law school  \\\n",
       "7                                      0                                    0   \n",
       "14                                     0                                    0   \n",
       "31                                     0                                    0   \n",
       "36                                     0                                    0   \n",
       "94                                     0                                    0   \n",
       "\n",
       "    education_dropped out of masters program  \\\n",
       "7                                          0   \n",
       "14                                         0   \n",
       "31                                         0   \n",
       "36                                         0   \n",
       "94                                         0   \n",
       "\n",
       "    education_dropped out of med school  \\\n",
       "7                                     0   \n",
       "14                                    0   \n",
       "31                                    0   \n",
       "36                                    0   \n",
       "94                                    0   \n",
       "\n",
       "    education_dropped out of ph.d program  \\\n",
       "7                                       0   \n",
       "14                                      0   \n",
       "31                                      0   \n",
       "36                                      0   \n",
       "94                                      0   \n",
       "\n",
       "    education_dropped out of space camp  ...  orientation_straight  \\\n",
       "7                                     0  ...                     1   \n",
       "14                                    0  ...                     1   \n",
       "31                                    0  ...                     1   \n",
       "36                                    0  ...                     1   \n",
       "94                                    0  ...                     1   \n",
       "\n",
       "    religion_cleaned_agnosticism  religion_cleaned_atheism  \\\n",
       "7                              0                         0   \n",
       "14                             0                         0   \n",
       "31                             0                         1   \n",
       "36                             0                         0   \n",
       "94                             1                         0   \n",
       "\n",
       "    religion_cleaned_buddhism  religion_cleaned_catholicism  \\\n",
       "7                           0                             0   \n",
       "14                          0                             1   \n",
       "31                          0                             0   \n",
       "36                          1                             0   \n",
       "94                          0                             0   \n",
       "\n",
       "    religion_cleaned_christianity  religion_cleaned_hinduism  \\\n",
       "7                               1                          0   \n",
       "14                              0                          0   \n",
       "31                              0                          0   \n",
       "36                              0                          0   \n",
       "94                              0                          0   \n",
       "\n",
       "    religion_cleaned_islam  religion_cleaned_judaism  religion_cleaned_other  \n",
       "7                        0                         0                       0  \n",
       "14                       0                         0                       0  \n",
       "31                       0                         0                       0  \n",
       "36                       0                         0                       0  \n",
       "94                       0                         0                       0  \n",
       "\n",
       "[5 rows x 81 columns]"
      ]
     },
     "execution_count": 13,
     "metadata": {},
     "output_type": "execute_result"
    }
   ],
   "source": [
    "# This cell creates dummmy features that the classifier can easily interpret\n",
    "for feature in children_features[1:-2]:\n",
    "    children_df = pd.get_dummies(children_df, columns=[feature], prefix=[feature])\n",
    "children_df.head()"
   ]
  },
  {
   "cell_type": "code",
   "execution_count": 14,
   "id": "26f97bde",
   "metadata": {},
   "outputs": [],
   "source": [
    "data1 = children_df.iloc[:, 2:]\n",
    "data2 = children_df.iloc[:, 0]\n",
    "children_data = pd.concat([data1, data2], axis=1)\n",
    "children_labels = children_df['wants_children'].values\n",
    "\n",
    "children_train_data, children_test_data, children_train_labels, children_test_labels = train_test_split(children_data, \\\n",
    "                                                                                                       children_labels, \\\n",
    "                                                                                                       random_state=0)"
   ]
  },
  {
   "cell_type": "markdown",
   "id": "23b748b3",
   "metadata": {},
   "source": [
    "### LOGISTIC REGRESSION MODEL"
   ]
  },
  {
   "cell_type": "code",
   "execution_count": 16,
   "id": "7d0b8411",
   "metadata": {},
   "outputs": [
    {
     "name": "stdout",
     "output_type": "stream",
     "text": [
      "              precision    recall  f1-score   support\n",
      "\n",
      "           0       0.82      0.78      0.80       582\n",
      "           1       0.76      0.80      0.78       507\n",
      "\n",
      "    accuracy                           0.79      1089\n",
      "   macro avg       0.79      0.79      0.79      1089\n",
      "weighted avg       0.79      0.79      0.79      1089\n",
      "\n"
     ]
    }
   ],
   "source": [
    "from sklearn.linear_model import LogisticRegression\n",
    "from sklearn.metrics import classification_report\n",
    "lr_clf = LogisticRegression()\n",
    "lr_clf = lr_clf.fit(children_train_data, children_train_labels)\n",
    "lr_predictions = lr_clf.predict(children_test_data)\n",
    "print(classification_report(children_test_labels, lr_predictions))"
   ]
  },
  {
   "cell_type": "code",
   "execution_count": 18,
   "id": "1ca8cad4",
   "metadata": {},
   "outputs": [
    {
     "data": {
      "image/png": "[encoded data removed]",
      "text/plain": [
       "<Figure size 864x576 with 2 Axes>"
      ]
     },
     "metadata": {
      "needs_background": "light"
     },
     "output_type": "display_data"
    }
   ],
   "source": [
    "# CONFUSION MATRIX FOR THE LOGISTIC REGRESSION CLASSIFIER\n",
    "from sklearn.metrics import confusion_matrix\n",
    "children_cm = confusion_matrix(children_test_labels, lr_predictions)\n",
    "\n",
    "plt.figure(figsize=(12,8))\n",
    "ax = plt.subplot()\n",
    "sns.heatmap(children_cm, annot=True, ax = ax,fmt=\"d\")\n",
    "ax.set_xlabel(\"Predicted value\")\n",
    "ax.set_ylabel(\"True value\")\n",
    "ax.set_xticklabels([\"doesn't want\", \"wants\"])\n",
    "ax.set_yticklabels([\"doesn't want\", \"wants\"], rotation=360)\n",
    "plt.savefig('lr-cm.png')\n",
    "plt.show()\n"
   ]
  },
  {
   "cell_type": "markdown",
   "id": "091d7f72",
   "metadata": {},
   "source": [
    "The logistic regression model had an accuracy of 79%. A true positive of 452 was recorded\n",
    "A false positive of 130 was recorded, 101 for true negative and 406 for false negative."
   ]
  },
  {
   "cell_type": "markdown",
   "id": "0c83e28f",
   "metadata": {},
   "source": [
    "### K-NEAREST NEIGHBOR CLASSIFIER"
   ]
  },
  {
   "cell_type": "code",
   "execution_count": 20,
   "id": "d34acaca",
   "metadata": {},
   "outputs": [
    {
     "name": "stdout",
     "output_type": "stream",
     "text": [
      "              precision    recall  f1-score   support\n",
      "\n",
      "           0       0.78      0.68      0.73       582\n",
      "           1       0.68      0.77      0.72       507\n",
      "\n",
      "    accuracy                           0.72      1089\n",
      "   macro avg       0.73      0.73      0.72      1089\n",
      "weighted avg       0.73      0.72      0.72      1089\n",
      "\n"
     ]
    }
   ],
   "source": [
    "from sklearn.neighbors import KNeighborsClassifier\n",
    "knn_clf = KNeighborsClassifier()\n",
    "knn_clf.fit(children_train_data, children_train_labels)\n",
    "knn_child_predictions = knn_clf.predict(children_test_data)\n",
    "print(classification_report(children_test_labels, knn_child_predictions))"
   ]
  },
  {
   "cell_type": "code",
   "execution_count": 21,
   "id": "ee47ac21",
   "metadata": {},
   "outputs": [
    {
     "data": {
      "image/png": "[encoded data removed]",
      "text/plain": [
       "<Figure size 864x576 with 2 Axes>"
      ]
     },
     "metadata": {
      "needs_background": "light"
     },
     "output_type": "display_data"
    }
   ],
   "source": [
    "from sklearn.metrics import confusion_matrix\n",
    "children_cm = confusion_matrix(children_test_labels, knn_child_predictions)\n",
    "\n",
    "plt.figure(figsize=(12,8))\n",
    "ax = plt.subplot()\n",
    "sns.heatmap(children_cm, annot=True, ax = ax,fmt=\"d\")\n",
    "ax.set_xlabel(\"Predicted value\")\n",
    "ax.set_ylabel(\"True value\")\n",
    "ax.set_xticklabels([\"doesn't want\", \"wants\"])\n",
    "ax.set_yticklabels([\"doesn't want\", \"wants\"], rotation=360)\n",
    "plt.savefig('knn-cm.png')\n",
    "plt.show()"
   ]
  },
  {
   "cell_type": "markdown",
   "id": "d0baf68d",
   "metadata": {},
   "source": [
    "#### TRYING TO PREDICT USERS ZODIAC SIGNS FROM THE INFORMATION ON THEIR PROFILES"
   ]
  },
  {
   "cell_type": "markdown",
   "id": "95aa949e",
   "metadata": {},
   "source": [
    "If we check back to our table containing a count of NaN values, we can see that sign has around 11,000 missing values. Using features that describe a user's habits and what they do for a living, we could potentially predict someone's zodiac sign in order to fill in the missing values. We'll want to do two things before we actually begin training an ML model on our data: select the classifiers we'll be using, and select a subet of data that we'll train those models on.\n",
    "\n",
    "Finally, we're only interested in the sign itself, not whether or not the user in question is a fervent believer in astrology. We can see after cleaning the data that some rows include things like \"but it doesn't matter\" in conjunction with a user's sign. We'll be removing this. "
   ]
  },
  {
   "cell_type": "markdown",
   "id": "5fe09436",
   "metadata": {},
   "source": [
    "### adding some columns to the dataset"
   ]
  },
  {
   "cell_type": "code",
   "execution_count": 48,
   "id": "cebcb86c",
   "metadata": {},
   "outputs": [
    {
     "name": "stdout",
     "output_type": "stream",
     "text": [
      "15821\n"
     ]
    },
    {
     "data": {
      "text/html": [
       "<div>\n",
       "<style scoped>\n",
       "    .dataframe tbody tr th:only-of-type {\n",
       "        vertical-align: middle;\n",
       "    }\n",
       "\n",
       "    .dataframe tbody tr th {\n",
       "        vertical-align: top;\n",
       "    }\n",
       "\n",
       "    .dataframe thead th {\n",
       "        text-align: right;\n",
       "    }\n",
       "</style>\n",
       "<table border=\"1\" class=\"dataframe\">\n",
       "  <thead>\n",
       "    <tr style=\"text-align: right;\">\n",
       "      <th></th>\n",
       "      <th>sign</th>\n",
       "      <th>drinks</th>\n",
       "      <th>drugs</th>\n",
       "      <th>smokes</th>\n",
       "      <th>diet</th>\n",
       "      <th>body_type</th>\n",
       "      <th>job</th>\n",
       "      <th>pets</th>\n",
       "    </tr>\n",
       "  </thead>\n",
       "  <tbody>\n",
       "    <tr>\n",
       "      <th>0</th>\n",
       "      <td>gemini</td>\n",
       "      <td>socially</td>\n",
       "      <td>never</td>\n",
       "      <td>sometimes</td>\n",
       "      <td>strictly anything</td>\n",
       "      <td>a little extra</td>\n",
       "      <td>transportation</td>\n",
       "      <td>likes dogs and likes cats</td>\n",
       "    </tr>\n",
       "    <tr>\n",
       "      <th>1</th>\n",
       "      <td>cancer</td>\n",
       "      <td>often</td>\n",
       "      <td>sometimes</td>\n",
       "      <td>no</td>\n",
       "      <td>mostly other</td>\n",
       "      <td>average</td>\n",
       "      <td>hospitality / travel</td>\n",
       "      <td>likes dogs and likes cats</td>\n",
       "    </tr>\n",
       "    <tr>\n",
       "      <th>7</th>\n",
       "      <td>sagittarius</td>\n",
       "      <td>socially</td>\n",
       "      <td>never</td>\n",
       "      <td>no</td>\n",
       "      <td>mostly anything</td>\n",
       "      <td>average</td>\n",
       "      <td>artistic / musical / writer</td>\n",
       "      <td>likes dogs and likes cats</td>\n",
       "    </tr>\n",
       "    <tr>\n",
       "      <th>9</th>\n",
       "      <td>cancer</td>\n",
       "      <td>not at all</td>\n",
       "      <td>never</td>\n",
       "      <td>no</td>\n",
       "      <td>mostly anything</td>\n",
       "      <td>athletic</td>\n",
       "      <td>student</td>\n",
       "      <td>likes dogs and likes cats</td>\n",
       "    </tr>\n",
       "    <tr>\n",
       "      <th>11</th>\n",
       "      <td>leo</td>\n",
       "      <td>socially</td>\n",
       "      <td>never</td>\n",
       "      <td>no</td>\n",
       "      <td>mostly anything</td>\n",
       "      <td>average</td>\n",
       "      <td>banking / financial / real estate</td>\n",
       "      <td>likes cats</td>\n",
       "    </tr>\n",
       "  </tbody>\n",
       "</table>\n",
       "</div>"
      ],
      "text/plain": [
       "           sign      drinks      drugs     smokes               diet  \\\n",
       "0        gemini    socially      never  sometimes  strictly anything   \n",
       "1        cancer       often  sometimes         no       mostly other   \n",
       "7   sagittarius    socially      never         no    mostly anything   \n",
       "9        cancer  not at all      never         no    mostly anything   \n",
       "11          leo    socially      never         no    mostly anything   \n",
       "\n",
       "         body_type                                job  \\\n",
       "0   a little extra                     transportation   \n",
       "1          average               hospitality / travel   \n",
       "7          average        artistic / musical / writer   \n",
       "9         athletic                            student   \n",
       "11         average  banking / financial / real estate   \n",
       "\n",
       "                         pets  \n",
       "0   likes dogs and likes cats  \n",
       "1   likes dogs and likes cats  \n",
       "7   likes dogs and likes cats  \n",
       "9   likes dogs and likes cats  \n",
       "11                 likes cats  "
      ]
     },
     "execution_count": 48,
     "metadata": {},
     "output_type": "execute_result"
    }
   ],
   "source": [
    "signs_features = ['sign', 'drinks', 'drugs', 'smokes', 'diet', 'body_type', 'job', 'pets']\n",
    "signs_df = df[signs_features].dropna()\n",
    "signs_df['sign'] = signs_df['sign'].apply(lambda str: str.split()[0])\n",
    "print(len(signs_df))\n",
    "signs_df.head()"
   ]
  },
  {
   "cell_type": "markdown",
   "id": "4bb50f63",
   "metadata": {},
   "source": [
    "### CREATING DUMMY VARIABLES"
   ]
  },
  {
   "cell_type": "markdown",
   "id": "59ee30ea",
   "metadata": {},
   "source": [
    "To achieve the aforementioned goal, we'll use get_dummies() to turn each column into several that contain binary values our model can learn from."
   ]
  },
  {
   "cell_type": "code",
   "execution_count": 49,
   "id": "cf2f5647",
   "metadata": {},
   "outputs": [
    {
     "data": {
      "text/html": [
       "<div>\n",
       "<style scoped>\n",
       "    .dataframe tbody tr th:only-of-type {\n",
       "        vertical-align: middle;\n",
       "    }\n",
       "\n",
       "    .dataframe tbody tr th {\n",
       "        vertical-align: top;\n",
       "    }\n",
       "\n",
       "    .dataframe thead th {\n",
       "        text-align: right;\n",
       "    }\n",
       "</style>\n",
       "<table border=\"1\" class=\"dataframe\">\n",
       "  <thead>\n",
       "    <tr style=\"text-align: right;\">\n",
       "      <th></th>\n",
       "      <th>sign</th>\n",
       "      <th>drinks_desperately</th>\n",
       "      <th>drinks_not at all</th>\n",
       "      <th>drinks_often</th>\n",
       "      <th>drinks_rarely</th>\n",
       "      <th>drinks_socially</th>\n",
       "      <th>drinks_very often</th>\n",
       "      <th>drugs_never</th>\n",
       "      <th>drugs_often</th>\n",
       "      <th>drugs_sometimes</th>\n",
       "      <th>...</th>\n",
       "      <th>pets_has cats</th>\n",
       "      <th>pets_has dogs</th>\n",
       "      <th>pets_has dogs and dislikes cats</th>\n",
       "      <th>pets_has dogs and has cats</th>\n",
       "      <th>pets_has dogs and likes cats</th>\n",
       "      <th>pets_likes cats</th>\n",
       "      <th>pets_likes dogs</th>\n",
       "      <th>pets_likes dogs and dislikes cats</th>\n",
       "      <th>pets_likes dogs and has cats</th>\n",
       "      <th>pets_likes dogs and likes cats</th>\n",
       "    </tr>\n",
       "  </thead>\n",
       "  <tbody>\n",
       "    <tr>\n",
       "      <th>0</th>\n",
       "      <td>gemini</td>\n",
       "      <td>0</td>\n",
       "      <td>0</td>\n",
       "      <td>0</td>\n",
       "      <td>0</td>\n",
       "      <td>1</td>\n",
       "      <td>0</td>\n",
       "      <td>1</td>\n",
       "      <td>0</td>\n",
       "      <td>0</td>\n",
       "      <td>...</td>\n",
       "      <td>0</td>\n",
       "      <td>0</td>\n",
       "      <td>0</td>\n",
       "      <td>0</td>\n",
       "      <td>0</td>\n",
       "      <td>0</td>\n",
       "      <td>0</td>\n",
       "      <td>0</td>\n",
       "      <td>0</td>\n",
       "      <td>1</td>\n",
       "    </tr>\n",
       "    <tr>\n",
       "      <th>1</th>\n",
       "      <td>cancer</td>\n",
       "      <td>0</td>\n",
       "      <td>0</td>\n",
       "      <td>1</td>\n",
       "      <td>0</td>\n",
       "      <td>0</td>\n",
       "      <td>0</td>\n",
       "      <td>0</td>\n",
       "      <td>0</td>\n",
       "      <td>1</td>\n",
       "      <td>...</td>\n",
       "      <td>0</td>\n",
       "      <td>0</td>\n",
       "      <td>0</td>\n",
       "      <td>0</td>\n",
       "      <td>0</td>\n",
       "      <td>0</td>\n",
       "      <td>0</td>\n",
       "      <td>0</td>\n",
       "      <td>0</td>\n",
       "      <td>1</td>\n",
       "    </tr>\n",
       "    <tr>\n",
       "      <th>7</th>\n",
       "      <td>sagittarius</td>\n",
       "      <td>0</td>\n",
       "      <td>0</td>\n",
       "      <td>0</td>\n",
       "      <td>0</td>\n",
       "      <td>1</td>\n",
       "      <td>0</td>\n",
       "      <td>1</td>\n",
       "      <td>0</td>\n",
       "      <td>0</td>\n",
       "      <td>...</td>\n",
       "      <td>0</td>\n",
       "      <td>0</td>\n",
       "      <td>0</td>\n",
       "      <td>0</td>\n",
       "      <td>0</td>\n",
       "      <td>0</td>\n",
       "      <td>0</td>\n",
       "      <td>0</td>\n",
       "      <td>0</td>\n",
       "      <td>1</td>\n",
       "    </tr>\n",
       "    <tr>\n",
       "      <th>9</th>\n",
       "      <td>cancer</td>\n",
       "      <td>0</td>\n",
       "      <td>1</td>\n",
       "      <td>0</td>\n",
       "      <td>0</td>\n",
       "      <td>0</td>\n",
       "      <td>0</td>\n",
       "      <td>1</td>\n",
       "      <td>0</td>\n",
       "      <td>0</td>\n",
       "      <td>...</td>\n",
       "      <td>0</td>\n",
       "      <td>0</td>\n",
       "      <td>0</td>\n",
       "      <td>0</td>\n",
       "      <td>0</td>\n",
       "      <td>0</td>\n",
       "      <td>0</td>\n",
       "      <td>0</td>\n",
       "      <td>0</td>\n",
       "      <td>1</td>\n",
       "    </tr>\n",
       "    <tr>\n",
       "      <th>11</th>\n",
       "      <td>leo</td>\n",
       "      <td>0</td>\n",
       "      <td>0</td>\n",
       "      <td>0</td>\n",
       "      <td>0</td>\n",
       "      <td>1</td>\n",
       "      <td>0</td>\n",
       "      <td>1</td>\n",
       "      <td>0</td>\n",
       "      <td>0</td>\n",
       "      <td>...</td>\n",
       "      <td>0</td>\n",
       "      <td>0</td>\n",
       "      <td>0</td>\n",
       "      <td>0</td>\n",
       "      <td>0</td>\n",
       "      <td>1</td>\n",
       "      <td>0</td>\n",
       "      <td>0</td>\n",
       "      <td>0</td>\n",
       "      <td>0</td>\n",
       "    </tr>\n",
       "  </tbody>\n",
       "</table>\n",
       "<p>5 rows × 81 columns</p>\n",
       "</div>"
      ],
      "text/plain": [
       "           sign  drinks_desperately  drinks_not at all  drinks_often  \\\n",
       "0        gemini                   0                  0             0   \n",
       "1        cancer                   0                  0             1   \n",
       "7   sagittarius                   0                  0             0   \n",
       "9        cancer                   0                  1             0   \n",
       "11          leo                   0                  0             0   \n",
       "\n",
       "    drinks_rarely  drinks_socially  drinks_very often  drugs_never  \\\n",
       "0               0                1                  0            1   \n",
       "1               0                0                  0            0   \n",
       "7               0                1                  0            1   \n",
       "9               0                0                  0            1   \n",
       "11              0                1                  0            1   \n",
       "\n",
       "    drugs_often  drugs_sometimes  ...  pets_has cats  pets_has dogs  \\\n",
       "0             0                0  ...              0              0   \n",
       "1             0                1  ...              0              0   \n",
       "7             0                0  ...              0              0   \n",
       "9             0                0  ...              0              0   \n",
       "11            0                0  ...              0              0   \n",
       "\n",
       "    pets_has dogs and dislikes cats  pets_has dogs and has cats  \\\n",
       "0                                 0                           0   \n",
       "1                                 0                           0   \n",
       "7                                 0                           0   \n",
       "9                                 0                           0   \n",
       "11                                0                           0   \n",
       "\n",
       "    pets_has dogs and likes cats  pets_likes cats  pets_likes dogs  \\\n",
       "0                              0                0                0   \n",
       "1                              0                0                0   \n",
       "7                              0                0                0   \n",
       "9                              0                0                0   \n",
       "11                             0                1                0   \n",
       "\n",
       "    pets_likes dogs and dislikes cats  pets_likes dogs and has cats  \\\n",
       "0                                   0                             0   \n",
       "1                                   0                             0   \n",
       "7                                   0                             0   \n",
       "9                                   0                             0   \n",
       "11                                  0                             0   \n",
       "\n",
       "    pets_likes dogs and likes cats  \n",
       "0                                1  \n",
       "1                                1  \n",
       "7                                1  \n",
       "9                                1  \n",
       "11                               0  \n",
       "\n",
       "[5 rows x 81 columns]"
      ]
     },
     "execution_count": 49,
     "metadata": {},
     "output_type": "execute_result"
    }
   ],
   "source": [
    "for feature in signs_features[1:]:\n",
    "    signs_df = pd.get_dummies(signs_df, columns=[feature], prefix=[feature])\n",
    "signs_df.head()"
   ]
  },
  {
   "cell_type": "code",
   "execution_count": 50,
   "id": "c334eedf",
   "metadata": {},
   "outputs": [
    {
     "data": {
      "text/plain": [
       "virgo          1436\n",
       "leo            1414\n",
       "cancer         1389\n",
       "gemini         1378\n",
       "taurus         1341\n",
       "libra          1325\n",
       "scorpio        1323\n",
       "aries          1280\n",
       "sagittarius    1268\n",
       "pisces         1268\n",
       "aquarius       1231\n",
       "capricorn      1168\n",
       "Name: sign, dtype: int64"
      ]
     },
     "execution_count": 50,
     "metadata": {},
     "output_type": "execute_result"
    }
   ],
   "source": [
    "signs_df['sign'].value_counts()"
   ]
  },
  {
   "cell_type": "markdown",
   "id": "9a9058bc",
   "metadata": {},
   "source": [
    "#### SPLITTING DATA INTO TRAINING AND TESTING SET"
   ]
  },
  {
   "cell_type": "code",
   "execution_count": 51,
   "id": "4ac56395",
   "metadata": {},
   "outputs": [],
   "source": [
    "from sklearn.model_selection import train_test_split\n",
    "\n",
    "data = signs_df.iloc[:, 1:]\n",
    "labels = signs_df['sign'].values\n",
    "\n",
    "signs_train_data, signs_test_data, signs_train_labels, signs_test_labels = train_test_split(data, labels, random_state=0)"
   ]
  },
  {
   "cell_type": "markdown",
   "id": "e0dca2bf",
   "metadata": {},
   "source": [
    "### BUILDING OF MODELS"
   ]
  },
  {
   "cell_type": "code",
   "execution_count": 52,
   "id": "fe9158c0",
   "metadata": {},
   "outputs": [],
   "source": [
    "from sklearn import tree\n",
    "from sklearn.neighbors import KNeighborsClassifier\n",
    "from sklearn.pipeline import Pipeline\n",
    "from sklearn.feature_extraction.text import CountVectorizer\n",
    "from sklearn.feature_extraction.text import TfidfTransformer\n",
    "from sklearn.naive_bayes import MultinomialNB"
   ]
  },
  {
   "cell_type": "markdown",
   "id": "ff7e59f4",
   "metadata": {},
   "source": [
    "#### Evaluating and Testing Our Models"
   ]
  },
  {
   "cell_type": "markdown",
   "id": "16ca025c",
   "metadata": {},
   "source": [
    "We'll also use two different functions to evaluate our models. One will print a classification report that includes a model's precision, recall, and F1-score. The other will use a K-FOLD Cross Validation score, testing the model K times(default 5), and returning a score each time. We'll average those score to get an overall sense of that model's accuracy.\n",
    "\n",
    "Our models will create predictions based on the test set, not the training set. These predictions are then what we'll use to evaluate a model's accuracy."
   ]
  },
  {
   "cell_type": "code",
   "execution_count": 57,
   "id": "5770def4",
   "metadata": {},
   "outputs": [],
   "source": [
    "from sklearn.model_selection import cross_val_score\n",
    "from sklearn.metrics import classification_report\n",
    "from sklearn.tree import DecisionTreeClassifier"
   ]
  },
  {
   "cell_type": "markdown",
   "id": "fe149765",
   "metadata": {},
   "source": [
    "### DECISION TREE CLASSIFIER"
   ]
  },
  {
   "cell_type": "code",
   "execution_count": 59,
   "id": "bc4355dd",
   "metadata": {},
   "outputs": [],
   "source": [
    "treeClassifier = DecisionTreeClassifier()\n",
    "treeClassifier.fit(signs_train_data, signs_train_labels)\n",
    "tree_predictions = treeClassifier.predict(signs_test_data)"
   ]
  },
  {
   "cell_type": "markdown",
   "id": "80c0fc54",
   "metadata": {},
   "source": [
    "### HEATMAP SHOWING THE PREDICTED ZODIAC AND THE ACTUAL SIGNS"
   ]
  },
  {
   "cell_type": "code",
   "execution_count": 61,
   "id": "f4eeac00",
   "metadata": {},
   "outputs": [
    {
     "data": {
      "image/png": "[encoded data removed]",
      "text/plain": [
       "<Figure size 864x576 with 2 Axes>"
      ]
     },
     "metadata": {
      "needs_background": "light"
     },
     "output_type": "display_data"
    }
   ],
   "source": [
    "from sklearn.metrics import confusion_matrix\n",
    "\n",
    "cm = confusion_matrix(signs_test_labels, tree_predictions)\n",
    "\n",
    "plt.figure(figsize=(12,8))\n",
    "ax = plt.subplot()\n",
    "sns.heatmap(cm, annot=True, ax = ax,fmt=\"d\")\n",
    "plt.title(\"Actual Zodiac Signs vs. Predicted Zodiac Signs\")\n",
    "ax.set_xlabel(\"Predicted value\")\n",
    "ax.set_ylabel(\"True value\")\n",
    "ax.set_xticklabels(treeClassifier.classes_, rotation=90)\n",
    "ax.set_yticklabels(treeClassifier.classes_, rotation=360)\n",
    "plt.show()"
   ]
  },
  {
   "cell_type": "code",
   "execution_count": 63,
   "id": "9c62661b",
   "metadata": {},
   "outputs": [
    {
     "name": "stdout",
     "output_type": "stream",
     "text": [
      "              precision    recall  f1-score   support\n",
      "\n",
      "    aquarius       0.08      0.12      0.09       317\n",
      "       aries       0.08      0.10      0.09       339\n",
      "      cancer       0.08      0.09      0.09       340\n",
      "   capricorn       0.07      0.08      0.08       281\n",
      "      gemini       0.08      0.10      0.09       316\n",
      "         leo       0.07      0.07      0.07       352\n",
      "       libra       0.10      0.08      0.09       345\n",
      "      pisces       0.07      0.07      0.07       321\n",
      " sagittarius       0.11      0.08      0.09       289\n",
      "     scorpio       0.10      0.08      0.09       343\n",
      "      taurus       0.07      0.06      0.07       341\n",
      "       virgo       0.07      0.05      0.06       372\n",
      "\n",
      "    accuracy                           0.08      3956\n",
      "   macro avg       0.08      0.08      0.08      3956\n",
      "weighted avg       0.08      0.08      0.08      3956\n",
      "\n",
      "Accuracy: 9.05%\n",
      "Tree depth: 60\n"
     ]
    }
   ],
   "source": [
    "tree_score = cross_val_score(treeClassifier, signs_test_data, signs_test_labels).mean() * 100\n",
    "print(classification_report(signs_test_labels, tree_predictions))\n",
    "print(\"Accuracy: {:.2f}%\".format(tree_score))\n",
    "print(\"Tree depth: {0}\".format(treeClassifier.get_depth()))"
   ]
  },
  {
   "cell_type": "markdown",
   "id": "7de21094",
   "metadata": {},
   "source": [
    "### K-NEAREST NEIGHBORS CLASSIFIER"
   ]
  },
  {
   "cell_type": "code",
   "execution_count": 64,
   "id": "f606fe51",
   "metadata": {},
   "outputs": [
    {
     "name": "stdout",
     "output_type": "stream",
     "text": [
      "              precision    recall  f1-score   support\n",
      "\n",
      "    aquarius       0.07      0.19      0.10       317\n",
      "       aries       0.09      0.16      0.12       339\n",
      "      cancer       0.09      0.14      0.11       340\n",
      "   capricorn       0.08      0.09      0.08       281\n",
      "      gemini       0.09      0.10      0.10       316\n",
      "         leo       0.09      0.07      0.08       352\n",
      "       libra       0.11      0.06      0.07       345\n",
      "      pisces       0.11      0.06      0.08       321\n",
      " sagittarius       0.08      0.06      0.07       289\n",
      "     scorpio       0.10      0.05      0.07       343\n",
      "      taurus       0.13      0.08      0.10       341\n",
      "       virgo       0.11      0.05      0.07       372\n",
      "\n",
      "    accuracy                           0.09      3956\n",
      "   macro avg       0.10      0.09      0.09      3956\n",
      "weighted avg       0.10      0.09      0.09      3956\n",
      "\n",
      "Accuracy: 7.96%\n"
     ]
    }
   ],
   "source": [
    "knn_clf = KNeighborsClassifier()\n",
    "knn_clf.fit(signs_train_data, signs_train_labels)\n",
    "knn_predictions = knn_clf.predict(signs_test_data)\n",
    "knn_score = cross_val_score(knn_clf, signs_test_data, signs_test_labels).mean() * 100\n",
    "print(classification_report(signs_test_labels, knn_predictions))\n",
    "print(\"Accuracy: {:.2f}%\".format(knn_score))"
   ]
  },
  {
   "cell_type": "code",
   "execution_count": 65,
   "id": "e5a967dd",
   "metadata": {},
   "outputs": [],
   "source": [
    "accuracies = []\n",
    "best_accuracy = 0\n",
    "best_k = 0\n",
    "for i in range(1,21):\n",
    "    test_knn = KNeighborsClassifier(n_neighbors=i)\n",
    "    test_knn.fit(signs_train_data, signs_train_labels)\n",
    "    score = cross_val_score(test_knn, signs_test_data, signs_test_labels).mean() * 100\n",
    "    accuracies.append(score)\n",
    "    if score > best_accuracy:\n",
    "        best_accuracy = score\n",
    "        best_k = i"
   ]
  },
  {
   "cell_type": "code",
   "execution_count": 66,
   "id": "8b607361",
   "metadata": {},
   "outputs": [
    {
     "data": {
      "image/png": "[encoded data removed]",
      "text/plain": [
       "<Figure size 864x576 with 1 Axes>"
      ]
     },
     "metadata": {
      "needs_background": "light"
     },
     "output_type": "display_data"
    }
   ],
   "source": [
    "plt.figure(figsize=(12,8))\n",
    "ax = plt.subplot()\n",
    "plt.plot(range(len(accuracies)), accuracies)\n",
    "plt.xlabel(\"N-Neighbors\")\n",
    "plt.ylabel(\"Score\")\n",
    "ax.set_xticks(range(len(accuracies)))\n",
    "plt.show()"
   ]
  },
  {
   "cell_type": "markdown",
   "id": "16ab7fe8",
   "metadata": {},
   "source": [
    "### NAIVE-BAYES CLASSIFIER"
   ]
  },
  {
   "cell_type": "code",
   "execution_count": 6,
   "id": "04dc40b2",
   "metadata": {},
   "outputs": [
    {
     "data": {
      "text/html": [
       "<div>\n",
       "<style scoped>\n",
       "    .dataframe tbody tr th:only-of-type {\n",
       "        vertical-align: middle;\n",
       "    }\n",
       "\n",
       "    .dataframe tbody tr th {\n",
       "        vertical-align: top;\n",
       "    }\n",
       "\n",
       "    .dataframe thead th {\n",
       "        text-align: right;\n",
       "    }\n",
       "</style>\n",
       "<table border=\"1\" class=\"dataframe\">\n",
       "  <thead>\n",
       "    <tr style=\"text-align: right;\">\n",
       "      <th></th>\n",
       "      <th>age</th>\n",
       "      <th>body_type</th>\n",
       "      <th>diet</th>\n",
       "      <th>drinks</th>\n",
       "      <th>drugs</th>\n",
       "      <th>education</th>\n",
       "      <th>essay0</th>\n",
       "      <th>essay1</th>\n",
       "      <th>essay2</th>\n",
       "      <th>essay3</th>\n",
       "      <th>...</th>\n",
       "      <th>location</th>\n",
       "      <th>offspring</th>\n",
       "      <th>orientation</th>\n",
       "      <th>pets</th>\n",
       "      <th>religion</th>\n",
       "      <th>sex</th>\n",
       "      <th>sign</th>\n",
       "      <th>smokes</th>\n",
       "      <th>speaks</th>\n",
       "      <th>status</th>\n",
       "    </tr>\n",
       "  </thead>\n",
       "  <tbody>\n",
       "    <tr>\n",
       "      <th>0</th>\n",
       "      <td>22</td>\n",
       "      <td>a little extra</td>\n",
       "      <td>strictly anything</td>\n",
       "      <td>socially</td>\n",
       "      <td>never</td>\n",
       "      <td>working on college/university</td>\n",
       "      <td>about me:    i would love to think that i was ...</td>\n",
       "      <td>currently working as an international agent fo...</td>\n",
       "      <td>making people laugh.  ranting about a good sal...</td>\n",
       "      <td>the way i look. i am a six foot half asian, ha...</td>\n",
       "      <td>...</td>\n",
       "      <td>south san francisco, california</td>\n",
       "      <td>doesn't have kids, but might want them</td>\n",
       "      <td>straight</td>\n",
       "      <td>likes dogs and likes cats</td>\n",
       "      <td>agnosticism and very serious about it</td>\n",
       "      <td>m</td>\n",
       "      <td>gemini</td>\n",
       "      <td>sometimes</td>\n",
       "      <td>english</td>\n",
       "      <td>single</td>\n",
       "    </tr>\n",
       "  </tbody>\n",
       "</table>\n",
       "<p>1 rows × 31 columns</p>\n",
       "</div>"
      ],
      "text/plain": [
       "   age       body_type               diet    drinks  drugs  \\\n",
       "0   22  a little extra  strictly anything  socially  never   \n",
       "\n",
       "                       education  \\\n",
       "0  working on college/university   \n",
       "\n",
       "                                              essay0  \\\n",
       "0  about me:    i would love to think that i was ...   \n",
       "\n",
       "                                              essay1  \\\n",
       "0  currently working as an international agent fo...   \n",
       "\n",
       "                                              essay2  \\\n",
       "0  making people laugh.  ranting about a good sal...   \n",
       "\n",
       "                                              essay3  ...  \\\n",
       "0  the way i look. i am a six foot half asian, ha...  ...   \n",
       "\n",
       "                          location                               offspring  \\\n",
       "0  south san francisco, california  doesn't have kids, but might want them   \n",
       "\n",
       "  orientation                       pets  \\\n",
       "0    straight  likes dogs and likes cats   \n",
       "\n",
       "                                religion sex    sign     smokes   speaks  \\\n",
       "0  agnosticism and very serious about it   m  gemini  sometimes  english   \n",
       "\n",
       "   status  \n",
       "0  single  \n",
       "\n",
       "[1 rows x 31 columns]"
      ]
     },
     "execution_count": 6,
     "metadata": {},
     "output_type": "execute_result"
    }
   ],
   "source": [
    "df.replace(r\"<[^<]+?>\", \" \", regex=True, inplace=True)\n",
    "df.replace(r\"\\n\", \" \", regex=True, inplace=True)\n",
    "df.replace(r\"&amp;\", \"&\", regex=True, inplace=True)\n",
    "df.replace(r\"&rsquo;\", \"'\", regex=True, inplace=True)\n",
    "df.head(1)"
   ]
  },
  {
   "cell_type": "code",
   "execution_count": 7,
   "id": "63b1c1c5",
   "metadata": {},
   "outputs": [
    {
     "name": "stdout",
     "output_type": "stream",
     "text": [
      "i work in a library and go to school. . . reading things written by old dead people playing synthesizers and organizing books according to the library of congress classification system socially awkward but i do my best bataille, celine, beckett. . . lynch, jarmusch, r.w. fassbender. . . twin peaks & fishing w/ john joy division, throbbing gristle, cabaret voltaire. . . vegetarian pho and coffee cats and german philosophy you feel so inclined. \n",
      "pisces but it doesn't matter\n",
      "doesn't want kids\n"
     ]
    }
   ],
   "source": [
    "essays_list = [\"essay\" + str(i) for i in range(0,10)]\n",
    "df['bio'] = df[essays_list].apply(lambda x: x + ' ').fillna(' ').sum(axis=1)\n",
    "df['bio'].replace(r\"\\s+\", \" \", regex=True, inplace=True)\n",
    "print(df['bio'][3])\n",
    "print(df['sign'][2])\n",
    "print(df['offspring'][3])"
   ]
  },
  {
   "cell_type": "code",
   "execution_count": null,
   "id": "2a0a1be6",
   "metadata": {},
   "outputs": [],
   "source": []
  },
  {
   "cell_type": "code",
   "execution_count": 8,
   "id": "a1dd498f",
   "metadata": {},
   "outputs": [
    {
     "name": "stdout",
     "output_type": "stream",
     "text": [
      "48890\n"
     ]
    },
    {
     "data": {
      "text/html": [
       "<div>\n",
       "<style scoped>\n",
       "    .dataframe tbody tr th:only-of-type {\n",
       "        vertical-align: middle;\n",
       "    }\n",
       "\n",
       "    .dataframe tbody tr th {\n",
       "        vertical-align: top;\n",
       "    }\n",
       "\n",
       "    .dataframe thead th {\n",
       "        text-align: right;\n",
       "    }\n",
       "</style>\n",
       "<table border=\"1\" class=\"dataframe\">\n",
       "  <thead>\n",
       "    <tr style=\"text-align: right;\">\n",
       "      <th></th>\n",
       "      <th>bio</th>\n",
       "      <th>sign</th>\n",
       "    </tr>\n",
       "  </thead>\n",
       "  <tbody>\n",
       "    <tr>\n",
       "      <th>0</th>\n",
       "      <td>about me: i would love to think that i was som...</td>\n",
       "      <td>gemini</td>\n",
       "    </tr>\n",
       "    <tr>\n",
       "      <th>1</th>\n",
       "      <td>i am a chef: this is what that means. 1. i am ...</td>\n",
       "      <td>cancer</td>\n",
       "    </tr>\n",
       "    <tr>\n",
       "      <th>2</th>\n",
       "      <td>i'm not ashamed of much, but writing public te...</td>\n",
       "      <td>pisces</td>\n",
       "    </tr>\n",
       "    <tr>\n",
       "      <th>3</th>\n",
       "      <td>i work in a library and go to school. . . read...</td>\n",
       "      <td>pisces</td>\n",
       "    </tr>\n",
       "    <tr>\n",
       "      <th>4</th>\n",
       "      <td>hey how's it going? currently vague on the pro...</td>\n",
       "      <td>aquarius</td>\n",
       "    </tr>\n",
       "  </tbody>\n",
       "</table>\n",
       "</div>"
      ],
      "text/plain": [
       "                                                 bio      sign\n",
       "0  about me: i would love to think that i was som...    gemini\n",
       "1  i am a chef: this is what that means. 1. i am ...    cancer\n",
       "2  i'm not ashamed of much, but writing public te...    pisces\n",
       "3  i work in a library and go to school. . . read...    pisces\n",
       "4  hey how's it going? currently vague on the pro...  aquarius"
      ]
     },
     "execution_count": 8,
     "metadata": {},
     "output_type": "execute_result"
    }
   ],
   "source": [
    "bio_df = df[['bio', 'sign']].dropna()\n",
    "bio_df['sign'] = bio_df['sign'].apply(lambda str: str.split()[0])\n",
    "print(len(bio_df))\n",
    "bio_df.head()"
   ]
  },
  {
   "cell_type": "code",
   "execution_count": 73,
   "id": "203fac86",
   "metadata": {},
   "outputs": [
    {
     "name": "stdout",
     "output_type": "stream",
     "text": [
      "Accuracy: 9.02%\n"
     ]
    }
   ],
   "source": [
    "nb_clf = Pipeline([\n",
    "    ('counter', CountVectorizer(stop_words='english')),\n",
    "    ('transformer', TfidfTransformer()),\n",
    "    ('clf', MultinomialNB())\n",
    "])\n",
    "\n",
    "bio_data = bio_df['bio'].values\n",
    "bio_labels = bio_df['sign'].values\n",
    "\n",
    "\n",
    "bio_train_data, bio_test_data, bio_train_labels, bio_test_labels = train_test_split(bio_data, bio_labels)\n",
    "nb_clf.fit(bio_train_data, bio_train_labels)\n",
    "nb_predictions = nb_clf.predict(bio_test_data)\n",
    "print(\"Accuracy: {:.2f}%\".format(np.mean(nb_predictions == bio_test_labels) * 100))"
   ]
  },
  {
   "cell_type": "markdown",
   "id": "e47d5501",
   "metadata": {},
   "source": [
    "### DISCUSSION OF RESULTS"
   ]
  },
  {
   "cell_type": "markdown",
   "id": "114b898c",
   "metadata": {},
   "source": [
    "#### DECISION TREE CLASSIFIER\n",
    "the results of the predictions made by the decision tree don't seem to indicate that it's very accurate. At around 9% accuracy, it'll accurately predict a zodiac sign based on the given features roughly 1 out of 12 times, which is the probability of a person randomly picking a zodiac sign and getting it correct. That means that our decision tree model is, sadly, no better than a human at correctly predicting zodiac sign based on these features. Tweaking the max_depth of the tree achieves very little as far as accuracy goes. By default, it reaches a depth of 60.\n",
    "\n",
    "#### K-NEAREST CLASSIFIER\n",
    "the highest average score was around 7%, peaking at a K value of 16. It would be hard to justify looping through more values, as the amount of change seen is minimal and appears to once again drop after n_neighbors=16. Sadly, K-Nearest Neighbors will not help us assign zodiac signs in an accurate way, either.\n",
    "\n",
    "#### NAIVE-BAYES CLASSIFIER\n",
    "Much like the Decision Tree and K-Nearest Neighbors, it's not very accurate (once again hovering around 9%). It stands about the same chance at correctly predicting a zodiac sign as it would by picking it at random."
   ]
  }
 ],
 "metadata": {
  "kernelspec": {
   "display_name": "Python 3 (ipykernel)",
   "language": "python",
   "name": "python3"
  },
  "language_info": {
   "codemirror_mode": {
    "name": "ipython",
    "version": 3
   },
   "file_extension": ".py",
   "mimetype": "text/x-python",
   "name": "python",
   "nbconvert_exporter": "python",
   "pygments_lexer": "ipython3",
   "version": "3.9.7"
  }
 },
 "nbformat": 4,
 "nbformat_minor": 5
}
