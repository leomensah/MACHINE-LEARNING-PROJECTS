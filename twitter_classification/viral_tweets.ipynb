{
  "nbformat": 4,
  "nbformat_minor": 0,
  "metadata": {
    "kernelspec": {
      "display_name": "Python 3",
      "language": "python",
      "name": "python3"
    },
    "language_info": {
      "codemirror_mode": {
        "name": "ipython",
        "version": 3
      },
      "file_extension": ".py",
      "mimetype": "text/x-python",
      "name": "python",
      "nbconvert_exporter": "python",
      "pygments_lexer": "ipython3",
      "version": "3.7.6"
    },
    "colab": {
      "name": "viral_tweets.ipynb",
      "provenance": [],
      "collapsed_sections": [],
      "include_colab_link": true
    }
  },
  "cells": [
    {
      "cell_type": "markdown",
      "metadata": {
        "id": "view-in-github",
        "colab_type": "text"
      },
      "source": [
        "<a href=\"https://colab.research.google.com/github/Leonard-Boante-Mensah/twitter_classification/blob/main/viral_tweets.ipynb\" target=\"_parent\"><img src=\"https://colab.research.google.com/assets/colab-badge.svg\" alt=\"Open In Colab\"/></a>"
      ]
    },
    {
      "cell_type": "markdown",
      "metadata": {
        "id": "NcWMaymnAwqu"
      },
      "source": [
        "# Off-Platform Project: Viral Tweets\n",
        "\n",
        "In this project, we are going to use the K-Nearest Neighbor algorithm to predict whether a tweet will go viral. Before jumping into using the classifier, let's first consider the problem we're trying to solve. Which features of a tweet are most closely linked to its popularity? Maybe the number of hashtags or the number of links in the tweet strongly influences its popularity. Maybe its virality is dependent on how many followers the person has. Maybe it's something more subtle like the specific language used in the tweets.\n",
        "\n",
        "Let's explore these options by looking at the data we have available to us. We've imported the dataset and printed the following information:\n",
        "\n",
        "* The total number of tweets in the dataset.\n",
        "* The columns, or features, of the dataset.\n",
        "* The text of the first tweet in the dataset.\n",
        "\n",
        "Some of these features are dictionaries. For example, the feature `\"user\"` is a dictionary. We might want to use some of the information found in these sub-dictionaries. Print `all_tweets.loc[0][\"user\"]` to see what the `\"user\"` feature looks like.\n",
        "\n",
        "After printing that, try printing just the `\"location\"` found in that `\"user\"` dictionary. For example, `all_tweets.loc[0][\"user\"][\"screen_name\"]` would give you only the screen name associated with the first tweet."
      ]
    },
    {
      "cell_type": "code",
      "metadata": {
        "id": "Z95GfNx8Awqx",
        "outputId": "d4116450-9db2-47a4-cdd2-17b31973fb14"
      },
      "source": [
        "import pandas as pd\n",
        "\n",
        "all_tweets = pd.read_json(\"random_tweets.json\", lines=True)\n",
        "\n",
        "print(len(all_tweets))\n",
        "print(all_tweets.columns)\n",
        "print(all_tweets.loc[0]['text'])\n",
        "\n",
        "#Print the user here and the user's location here.\n",
        "print(all_tweets.loc[0]['user'])\n",
        "print()\n",
        "print(all_tweets.loc[0]['user']['location'])\n",
        "print(all_tweets.loc[0]['user']['screen_name'])\n"
      ],
      "execution_count": null,
      "outputs": [
        {
          "output_type": "stream",
          "text": [
            "11099\n",
            "Index(['created_at', 'id', 'id_str', 'text', 'truncated', 'entities',\n",
            "       'metadata', 'source', 'in_reply_to_status_id',\n",
            "       'in_reply_to_status_id_str', 'in_reply_to_user_id',\n",
            "       'in_reply_to_user_id_str', 'in_reply_to_screen_name', 'user', 'geo',\n",
            "       'coordinates', 'place', 'contributors', 'retweeted_status',\n",
            "       'is_quote_status', 'retweet_count', 'favorite_count', 'favorited',\n",
            "       'retweeted', 'lang', 'possibly_sensitive', 'quoted_status_id',\n",
            "       'quoted_status_id_str', 'extended_entities', 'quoted_status',\n",
            "       'withheld_in_countries'],\n",
            "      dtype='object')\n",
            "RT @KWWLStormTrack7: We are more than a month into summer but the days are getting shorter. The sunrise is about 25 minutes later on July 3…\n",
            "{'id': 145388018, 'id_str': '145388018', 'name': 'Derek Wolkenhauer', 'screen_name': 'derekw221', 'location': 'Waterloo, Iowa', 'description': '', 'url': None, 'entities': {'description': {'urls': []}}, 'protected': False, 'followers_count': 215, 'friends_count': 335, 'listed_count': 2, 'created_at': 'Tue May 18 21:30:10 +0000 2010', 'favourites_count': 3419, 'utc_offset': None, 'time_zone': None, 'geo_enabled': True, 'verified': False, 'statuses_count': 4475, 'lang': 'en', 'contributors_enabled': False, 'is_translator': False, 'is_translation_enabled': False, 'profile_background_color': '022330', 'profile_background_image_url': 'http://abs.twimg.com/images/themes/theme15/bg.png', 'profile_background_image_url_https': 'https://abs.twimg.com/images/themes/theme15/bg.png', 'profile_background_tile': False, 'profile_image_url': 'http://pbs.twimg.com/profile_images/995790590276243456/cgxRVviN_normal.jpg', 'profile_image_url_https': 'https://pbs.twimg.com/profile_images/995790590276243456/cgxRVviN_normal.jpg', 'profile_banner_url': 'https://pbs.twimg.com/profile_banners/145388018/1494937921', 'profile_link_color': '0084B4', 'profile_sidebar_border_color': 'A8C7F7', 'profile_sidebar_fill_color': 'C0DFEC', 'profile_text_color': '333333', 'profile_use_background_image': True, 'has_extended_profile': True, 'default_profile': False, 'default_profile_image': False, 'following': False, 'follow_request_sent': False, 'notifications': False, 'translator_type': 'none'}\n",
            "\n",
            "Waterloo, Iowa\n",
            "derekw221\n"
          ],
          "name": "stdout"
        }
      ]
    },
    {
      "cell_type": "markdown",
      "metadata": {
        "id": "GOTqYCcQAwqy"
      },
      "source": [
        "# Defining Viral Tweets\n",
        "\n",
        "A K-Nearest Neighbor classifier is a supervised machine learning algorithm, and as a result, we need to have a dataset with tagged labels. For this specific example, we need a dataset where every tweet is marked as viral or not viral. Unfortunately, this isn't a feature of our dataset &mdash; we'll need to make it ourselves.\n",
        "\n",
        "So how do we define a viral tweet? A good place to start is to look at the number of retweets the tweet has. This can be found using the feature `\"retweet_count\"`. Let's say we wanted to create a column called `is_viral` that is a `1` if the tweet had more than `5` retweets and `0` otherwise. We could do that like this:\n",
        "\n",
        "```py\n",
        "all_tweets['is_viral'] = np.where(all_tweets['retweet_count'] > 5, 1, 0)\n",
        "```\n",
        "\n",
        "Instead of using `5` as the benchmark for a viral tweet, let's use the median number of retweets. You can find that by calling the `median()` function on `all_tweets[\"retweet_count\"]`. Print the median number of retweets to understand what this threshold is.\n",
        "\n",
        "Print the number of viral tweets and non-viral tweets. You can do this using `all_tweets['is_viral'].value_counts()`.\n",
        "\n",
        "After finishing this project, consider coming back and playing with this threshold number. How do you think your model would work if it was trying to find incredibly viral tweets? For example, how would it work if it were looking for tweets with 1000 or more retweets?"
      ]
    },
    {
      "cell_type": "code",
      "metadata": {
        "id": "BdZ9SaGjAwqz",
        "outputId": "64deebaf-7a30-487a-f659-b7f6e281e59c"
      },
      "source": [
        "import numpy as np\n",
        "\n",
        "# calculating for the median \n",
        "med = np.median(all_tweets['retweet_count'])\n",
        "print(med)\n",
        "\n",
        "all_tweets['is_viral'] = np.where(all_tweets['retweet_count'] > med, 1, 0)\n",
        "all_tweets['is_viral'].value_counts()\n"
      ],
      "execution_count": null,
      "outputs": [
        {
          "output_type": "stream",
          "text": [
            "13.0\n"
          ],
          "name": "stdout"
        },
        {
          "output_type": "execute_result",
          "data": {
            "text/plain": [
              "0    5562\n",
              "1    5537\n",
              "Name: is_viral, dtype: int64"
            ]
          },
          "metadata": {
            "tags": []
          },
          "execution_count": 8
        }
      ]
    },
    {
      "cell_type": "markdown",
      "metadata": {
        "id": "_So4AByIAwq0"
      },
      "source": [
        "# Making Features\n",
        "\n",
        "Now that we've created a label for every tweet in our dataset, we can begin thinking about which features might determine whether a tweet is viral. We can create new columns in our dataset to represent these features. For example, let's say we think the length of a tweet might be a valuable feature. The following line creates a new column containing the length of the tweet.\n",
        "\n",
        "```py\n",
        "all_tweets['tweet_length'] = all_tweets.apply(lambda tweet: len(tweet['text']), axis=1)\n",
        "```\n",
        "\n",
        "Setting `axis = 1` creates a new column rather than a new row.\n",
        "\n",
        "Create a new column called `followers_count` that contains the number of followers of each user. You can find this information in `tweet['user']['followers_count']`. Do the same for `friends_count`.\n",
        "\n",
        "For the rest of this project, we will be using these three features, but we encourage you to create your own. Here are some potential ideas for more features.\n",
        "\n",
        "* The number of hashtags in the tweet. You can find this by looking at the `text` of the tweet and using the `.count()` function with `#` as a parameter.\n",
        "* The number of links in the tweet. Using a similar strategy to the one above, use `.count()` to count the number of times `http` appears in the tweet.\n",
        "* The number of words in the tweet. Call `.split()` on the `text` of a tweet. This will give you a list of the words in the tweet. Find the length of that list.\n",
        "* The average length of the words in the tweet."
      ]
    },
    {
      "cell_type": "code",
      "metadata": {
        "id": "IPT0uN8KAwq0"
      },
      "source": [
        "all_tweets['tweet_length'] = all_tweets.apply(lambda tweet: len(tweet['text']), axis=1)\n",
        "all_tweets['followers_count'] = all_tweets.apply(lambda tweet: tweet['user']['followers_count'], axis=1)\n",
        "all_tweets['friends_count'] = all_tweets.apply(lambda tweet: tweet['user']['followers_count'], axis=1)"
      ],
      "execution_count": null,
      "outputs": []
    },
    {
      "cell_type": "code",
      "metadata": {
        "id": "JQfU3ZfYAwq1"
      },
      "source": [
        "all_tweets['hashtag'] = all_tweets.apply(lambda tweet: tweet['text'].count('#'), axis=1)"
      ],
      "execution_count": null,
      "outputs": []
    },
    {
      "cell_type": "code",
      "metadata": {
        "id": "_8Unq6i3Awq2"
      },
      "source": [
        "all_tweets['link_tweets'] = all_tweets.apply(lambda tweet: tweet['text'].count('http'), axis=1)"
      ],
      "execution_count": null,
      "outputs": []
    },
    {
      "cell_type": "code",
      "metadata": {
        "id": "kLzHwM-tAwq3"
      },
      "source": [
        "all_tweets['num_of_words'] = all_tweets.apply(lambda tweet: len(tweet['text'].split()), axis=1)"
      ],
      "execution_count": null,
      "outputs": []
    },
    {
      "cell_type": "code",
      "metadata": {
        "id": "0QpARzZuAwq3"
      },
      "source": [
        ""
      ],
      "execution_count": null,
      "outputs": []
    },
    {
      "cell_type": "markdown",
      "metadata": {
        "id": "2fMeeNaeAwq4"
      },
      "source": [
        "# Normalizing The Data\n",
        "\n",
        "We've now made the columns that we want to feed into our classifier. Let's get rid of all the data that is no longer relevant. Create a variable named `labels` and set it equal to the `'is_viral'` column of all_tweets.\n",
        "\n",
        "If we had a dataframe named `df` we could get a single column named `A` like this:\n",
        "\n",
        "```py\n",
        "one_column = df['A']\n",
        "```\n",
        "\n",
        "Create a variable named `data` and set it equal to all of the columns that you created in the last step. Those columns are `tweet_length`, `followers_count`, and `friends_count`.\n",
        "\n",
        "When selecting multiple columns, the names of the columns should be in a list. Check out the example below to see how to select column `A` *and* `B`:\n",
        "\n",
        "```py\n",
        "features = df[['A', 'B']]\n",
        "```\n",
        "\n",
        "Now create a new variable named `scaled_data`. `scaled_data` should be the result of the `scale` function with `data` as a parameter. Also include the parameter `axis = 0`. This scales the *columns* as opposed to the rows.\n",
        "\n",
        "The scale function will normalize the data so all of the features will vary within the same range.\n",
        "\n",
        "Print `scaled_data[0]` to get a sense of what our data looks like."
      ]
    },
    {
      "cell_type": "code",
      "metadata": {
        "id": "_vCrxzBDAwq4",
        "outputId": "6d96674f-2c2f-48de-db70-87a14c0bcaa9"
      },
      "source": [
        "from sklearn.preprocessing import scale\n",
        "\n",
        "labels = all_tweets['is_viral']\n",
        "data = all_tweets[['tweet_length', 'followers_count', 'friends_count']]\n",
        "\n",
        "scaled_data = scale(data)\n",
        "scaled_data[0]"
      ],
      "execution_count": null,
      "outputs": [
        {
          "output_type": "execute_result",
          "data": {
            "text/plain": [
              "array([ 0.6164054 , -0.02878298, -0.02878298])"
            ]
          },
          "metadata": {
            "tags": []
          },
          "execution_count": 28
        }
      ]
    },
    {
      "cell_type": "markdown",
      "metadata": {
        "id": "s_wWk951Awq5"
      },
      "source": [
        "# Creating the Training Set and Test Set\n",
        "\n",
        "To evaluate the effectiveness of our classifier, we now split `scaled_data` and `labels` into a training set and test set using scikit-learn's `train_test_split` function. This function takes two required parameters: It takes the data, followed by the labels. Set the optional parameter `test_size` to be `0.2`. You can also set the `random_state` parameter so your code will randomly split the data in the same way as our solution code splits the data. We used `random_state = 1`. Remember, this function returns 4 items in this order:\n",
        "\n",
        "1. The training data\n",
        "2. The testing data\n",
        "3. The training labels\n",
        "4. The testing labels\n",
        "\n",
        "Store the results in variables named `train_data`, `test_data`, `train_labels`, and `test_labels`."
      ]
    },
    {
      "cell_type": "code",
      "metadata": {
        "id": "FvICKSPvAwq5",
        "outputId": "6e904671-6754-43ca-93cc-a32ab0b093a3"
      },
      "source": [
        "from sklearn.model_selection import train_test_split\n",
        "\n",
        "train_data, test_data, train_labels, test_labels = train_test_split(data, labels, test_size=0.2, random_state = 1)\n",
        "\n",
        "print(train_data.shape)\n",
        "print(test_data.shape)\n",
        "print(train_labels.shape)\n",
        "print(test_labels.shape)"
      ],
      "execution_count": null,
      "outputs": [
        {
          "output_type": "stream",
          "text": [
            "(8879, 3)\n",
            "(2220, 3)\n",
            "(8879,)\n",
            "(2220,)\n"
          ],
          "name": "stdout"
        }
      ]
    },
    {
      "cell_type": "markdown",
      "metadata": {
        "id": "Pn1msFOIAwq5"
      },
      "source": [
        "# Using the Classifier\n",
        "\n",
        "We can finally use the K-Nearest Neighbor classifier. Let's test it using `k = 5`. Begin by creating a `KNeighborsClassifier` object named `classifier` with the parameter `n_neighbors` equal to `5`.\n",
        "\n",
        "Next, train `classifier` by calling the `.fit()` method with `train_data` and `train_labels` as parameters.\n",
        "\n",
        "Finally, let's test the model! Call `classifier`'s `.score()` method using `test_data` and `test_labels` as parameters. Print the results.\n"
      ]
    },
    {
      "cell_type": "code",
      "metadata": {
        "id": "fiLav475Awq6",
        "outputId": "19499d8f-47ce-44c2-b575-d08c861f5433"
      },
      "source": [
        "from sklearn.neighbors import KNeighborsClassifier\n",
        "\n",
        "classifier = KNeighborsClassifier(n_neighbors = 5)\n",
        "\n",
        "classifier.fit(train_data, train_labels)\n",
        "classifier.score(test_data, test_labels)"
      ],
      "execution_count": null,
      "outputs": [
        {
          "output_type": "execute_result",
          "data": {
            "text/plain": [
              "0.5463963963963964"
            ]
          },
          "metadata": {
            "tags": []
          },
          "execution_count": 31
        }
      ]
    },
    {
      "cell_type": "markdown",
      "metadata": {
        "id": "dpKd76HLAwq6"
      },
      "source": [
        "# Choosing K\n",
        "\n",
        "We've tested our classifier with `k = 5`, but maybe there's a `k` that will work better. Let's test many different values for `k` and graph the results. \n",
        "\n",
        "First, create an empty list called `scores`. Next, create a for loop that has a variable `k` that begins at `1` and ends at `200`.\n",
        "\n",
        "Inside the for loop, create a `KNeighobrsClassifier` object named `classifier` with the parameter `n_neighbors` equal to `k`.\n",
        "\n",
        "Train `classifier` by calling the `.fit()` method with `train_data` and `train_labels` as parameters.\n",
        "\n",
        "Next, let's test the model! Call `classifier`'s `.score()` method using `test_data` and `test_labels` as parameters. `append` the result to `scores`.\n",
        "\n",
        "Finally, let's plot the results. Outside of the loop, use Matplotlib's `plot()` function. `plot()` takes two parameters &mdash; the data on the x-axis and the data on the y-axis. Data on the x-axis should be the values we used for `k`. In this case, `range(1,200)`.  Data on the y-axis should be `scores`. Make sure to call the `plt.show()` function after calling `plt.plot()`. This should take a couple of seconds to run!"
      ]
    },
    {
      "cell_type": "code",
      "metadata": {
        "id": "fsFH1D7HAwq6",
        "outputId": "f259922b-ce26-4061-e306-f40b0f1df67d"
      },
      "source": [
        "import matplotlib.pyplot as plt\n",
        "\n",
        "scores = []\n",
        "for k in range(1, 201):\n",
        "    classifier = KNeighborsClassifier(n_neighbors = k)\n",
        "    classifier.fit(train_data, train_labels)\n",
        "    scores.append(classifier.score(test_data, test_labels))\n",
        "    \n",
        "plt.plot(range(1,201), scores)"
      ],
      "execution_count": null,
      "outputs": [
        {
          "output_type": "execute_result",
          "data": {
            "text/plain": [
              "[<matplotlib.lines.Line2D at 0x7f468b03bd50>]"
            ]
          },
          "metadata": {
            "tags": []
          },
          "execution_count": 32
        },
        {
          "output_type": "display_data",
          "data": {
            "image/png": "[encoded data removed]",
            "text/plain": [
              "<Figure size 432x288 with 1 Axes>"
            ]
          },
          "metadata": {
            "tags": [],
            "needs_background": "light"
          }
        }
      ]
    },
    {
      "cell_type": "markdown",
      "metadata": {
        "id": "QQhV4tHLAwq7"
      },
      "source": [
        "# Explore on your own\n",
        "\n",
        "Nice work! You can see the classifier gets better as `k` increases, but as `k` gets too high, underfitting starts to happen.\n",
        "\n",
        "By using the features `tweet_length`, `followers_count`, and `friends_count`, we were able to get up to around 63% accuracy. That is better than random, but still not exceptional. Can you find some different features that perform better? Share your graphs with us on Twitter and maybe it will go viral!"
      ]
    }
  ]
}