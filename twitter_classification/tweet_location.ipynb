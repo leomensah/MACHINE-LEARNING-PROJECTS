{
  "nbformat": 4,
  "nbformat_minor": 0,
  "metadata": {
    "kernelspec": {
      "display_name": "Python 3",
      "language": "python",
      "name": "python3"
    },
    "language_info": {
      "codemirror_mode": {
        "name": "ipython",
        "version": 3
      },
      "file_extension": ".py",
      "mimetype": "text/x-python",
      "name": "python",
      "nbconvert_exporter": "python",
      "pygments_lexer": "ipython3",
      "version": "3.7.6"
    },
    "colab": {
      "name": "tweet_location.ipynb",
      "provenance": [],
      "collapsed_sections": [],
      "include_colab_link": true
    }
  },
  "cells": [
    {
      "cell_type": "markdown",
      "metadata": {
        "id": "view-in-github",
        "colab_type": "text"
      },
      "source": [
        "<a href=\"https://colab.research.google.com/github/Leonard-Boante-Mensah/twitter_classification/blob/main/tweet_location.ipynb\" target=\"_parent\"><img src=\"https://colab.research.google.com/assets/colab-badge.svg\" alt=\"Open In Colab\"/></a>"
      ]
    },
    {
      "cell_type": "markdown",
      "metadata": {
        "id": "JceInAqHBPFe"
      },
      "source": [
        "# Off-Platform Project: Classifying Tweets\n",
        "\n",
        "In this off-platform project, you will use a Naive Bayes Classifier to find patterns in real tweets. We've given you three files: `new_york.json`, `london.json`, and `paris.json`. These three files contain tweets that we gathered from those locations.\n",
        "\n",
        "The goal is to create a classification algorithm that can classify any tweet (or sentence) and predict whether that sentence came from New York, London, or Paris."
      ]
    },
    {
      "cell_type": "markdown",
      "metadata": {
        "id": "eHd-Q9jyBPFh"
      },
      "source": [
        "# Investigate the Data\n",
        "\n",
        "To begin, let's take a look at the data. We've imported `new_york.json` and printed the following information:\n",
        "* The number of tweets.\n",
        "* The columns, or features, of a tweet.\n",
        "* The text of the 12th tweet in the New York dataset.\n",
        "\n",
        "Run the cell below to see the results."
      ]
    },
    {
      "cell_type": "code",
      "metadata": {
        "scrolled": false,
        "id": "I7PB5Re8BPFi",
        "outputId": "0ba58af1-3b62-4cf9-dcbf-587800786bbc"
      },
      "source": [
        "import pandas as pd\n",
        "\n",
        "new_york_tweets = pd.read_json(\"new_york.json\", lines=True)\n",
        "print(len(new_york_tweets))\n",
        "print(new_york_tweets.columns)\n",
        "print(new_york_tweets.loc[12][\"text\"])"
      ],
      "execution_count": null,
      "outputs": [
        {
          "output_type": "stream",
          "text": [
            "4723\n",
            "Index(['created_at', 'id', 'id_str', 'text', 'display_text_range', 'source',\n",
            "       'truncated', 'in_reply_to_status_id', 'in_reply_to_status_id_str',\n",
            "       'in_reply_to_user_id', 'in_reply_to_user_id_str',\n",
            "       'in_reply_to_screen_name', 'user', 'geo', 'coordinates', 'place',\n",
            "       'contributors', 'is_quote_status', 'quote_count', 'reply_count',\n",
            "       'retweet_count', 'favorite_count', 'entities', 'favorited', 'retweeted',\n",
            "       'filter_level', 'lang', 'timestamp_ms', 'extended_tweet',\n",
            "       'possibly_sensitive', 'quoted_status_id', 'quoted_status_id_str',\n",
            "       'quoted_status', 'quoted_status_permalink', 'extended_entities',\n",
            "       'withheld_in_countries'],\n",
            "      dtype='object')\n",
            "Be best #ThursdayThoughts\n"
          ],
          "name": "stdout"
        }
      ]
    },
    {
      "cell_type": "markdown",
      "metadata": {
        "id": "IDZnH9lHBPFk"
      },
      "source": [
        "In the code block below, load the London and Paris tweets into DataFrames named `london_tweets` and `paris_tweets`.\n",
        "\n",
        "How many London tweets are there? How many Paris ones are there?"
      ]
    },
    {
      "cell_type": "code",
      "metadata": {
        "id": "8hLIIHaDBPFk",
        "outputId": "5fcae179-a8f1-43f0-90a5-50dbcb70771e"
      },
      "source": [
        "london_tweets = pd.read_json('london.json', lines=True)\n",
        "\n",
        "print(len(london_tweets))\n",
        "print(london_tweets.columns)\n",
        "print(london_tweets.loc[12]['text'])"
      ],
      "execution_count": null,
      "outputs": [
        {
          "output_type": "stream",
          "text": [
            "5341\n",
            "Index(['created_at', 'id', 'id_str', 'text', 'display_text_range', 'source',\n",
            "       'truncated', 'in_reply_to_status_id', 'in_reply_to_status_id_str',\n",
            "       'in_reply_to_user_id', 'in_reply_to_user_id_str',\n",
            "       'in_reply_to_screen_name', 'user', 'geo', 'coordinates', 'place',\n",
            "       'contributors', 'is_quote_status', 'extended_tweet', 'quote_count',\n",
            "       'reply_count', 'retweet_count', 'favorite_count', 'entities',\n",
            "       'favorited', 'retweeted', 'filter_level', 'lang', 'timestamp_ms',\n",
            "       'possibly_sensitive', 'quoted_status_id', 'quoted_status_id_str',\n",
            "       'quoted_status', 'quoted_status_permalink', 'extended_entities'],\n",
            "      dtype='object')\n",
            "I saw this on the BBC and thought you should see it:\n",
            "\n",
            "The precious metal sparking a new gold rush - https://t.co/ScW4MOSobZ\n"
          ],
          "name": "stdout"
        }
      ]
    },
    {
      "cell_type": "code",
      "metadata": {
        "id": "CD7QAuzoBPFl",
        "outputId": "bd7d7f5b-fbac-4c47-a8c6-42c9fcea044b"
      },
      "source": [
        "paris_tweets = pd.read_json('new_york.json', lines=True)\n",
        "\n",
        "print(len(paris_tweets))\n",
        "print(paris_tweets.columns)\n",
        "print(paris_tweets.shape)"
      ],
      "execution_count": null,
      "outputs": [
        {
          "output_type": "stream",
          "text": [
            "4723\n",
            "Index(['created_at', 'id', 'id_str', 'text', 'display_text_range', 'source',\n",
            "       'truncated', 'in_reply_to_status_id', 'in_reply_to_status_id_str',\n",
            "       'in_reply_to_user_id', 'in_reply_to_user_id_str',\n",
            "       'in_reply_to_screen_name', 'user', 'geo', 'coordinates', 'place',\n",
            "       'contributors', 'is_quote_status', 'quote_count', 'reply_count',\n",
            "       'retweet_count', 'favorite_count', 'entities', 'favorited', 'retweeted',\n",
            "       'filter_level', 'lang', 'timestamp_ms', 'extended_tweet',\n",
            "       'possibly_sensitive', 'quoted_status_id', 'quoted_status_id_str',\n",
            "       'quoted_status', 'quoted_status_permalink', 'extended_entities',\n",
            "       'withheld_in_countries'],\n",
            "      dtype='object')\n",
            "(4723, 36)\n"
          ],
          "name": "stdout"
        }
      ]
    },
    {
      "cell_type": "code",
      "metadata": {
        "id": "o90cjPzABPFl"
      },
      "source": [
        ""
      ],
      "execution_count": null,
      "outputs": []
    },
    {
      "cell_type": "code",
      "metadata": {
        "id": "3ivHt3IdBPFm"
      },
      "source": [
        ""
      ],
      "execution_count": null,
      "outputs": []
    },
    {
      "cell_type": "markdown",
      "metadata": {
        "id": "RKbNIKWsBPFn"
      },
      "source": [
        "# Classifying using language: Naive Bayes Classifier\n",
        "\n",
        "We're going to create a Naive Bayes Classifier! Let's begin by looking at the way language is used differently in these three locations. Let's grab the text of all of the tweets and make it one big list. In the code block below, we've created a list of all the New York tweets. Do the same for `london_tweets` and `paris_tweets`.\n",
        "\n",
        "Then combine all three into a variable named `all_tweets` by using the `+` operator. For example, `all_tweets = new_york_text + london_text + ...`\n",
        "\n",
        "Let's also make the labels associated with those tweets. `0` represents a New York tweet, `1`  represents a London tweet, and `2` represents a Paris tweet. Finish the definition of `labels`."
      ]
    },
    {
      "cell_type": "code",
      "metadata": {
        "id": "ISCbST4tBPFn"
      },
      "source": [
        "new_york_text = new_york_tweets[\"text\"].tolist()\n",
        "london_text = london_tweets['text'].tolist()\n",
        "paris_text = paris_tweets['text'].tolist()\n",
        "\n",
        "\n",
        "all_tweets = new_york_text + london_text + paris_text\n",
        "labels = [0] * len(new_york_text) + [1] * len(london_text) + [2]*len(paris_text)"
      ],
      "execution_count": null,
      "outputs": []
    },
    {
      "cell_type": "markdown",
      "metadata": {
        "id": "azfkmH3WBPFo"
      },
      "source": [
        "# Making a Training and Test Set\n",
        "\n",
        "We can now break our data into a training set and a test set. We'll use scikit-learn's `train_test_split` function to do this split. This function takes two required parameters: It takes the data, followed by the labels. Set the optional parameter `test_size` to be `0.2`. Finally, set the optional parameter `random_state` to `1`. This will make it so your data is split in the same way as the data in our solution code. \n",
        "\n",
        "Remember, this function returns 4 items in this order:\n",
        "1. The training data\n",
        "2. The testing data\n",
        "3. The training labels\n",
        "4. The testing labels\n",
        "\n",
        "Store the results in variables named `train_data`, `test_data`, `train_labels`, and `test_labels`.\n",
        "\n",
        "Print the length of `train_data` and the length of `test_data`."
      ]
    },
    {
      "cell_type": "code",
      "metadata": {
        "id": "qNDxHp3rBPFp",
        "outputId": "593b9330-8621-4456-eba8-72a26d8ff531"
      },
      "source": [
        "from sklearn.model_selection import train_test_split\n",
        "\n",
        "train_data, test_data, train_labels, test_labels = train_test_split(all_tweets, labels, test_size = 0.2, random_state = 1)\n",
        "\n",
        "print(len(train_data))\n",
        "print(len(test_data))"
      ],
      "execution_count": null,
      "outputs": [
        {
          "output_type": "stream",
          "text": [
            "11829\n",
            "2958\n"
          ],
          "name": "stdout"
        }
      ]
    },
    {
      "cell_type": "markdown",
      "metadata": {
        "id": "Hc97CpXNBPFp"
      },
      "source": [
        "# Making the Count Vectors\n",
        "\n",
        "To use a Naive Bayes Classifier, we need to transform our lists of words into count vectors. Recall that this changes the sentence `\"I love New York, New York\"` into a list that contains:\n",
        "\n",
        "* Two `1`s because the words `\"I\"` and `\"love\"` each appear once.\n",
        "* Two `2`s because the words `\"New\"` and `\"York\"` each appear twice.\n",
        "* Many `0`s because every other word in the training set didn't appear at all.\n",
        "\n",
        "To start, create a `CountVectorizer` named `counter`.\n",
        "\n",
        "Next, call the `.fit()` method using `train_data` as a parameter. This teaches the counter our vocabulary.\n",
        "\n",
        "Finally, let's transform `train_data` and `test_data` into Count Vectors. Call `counter`'s `.transform()` method using `train_data` as a parameter and store the result in `train_counts`. Do the same for `test_data` and store the result in `test_counts`.\n",
        "\n",
        "Print `train_data[3]` and `train_counts[3]` to see what a tweet looks like as a Count Vector."
      ]
    },
    {
      "cell_type": "code",
      "metadata": {
        "id": "1R1mkjX6BPFq"
      },
      "source": [
        "from sklearn.feature_extraction.text import CountVectorizer\n",
        "\n",
        "counter = CountVectorizer()\n",
        "counter.fit(train_data)\n",
        "\n",
        "train_counts = counter.transform(train_data)\n",
        "test_counts = counter.transform(test_data)"
      ],
      "execution_count": null,
      "outputs": []
    },
    {
      "cell_type": "code",
      "metadata": {
        "id": "J_sxrRfIBPFq",
        "outputId": "4afbeebd-72a9-4269-8636-dbd1c9ad80a5"
      },
      "source": [
        "print(train_counts)"
      ],
      "execution_count": null,
      "outputs": [
        {
          "output_type": "stream",
          "text": [
            "<class 'scipy.sparse.csr.csr_matrix'>\n"
          ],
          "name": "stdout"
        }
      ]
    },
    {
      "cell_type": "markdown",
      "metadata": {
        "id": "sgpPfcH-BPFr"
      },
      "source": [
        "# Train and Test the Naive Bayes Classifier\n",
        "\n",
        "We now have the inputs to our classifier. Let's use the CountVectors to train and test the Naive Bayes Classifier!\n",
        "\n",
        "First, make a `MultinomialNB` named `classifier`.\n",
        "\n",
        "Next, call `classifier`'s `.fit()` method. This method takes two parameters &mdash; the training data and the training labels. `train_counts` contains the training data and `train_labels` containts the labels for that data.\n",
        "\n",
        "Calling `.fit()` calculates all of the probabilities used in Bayes Theorem. The model is now ready to quickly predict the location of a new tweet. \n",
        "\n",
        "Finally, let's test our model. `classifier`'s `.predict()` method using `test_counts` as a parameter. Store the results in a variable named `predictions`."
      ]
    },
    {
      "cell_type": "code",
      "metadata": {
        "id": "raV4_W_oBPFr"
      },
      "source": [
        "from sklearn.naive_bayes import MultinomialNB\n",
        "\n",
        "classifier = MultinomialNB()\n",
        "\n",
        "classifier.fit(train_counts, train_labels)\n",
        "\n",
        "predictions = classifier.predict(test_counts)"
      ],
      "execution_count": null,
      "outputs": []
    },
    {
      "cell_type": "code",
      "metadata": {
        "id": "U4ukLm-QBPFs",
        "outputId": "a06ce083-8d69-4eea-d5fc-0162b03216dc"
      },
      "source": [
        "predictions.shape"
      ],
      "execution_count": null,
      "outputs": [
        {
          "output_type": "execute_result",
          "data": {
            "text/plain": [
              "(2958,)"
            ]
          },
          "metadata": {
            "tags": []
          },
          "execution_count": 18
        }
      ]
    },
    {
      "cell_type": "markdown",
      "metadata": {
        "id": "LzkDb2hcBPFs"
      },
      "source": [
        "# Evaluating Your Model\n",
        "\n",
        "Now that the classifier has made its predictions, let's see how well it did. Let's look at two different ways to do this. First, call scikit-learn's `accuracy_score` function. This function should take two parameters &mdash;  the `test_labels` and your `predictions`. Print the results. This prints the percentage of tweets in the test set that the classifier correctly classified.\n",
        "\n"
      ]
    },
    {
      "cell_type": "code",
      "metadata": {
        "id": "JFLfbWlSBPFs",
        "outputId": "baea68fe-4adc-46bb-d2c2-3ae655074633"
      },
      "source": [
        "from sklearn.metrics import accuracy_score\n",
        "accuracy_score(test_labels, predictions)"
      ],
      "execution_count": null,
      "outputs": [
        {
          "output_type": "execute_result",
          "data": {
            "text/plain": [
              "0.3177822853279243"
            ]
          },
          "metadata": {
            "tags": []
          },
          "execution_count": 19
        }
      ]
    },
    {
      "cell_type": "markdown",
      "metadata": {
        "id": "eTYNcxaSBPFt"
      },
      "source": [
        "The other way you can evaluate your model is by looking at the **confusion matrix**. A confusion matrix is a table that describes how your classifier made its predictions. For example, if there were two labels, A and B, a confusion matrix might look like this:\n",
        "\n",
        "```\n",
        "9 1\n",
        "3 5\n",
        "```\n",
        "\n",
        "In this example, the first row shows how the classifier classified the true A's. It guessed that 9 of them were A's and 1 of them was a B. The second row shows how the classifier did on the true B's. It guessed that 3 of them were A's and 5 of them were B's.\n",
        "\n",
        "For our project using tweets, there were three classes &mdash; `0` for New York, `1` for London, and `2` for Paris. You can see the confustion matrix by printing the result of the `confusion_matrix` function using `test_labels` and `predictions` as parameters."
      ]
    },
    {
      "cell_type": "code",
      "metadata": {
        "id": "7HXYotSpBPFt",
        "outputId": "0017653b-e80e-4c15-ca9a-6dbdfc7bcaa6"
      },
      "source": [
        "from sklearn.metrics import confusion_matrix\n",
        "\n",
        "confusion_matrix(test_labels, predictions)"
      ],
      "execution_count": null,
      "outputs": [
        {
          "output_type": "execute_result",
          "data": {
            "text/plain": [
              "array([[ 64, 106, 792],\n",
              "       [113, 811, 123],\n",
              "       [784, 100,  65]])"
            ]
          },
          "metadata": {
            "tags": []
          },
          "execution_count": 20
        }
      ]
    },
    {
      "cell_type": "markdown",
      "metadata": {
        "id": "Dz3KZJM3BPFt"
      },
      "source": [
        "# Test Your Own Tweet\n",
        "\n",
        "Nice work! The confusion matrix should line up with your intuition. The classifier predicts tweets that were actually from New York as either New York tweets or London tweets, but almost never Paris tweets. Similarly, the classifier rarely misclassifies the tweets that were actually from Paris. Tweets coming from two English speaking countries are harder to distinguish than tweets in different languages.\n",
        "\n",
        "Now it's your chance to write a tweet and see how the classifier works! Create a string and store it in a variable named `tweet`. \n",
        "\n",
        "Call `counter`'s `.transform()` method using `[tweet]` as a parameter. Save the result as `tweet_counts`. Notice that your variable has to be in an array &mdash; `.transform()` can't take just a string, it must be a list. \n",
        "\n",
        "Finally, pass `tweet_counts` as parameter to `classifier`'s `.predict()` method. Print the result. This should give you the prediction for the tweet. Remember a `0` represents New York, a `1` represents London, and a `2` represents Paris. Can you write different tweets that the classifier predicts as being from New York, London, and Paris?"
      ]
    },
    {
      "cell_type": "code",
      "metadata": {
        "id": "7ntSy7gaBPFu"
      },
      "source": [
        "tweet = 'this is from paris'\n",
        "\n",
        "tweet_counts = counter.transform([tweet])"
      ],
      "execution_count": null,
      "outputs": []
    },
    {
      "cell_type": "code",
      "metadata": {
        "id": "JRybk2CEBPFu",
        "outputId": "72317b22-45e2-41eb-8c2a-46fe16efca8a"
      },
      "source": [
        "classifier.predict(tweet_counts)"
      ],
      "execution_count": null,
      "outputs": [
        {
          "output_type": "execute_result",
          "data": {
            "text/plain": [
              "array([1])"
            ]
          },
          "metadata": {
            "tags": []
          },
          "execution_count": 22
        }
      ]
    }
  ]
}